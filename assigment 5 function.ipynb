{
 "cells": [
  {
   "cell_type": "markdown",
   "id": "708752a6-a342-4a71-a6cd-9ae015a6f1aa",
   "metadata": {},
   "source": [
    "# For Loop :-"
   ]
  },
  {
   "cell_type": "code",
   "execution_count": 4,
   "id": "aa393a04-b334-4092-b0b6-2865ae47026d",
   "metadata": {},
   "outputs": [
    {
     "name": "stdout",
     "output_type": "stream",
     "text": [
      "1 2 3 4 5 6 7 8 9 10 "
     ]
    }
   ],
   "source": [
    "# 1.\tWrite a Python program to print numbers from 1 to 10 using a for loop.\n",
    "for i in range(1,11):\n",
    "    print(i,end=\" \")"
   ]
  },
  {
   "cell_type": "code",
   "execution_count": null,
   "id": "8827cda2-ecbc-486a-97a7-8a943d1a956d",
   "metadata": {},
   "outputs": [],
   "source": [
    "# 2.\tExplain the difference between a for loop and a while loop in Python.\n"
   ]
  },
  {
   "cell_type": "code",
   "execution_count": 6,
   "id": "fcf95dfb-1792-4c9c-b352-85a4f3f092df",
   "metadata": {},
   "outputs": [
    {
     "name": "stdout",
     "output_type": "stream",
     "text": [
      "5050\n"
     ]
    }
   ],
   "source": [
    "# 3.\tWrite a Python program to calculate the sum of all numbers from 1 to 100 using a for loop.\n",
    "sum1=0\n",
    "for i in range(1,101):\n",
    "    sum1+=i\n",
    "print(sum1)    "
   ]
  },
  {
   "cell_type": "code",
   "execution_count": 9,
   "id": "b49b0198-2eea-419b-b9f4-5e0c6983cd28",
   "metadata": {},
   "outputs": [
    {
     "name": "stdout",
     "output_type": "stream",
     "text": [
      "1\n",
      "2\n",
      "3\n"
     ]
    }
   ],
   "source": [
    "# 4.\tHow do you iterate through a list using a for loop in Python?\n",
    "list1=[1,2,3]\n",
    "for i in list1:\n",
    "    print(i)"
   ]
  },
  {
   "cell_type": "code",
   "execution_count": 11,
   "id": "504e49e5-5673-49ed-9921-74be0db4c404",
   "metadata": {},
   "outputs": [
    {
     "data": {
      "text/plain": [
       "15"
      ]
     },
     "execution_count": 11,
     "metadata": {},
     "output_type": "execute_result"
    }
   ],
   "source": [
    "# 5.\tWrite a Python program to find the product of all elements in a list using a for loop.\n",
    "list2=[1,2,3,4,5]\n",
    "sum([i for i in list2])\n",
    "    "
   ]
  },
  {
   "cell_type": "code",
   "execution_count": 12,
   "id": "6437d87f-ca4a-4cbe-abec-001d3124904f",
   "metadata": {},
   "outputs": [
    {
     "data": {
      "text/plain": [
       "[2, 4, 6, 8, 10, 12, 14, 16, 18, 20]"
      ]
     },
     "execution_count": 12,
     "metadata": {},
     "output_type": "execute_result"
    }
   ],
   "source": [
    "# 6.\tCreate a Python program that prints all even numbers from 1 to 20 using a for loop.\n",
    "[i for i in range(1,21) if i%2==0]"
   ]
  },
  {
   "cell_type": "code",
   "execution_count": 17,
   "id": "7bf63cc5-ec49-486a-b2b2-6ea2a5b258ca",
   "metadata": {},
   "outputs": [
    {
     "name": "stdin",
     "output_type": "stream",
     "text": [
      " 5\n"
     ]
    },
    {
     "name": "stdout",
     "output_type": "stream",
     "text": [
      "120\n"
     ]
    }
   ],
   "source": [
    "# 7.\tWrite a Python program that calculates the factorial of a number using a for loop.\n",
    "n=int(input(\"\"))\n",
    "fact=1\n",
    "for i in range(1,n+1):\n",
    "    fact*=i\n",
    "print(fact)"
   ]
  },
  {
   "cell_type": "code",
   "execution_count": 19,
   "id": "b1ae23ab-81fe-4320-9284-32a9d9f8295b",
   "metadata": {},
   "outputs": [
    {
     "name": "stdout",
     "output_type": "stream",
     "text": [
      "u b a i d "
     ]
    }
   ],
   "source": [
    "# 8.\tHow can you iterate through the characters of a string using a for loop in Python?\n",
    "str1=\"ubaid\"\n",
    "for i in str1:\n",
    "    print(i,end=\" \")"
   ]
  },
  {
   "cell_type": "code",
   "execution_count": 4,
   "id": "e7db45d2-0548-4b59-aff6-1a96f1072649",
   "metadata": {},
   "outputs": [
    {
     "name": "stdout",
     "output_type": "stream",
     "text": [
      "9\n"
     ]
    }
   ],
   "source": [
    "# 9.\tWrite a Python program to find the largest number in a list using a for loop.\n",
    "temp=lst[0]\n",
    "lst=[1,2,4,5,9,7]\n",
    "for i in lst:\n",
    "    if i>temp:\n",
    "        temp=i\n",
    "print(temp)   "
   ]
  },
  {
   "cell_type": "code",
   "execution_count": 11,
   "id": "2cba3645-f6a4-4777-b977-555c7a7be43d",
   "metadata": {},
   "outputs": [
    {
     "name": "stdin",
     "output_type": "stream",
     "text": [
      "please give range 5\n"
     ]
    },
    {
     "name": "stdout",
     "output_type": "stream",
     "text": [
      "0 1 1 2 3 "
     ]
    }
   ],
   "source": [
    "# 10.\tCreate a Python program that prints the Fibonacci sequence up to a specified limit using a for loop.\n",
    "n=int(input(\"please give range\"))\n",
    "a,b,c=0,1,0\n",
    "print(a,b,end=\" \")\n",
    "for i in range(n-2):\n",
    "    c=a+b\n",
    "    print(c,end=\" \")\n",
    "    a=b\n",
    "    b=c"
   ]
  },
  {
   "cell_type": "code",
   "execution_count": 12,
   "id": "ac6a0748-09f3-44ed-973d-03c1ba095ad3",
   "metadata": {},
   "outputs": [
    {
     "name": "stdin",
     "output_type": "stream",
     "text": [
      "please give string to check ubaid\n"
     ]
    },
    {
     "name": "stdout",
     "output_type": "stream",
     "text": [
      "3\n"
     ]
    }
   ],
   "source": [
    "# 11.\tWrite a Python program to count the number of vowels in a given string using a for loop.\n",
    "count=0\n",
    "str2=input(\"please give string to check\")\n",
    "vowel=\"aeiouAEIOU\"\n",
    "for i in str2:\n",
    "    if i in vowel:\n",
    "        count+=1\n",
    "print(count)"
   ]
  },
  {
   "cell_type": "code",
   "execution_count": 15,
   "id": "fcdacaea-1209-4ad3-8d25-58153d5d524d",
   "metadata": {},
   "outputs": [
    {
     "name": "stdin",
     "output_type": "stream",
     "text": [
      "please tell me which table you want 5\n"
     ]
    },
    {
     "name": "stdout",
     "output_type": "stream",
     "text": [
      "5 * 1 = 5\n",
      "5 * 2 = 10\n",
      "5 * 3 = 15\n",
      "5 * 4 = 20\n",
      "5 * 5 = 25\n",
      "5 * 6 = 30\n",
      "5 * 7 = 35\n",
      "5 * 8 = 40\n",
      "5 * 9 = 45\n",
      "5 * 10 = 50\n"
     ]
    }
   ],
   "source": [
    "# 12.\tCreate a Python program that generates a multiplication table for a given number using a for loop.\n",
    "m=int(input(\"please tell me which table you want\"))\n",
    "for i in range(m,m+1):\n",
    "    for j in range(1,11):\n",
    "        print(i,\"*\",j,\"=\",i*j)"
   ]
  },
  {
   "cell_type": "code",
   "execution_count": 24,
   "id": "93c9837c-5713-494b-9d6c-bfe64a4c679b",
   "metadata": {},
   "outputs": [
    {
     "name": "stdout",
     "output_type": "stream",
     "text": [
      "[5, 4, 3, 2, 1]\n"
     ]
    }
   ],
   "source": [
    "# 13.\tWrite a Python program to reverse a list using a for loop.\n",
    "ls=[]\n",
    "lst4=[1,2,3,4,5]\n",
    "for i in lst4:\n",
    "    ls=[i]+ls\n",
    "print(ls)"
   ]
  },
  {
   "cell_type": "code",
   "execution_count": 26,
   "id": "62d947d2-2d2f-4f6e-a8d2-3e1cdbd62181",
   "metadata": {},
   "outputs": [
    {
     "name": "stdout",
     "output_type": "stream",
     "text": [
      "4\n",
      "5\n"
     ]
    }
   ],
   "source": [
    "# 14.\tWrite a Python program to find the common elements between two lists using a for loop.\n",
    "ls1=[1,2,3,4,5]\n",
    "ls2=[5,4,7,8,9]\n",
    "for i in ls1:\n",
    "    for j in ls2:\n",
    "        if i==j:\n",
    "            print(i)"
   ]
  },
  {
   "cell_type": "code",
   "execution_count": null,
   "id": "02d33511-1325-4cf3-81b4-aae08b53cfc3",
   "metadata": {},
   "outputs": [],
   "source": [
    "# 15.\tExplain how to use a for loop to iterate through the keys and values of a dictionary in Python.\n"
   ]
  },
  {
   "cell_type": "code",
   "execution_count": 29,
   "id": "39030baf-d46c-4249-a34c-f47fababca3f",
   "metadata": {},
   "outputs": [
    {
     "data": {
      "text/plain": [
       "2"
      ]
     },
     "execution_count": 29,
     "metadata": {},
     "output_type": "execute_result"
    }
   ],
   "source": [
    "# 16.\tWrite a Python program to find the GCD (Greatest Common Divisor) of two numbers using a for loop.\n",
    "import math\n",
    "math.gcd(2,4)"
   ]
  },
  {
   "cell_type": "code",
   "execution_count": 1,
   "id": "5ce9589a-d67d-4397-9ec5-5558fc128781",
   "metadata": {},
   "outputs": [
    {
     "name": "stdout",
     "output_type": "stream",
     "text": [
      "string is palindrome\n"
     ]
    }
   ],
   "source": [
    "# 17.\tCreate a Python program that checks if a string is a palindrome using a for loop.\n",
    "str3=\"rotor\"\n",
    "if str3[:]==str3[::-1]:\n",
    "    print(\"string is palindrome\")\n",
    "else:\n",
    "    print(\"not palindrome\")"
   ]
  },
  {
   "cell_type": "code",
   "execution_count": 13,
   "id": "fb8b2e3b-ac7e-4c99-8cea-0935ba3a01c0",
   "metadata": {},
   "outputs": [
    {
     "name": "stdout",
     "output_type": "stream",
     "text": [
      "[1, 2, 3, 4, 5, 7, 8, 9, 6]\n"
     ]
    }
   ],
   "source": [
    "# 18.\tWrite a Python program to remove duplicates from a list using a for loop.\n",
    "lst4=[1,2,3,4,1,2,5,4,7,5,8,9,6,3,2,4]\n",
    "lst5=[]\n",
    "for i in lst4:\n",
    "    if i not in lst5:\n",
    "        lst5.append(i)\n",
    "print(lst5)"
   ]
  },
  {
   "cell_type": "code",
   "execution_count": 16,
   "id": "06278543-1749-4cd8-bfc2-04ca5b50077a",
   "metadata": {},
   "outputs": [
    {
     "name": "stdin",
     "output_type": "stream",
     "text": [
      "please give sentence ubaid arshad\n"
     ]
    },
    {
     "name": "stdout",
     "output_type": "stream",
     "text": [
      "11\n"
     ]
    }
   ],
   "source": [
    "# 19.\tCreate a Python program that counts the number of words in a sentence using a for loop.\n",
    "count=0\n",
    "n=input(\"please give sentence\")\n",
    "for i in n:\n",
    "    count+=1\n",
    "    if i==\" \":\n",
    "        count-=1\n",
    "print(count)        "
   ]
  },
  {
   "cell_type": "code",
   "execution_count": 19,
   "id": "92edd596-3337-4c84-8c60-3833d8f4e656",
   "metadata": {},
   "outputs": [
    {
     "data": {
      "text/plain": [
       "625"
      ]
     },
     "execution_count": 19,
     "metadata": {},
     "output_type": "execute_result"
    }
   ],
   "source": [
    "# 20.\tWrite a Python program to find the sum of all odd numbers from 1 to 50 using a for loop.\n",
    "sum([i for i in range(1,51) if i%2!=0])"
   ]
  },
  {
   "cell_type": "code",
   "execution_count": 27,
   "id": "95e55963-dde2-435c-b095-7c4128e105f3",
   "metadata": {},
   "outputs": [
    {
     "name": "stdin",
     "output_type": "stream",
     "text": [
      "please give me year to check 1992\n"
     ]
    },
    {
     "name": "stdout",
     "output_type": "stream",
     "text": [
      "leap year\n"
     ]
    }
   ],
   "source": [
    "# 21.\tWrite a Python program that checks if a given year is a leap year using a for loop.\n",
    "year=int(input(\"please give me year to check\"))\n",
    "if year%4==0:\n",
    "    if year%100!=0 or year%400==0:\n",
    "        print(\"leap year\")\n",
    "else:\n",
    "    print(\"not leap year\")"
   ]
  },
  {
   "cell_type": "code",
   "execution_count": 32,
   "id": "70c627ad-1227-4b51-80ce-42c39b28be9f",
   "metadata": {},
   "outputs": [
    {
     "name": "stdin",
     "output_type": "stream",
     "text": [
      "please give number 25\n"
     ]
    },
    {
     "name": "stdout",
     "output_type": "stream",
     "text": [
      "5.0\n"
     ]
    }
   ],
   "source": [
    "# 22.\tCreate a Python program that calculates the square root of a number using a for loop.\n",
    "import math\n",
    "num=int(input(\"please give number\"))\n",
    "print(math.sqrt(num))"
   ]
  },
  {
   "cell_type": "code",
   "execution_count": 41,
   "id": "3837ddd3-0128-49e1-8628-195295adce0d",
   "metadata": {},
   "outputs": [
    {
     "name": "stdin",
     "output_type": "stream",
     "text": [
      "please give number 2\n",
      "please give number 4\n"
     ]
    },
    {
     "data": {
      "text/plain": [
       "4"
      ]
     },
     "execution_count": 41,
     "metadata": {},
     "output_type": "execute_result"
    }
   ],
   "source": [
    "# 23.\tWrite a Python program to find the LCM (Least Common Multiple) of two numbers using a for loop.\n",
    "import math\n",
    "a=int(input(\"please give number\"))\n",
    "b=int(input(\"please give number\"))\n",
    "math.lcm(a,b)"
   ]
  },
  {
   "cell_type": "markdown",
   "id": "98f800b0-42bb-477d-bc1c-6de95723250b",
   "metadata": {},
   "source": [
    "# If else :"
   ]
  },
  {
   "cell_type": "code",
   "execution_count": 44,
   "id": "c8106fd6-c008-4fed-824a-f985c852c25d",
   "metadata": {},
   "outputs": [
    {
     "name": "stdin",
     "output_type": "stream",
     "text": [
      "please give number -5\n"
     ]
    },
    {
     "name": "stdout",
     "output_type": "stream",
     "text": [
      "no. is negative\n"
     ]
    }
   ],
   "source": [
    "# 1.Write a Python program to check if a number is positive, negative, or zero using an if-else statement.\n",
    "num=int(input(\"please give number\"))\n",
    "if num>=0:\n",
    "    if num==0:\n",
    "        print(\"no. is\",num)\n",
    "    else:\n",
    "        print(\"no. is positive\")\n",
    "else:\n",
    "    print(\"no. is negative\")"
   ]
  },
  {
   "cell_type": "code",
   "execution_count": 47,
   "id": "5fcdcd76-a5d5-4e43-b914-944938a28fc8",
   "metadata": {},
   "outputs": [
    {
     "name": "stdin",
     "output_type": "stream",
     "text": [
      "please give number 7\n"
     ]
    },
    {
     "name": "stdout",
     "output_type": "stream",
     "text": [
      "odd number\n"
     ]
    }
   ],
   "source": [
    "# 2.Create a Python program that checks if a given number is even or odd using an if-else statement.\n",
    "num1=int(input(\"please give number\"))\n",
    "if num1%2==0:\n",
    "    print(\"even number\")\n",
    "else:\n",
    "    print(\"odd number\")"
   ]
  },
  {
   "cell_type": "code",
   "execution_count": null,
   "id": "ec103b63-042e-4edd-9414-10946d49cc41",
   "metadata": {},
   "outputs": [],
   "source": [
    "# 3.How can you use nested if-else statements in Python, and provide an example?\n",
    "\n"
   ]
  },
  {
   "cell_type": "code",
   "execution_count": 4,
   "id": "d3dfeaf3-61a4-4627-a1c6-3f5107aa32cd",
   "metadata": {},
   "outputs": [
    {
     "name": "stdin",
     "output_type": "stream",
     "text": [
      "please give number1 1\n",
      "please give number2 2\n",
      "please give number3 3\n"
     ]
    },
    {
     "name": "stdout",
     "output_type": "stream",
     "text": [
      "number 3 is greatest\n"
     ]
    }
   ],
   "source": [
    "# 4.Write a Python program to determine the largest of three numbers using if-else.\n",
    "num2=int(input(\"please give number1\"))\n",
    "num3=int(input(\"please give number2\"))\n",
    "num4=int(input(\"please give number3\"))\n",
    "if num2>num3 and num2>num4:\n",
    "    print(\"number 1 is greatest\")\n",
    "elif num3>num4 and num3>num2:\n",
    "    print(\"number 2 is greatest\")\n",
    "else:\n",
    "    print(\"number 3 is greatest\")\n",
    "    "
   ]
  },
  {
   "cell_type": "code",
   "execution_count": 7,
   "id": "63cb0819-1faa-4a30-8358-6dcc29ef12ce",
   "metadata": {},
   "outputs": [
    {
     "name": "stdin",
     "output_type": "stream",
     "text": [
      "please give number 9\n"
     ]
    },
    {
     "name": "stdout",
     "output_type": "stream",
     "text": [
      "absolute value is: 9\n"
     ]
    }
   ],
   "source": [
    "# 5.Write a Python program that calculates the absolute value of a number using if-else.\n",
    "b_absolute=int(input(\"please give number\"))\n",
    "if b_absolute>=0:\n",
    "    print(\"absolute value is:\",b_absolute)\n",
    "else:\n",
    "    print(\"absolute value is:\",-b_absolute)"
   ]
  },
  {
   "cell_type": "code",
   "execution_count": 10,
   "id": "457b1fdf-f2c7-4e08-847c-e72c35218f08",
   "metadata": {},
   "outputs": [
    {
     "name": "stdin",
     "output_type": "stream",
     "text": [
      "please give character O\n"
     ]
    },
    {
     "name": "stdout",
     "output_type": "stream",
     "text": [
      "vowel\n"
     ]
    }
   ],
   "source": [
    "# 6.Create a Python program that checks if a given character is a vowel or consonant using if-else.\n",
    "vowel=\"aeiouAEIUO\"\n",
    "CHECK_VOWEL=input(\"please give character\")\n",
    "if CHECK_VOWEL in vowel:\n",
    "    print(\"vowel\")\n",
    "else:\n",
    "    print(\"consonant\")"
   ]
  },
  {
   "cell_type": "code",
   "execution_count": 13,
   "id": "e1081013-aeb6-4567-8953-e933df16bc1e",
   "metadata": {},
   "outputs": [
    {
     "name": "stdin",
     "output_type": "stream",
     "text": [
      "please give number 78\n"
     ]
    },
    {
     "name": "stdout",
     "output_type": "stream",
     "text": [
      "you are eligible to vote\n"
     ]
    }
   ],
   "source": [
    "# 7.Write a Python program to determine if a user is eligible to vote based on their age using if-else.\n",
    "age=int(input(\"please give number\"))\n",
    "if age>=18:\n",
    "    print(\"you are eligible to vote\")\n",
    "else:\n",
    "    print(\"you are not eligible to vote\")"
   ]
  },
  {
   "cell_type": "code",
   "execution_count": 15,
   "id": "c5d223d9-2c62-4ec9-9451-ab4fd16b0de4",
   "metadata": {},
   "outputs": [
    {
     "name": "stdin",
     "output_type": "stream",
     "text": [
      "please give mrp 5200\n"
     ]
    },
    {
     "name": "stdout",
     "output_type": "stream",
     "text": [
      "you get a 50% discount\n",
      "you have to pay Rs: 2600.0 only\n",
      "Thanks for your visit\n"
     ]
    }
   ],
   "source": [
    "# 8.Create a Python program that calculates the discount amount based on the purchase amount using if-else.\n",
    "price=int(input(\"please give mrp\"))\n",
    "if price >=5000:\n",
    "    print(\"you get a 50% discount\")\n",
    "    print(\"you have to pay Rs:\",price*0.5,\"only\")\n",
    "    print(\"Thanks for your visit\")\n",
    "else:\n",
    "    print(\"you have to pay Rs:\",price,\"only\")\n",
    "    print(\"Thanks for your visit\")"
   ]
  },
  {
   "cell_type": "code",
   "execution_count": 17,
   "id": "0b197fec-ae35-4f89-9831-4b077df6c1f7",
   "metadata": {},
   "outputs": [
    {
     "name": "stdin",
     "output_type": "stream",
     "text": [
      "please give input 66\n"
     ]
    },
    {
     "name": "stdout",
     "output_type": "stream",
     "text": [
      "the value are not in given range\n"
     ]
    }
   ],
   "source": [
    "# 9.Write a Python program to check if a number is within a specified range using if-else.\n",
    "number=int(input(\"please give input\"))\n",
    "if number>=18 and number<=65:\n",
    "    print(\"the value are in given range\")\n",
    "else:\n",
    "    print(\"the value are not in given range\")"
   ]
  },
  {
   "cell_type": "code",
   "execution_count": 19,
   "id": "7038885b-30da-4c21-8158-2d2264390ad2",
   "metadata": {},
   "outputs": [
    {
     "name": "stdin",
     "output_type": "stream",
     "text": [
      "please give number 32\n"
     ]
    },
    {
     "name": "stdout",
     "output_type": "stream",
     "text": [
      "Grade D awarded\n"
     ]
    }
   ],
   "source": [
    "# 10.Create a Python program that determines the grade of a student based on their score using if-else.\n",
    "nmbr=int(input(\"please give number\"))\n",
    "if nmbr>=86 and nmbr<=100:\n",
    "    print(\"Grade A awarded\")\n",
    "elif nmbr>=66 and nmbr<=85:\n",
    "    print(\"Grade B awarded\")\n",
    "elif nmbr>=46 and nmbr<=65:\n",
    "    print(\"Grade C awarded\")\n",
    "else:\n",
    "    print(\"Grade D awarded\")"
   ]
  },
  {
   "cell_type": "code",
   "execution_count": 21,
   "id": "6c7fc297-985d-4c4b-a755-f425764bb00b",
   "metadata": {},
   "outputs": [
    {
     "name": "stdin",
     "output_type": "stream",
     "text": [
      "please give string as input \n"
     ]
    },
    {
     "name": "stdout",
     "output_type": "stream",
     "text": [
      "string is empty\n"
     ]
    }
   ],
   "source": [
    "# 11.Write a Python program to check if a string is empty or not using if-else.\n",
    "string=input(\"please give string as input\")\n",
    "if len(string)==0:\n",
    "    print(\"string is empty\")\n",
    "else:\n",
    "    print(\"string is not empty\")"
   ]
  },
  {
   "cell_type": "code",
   "execution_count": 24,
   "id": "0d9b489e-8dec-4aed-8dcf-119f63a786e1",
   "metadata": {},
   "outputs": [
    {
     "name": "stdin",
     "output_type": "stream",
     "text": [
      "please give side 1 1\n",
      "please give side 2 2\n",
      "please give side 3 1\n"
     ]
    },
    {
     "name": "stdout",
     "output_type": "stream",
     "text": [
      "isoceles triangle\n"
     ]
    }
   ],
   "source": [
    "# 12.Create a Python program that identifies the type of a triangle (e.g., equilateral, isosceles, or scalene) based on input values using if-else.\n",
    "s1=int(input(\"please give side 1\"))\n",
    "s2=int(input(\"please give side 2\"))\n",
    "s3=int(input(\"please give side 3\"))\n",
    "if s1==s2==s3:\n",
    "    print(\"equilateral triangle\")\n",
    "elif s1==s2 and s1!=s3:\n",
    "    print(\"isoceles traingle\")\n",
    "elif s1==s3 and s1!=s2:\n",
    "    print(\"isoceles triangle\")\n",
    "else:\n",
    "    print(\"scalene triangle\")"
   ]
  },
  {
   "cell_type": "code",
   "execution_count": 26,
   "id": "dbbf08dc-ddb9-423f-aa2b-0720913dbc0c",
   "metadata": {},
   "outputs": [
    {
     "name": "stdin",
     "output_type": "stream",
     "text": [
      "please give value 5\n"
     ]
    },
    {
     "name": "stdout",
     "output_type": "stream",
     "text": [
      "friday\n"
     ]
    }
   ],
   "source": [
    "# 13.Write a Python program to determine the day of the week based on a user-provided number using if-else.\n",
    "bn=int(input(\"please give value\"))\n",
    "database={1:\"monday\",2:\"tuesday\",3:\"wednesday\",4:\"thursday\",5:\"friday\",6:\"saturday\",7:\"sunday\"}\n",
    "week=database.get(bn)\n",
    "print(week)"
   ]
  },
  {
   "cell_type": "code",
   "execution_count": 49,
   "id": "a0993964-2b64-49dd-9146-8f4aad9c756e",
   "metadata": {},
   "outputs": [],
   "source": [
    "# 14.Create a Python program that checks if a given year is a leap year using both if-else and a function.\n",
    "def test(a):\n",
    "    if a%4==0:\n",
    "        if a%100!=0 or a%400==0:\n",
    "            print(\"leap year\")\n",
    "    else:\n",
    "        print(\"not a leap year\")       "
   ]
  },
  {
   "cell_type": "code",
   "execution_count": 52,
   "id": "f7fa7e92-658f-4506-aed9-3082b7eb8d5f",
   "metadata": {},
   "outputs": [
    {
     "name": "stdout",
     "output_type": "stream",
     "text": [
      "not a leap year\n"
     ]
    }
   ],
   "source": [
    "# 15.How do you use the \"assert\" statement in Python to add debugging checks within if-else blocks?\n"
   ]
  },
  {
   "cell_type": "code",
   "execution_count": 54,
   "id": "2d46a0f9-98db-4023-a939-26b48cb05cf4",
   "metadata": {},
   "outputs": [
    {
     "name": "stdin",
     "output_type": "stream",
     "text": [
      "please give age 69\n"
     ]
    },
    {
     "name": "stdout",
     "output_type": "stream",
     "text": [
      "you get a 50% discount\n",
      "Thanks for travelling\n"
     ]
    }
   ],
   "source": [
    "# 16.Create a Python program that determines the eligibility of a person for a senior citizen discount based on age using if-else.\n",
    "senior=int(input(\"please give age\"))\n",
    "if senior >=60:\n",
    "    print(\"you get a 50% discount\")\n",
    "    print(\"Thanks for travelling\")\n",
    "else:\n",
    "    print(\"you are not eligible for discount\")\n",
    "    print(\"Thanks for travelling\")"
   ]
  },
  {
   "cell_type": "code",
   "execution_count": 55,
   "id": "c1e5e415-233b-4383-88a9-8dbedd364625",
   "metadata": {},
   "outputs": [
    {
     "name": "stdin",
     "output_type": "stream",
     "text": [
      "please give string as input UBAID\n"
     ]
    },
    {
     "name": "stdout",
     "output_type": "stream",
     "text": [
      "string is in upper case\n"
     ]
    }
   ],
   "source": [
    "# 17.Write a Python program to categorize a given character as uppercase, lowercase, or neither using if-else.\n",
    "string1=input(\"please give string as input\")\n",
    "if string1.isupper():\n",
    "    print(\"string is in upper case\")\n",
    "elif string1.islower():\n",
    "    print(\"string is in lower case\")\n",
    "else:\n",
    "    print(\"neither of upper or lower\")"
   ]
  },
  {
   "cell_type": "code",
   "execution_count": 60,
   "id": "12589622-b2bb-40d4-94d5-17ff11bda73d",
   "metadata": {},
   "outputs": [
    {
     "name": "stdin",
     "output_type": "stream",
     "text": [
      "please give value a 4\n",
      "please give value b 5\n",
      "please give value c 6\n"
     ]
    },
    {
     "name": "stdout",
     "output_type": "stream",
     "text": [
      "roots are (-0.625+1.0532687216470449j) (-0.625-1.0532687216470449j)\n"
     ]
    }
   ],
   "source": [
    "# 18.Write a Python program to determine the roots of a quadratic equation using if-else.\n",
    "import cmath\n",
    "a=int(input(\"please give value a\"))\n",
    "b=int(input(\"please give value b\"))\n",
    "c=int(input(\"please give value c\"))\n",
    "d=(b**2)-(4*a*c)\n",
    "root1=(-b+(cmath.sqrt(d)))/(2*a)\n",
    "root2=(-b-(cmath.sqrt(d)))/(2*a)\n",
    "print(\"roots are\",root1,root2)"
   ]
  },
  {
   "cell_type": "code",
   "execution_count": 62,
   "id": "8648690a-7b2c-4562-a096-d4be5f91364a",
   "metadata": {},
   "outputs": [
    {
     "name": "stdin",
     "output_type": "stream",
     "text": [
      "please give year 1900\n"
     ]
    },
    {
     "name": "stdout",
     "output_type": "stream",
     "text": [
      "century year\n"
     ]
    }
   ],
   "source": [
    "# 19.Create a Python program that checks if a given year is a century year or not using if-else.\n",
    "yr=int(input(\"please give year\"))\n",
    "if yr%100==0:\n",
    "    print(\"century year\")\n",
    "else:\n",
    "    print(\"not century year\")"
   ]
  },
  {
   "cell_type": "code",
   "execution_count": 7,
   "id": "4edb14cc-9642-47d2-b9d9-2fe8b12dc50a",
   "metadata": {},
   "outputs": [
    {
     "name": "stdin",
     "output_type": "stream",
     "text": [
      "please give value 25\n"
     ]
    },
    {
     "name": "stdout",
     "output_type": "stream",
     "text": [
      "5.0 perfect square\n"
     ]
    }
   ],
   "source": [
    "# 20.Write a Python program to determine if a given number is a perfect square using if-else.\n",
    "import math\n",
    "jk=int(input(\"please give value\"))\n",
    "jk1=math.sqrt(jk)\n",
    "if jk1.is_integer():\n",
    "    print(jk1,\"perfect square\")\n",
    "else:\n",
    "    print(jk1,\"not perfect square\")"
   ]
  },
  {
   "cell_type": "code",
   "execution_count": null,
   "id": "37ecbcae-82b1-4e45-bde1-94ff6b6e4676",
   "metadata": {},
   "outputs": [],
   "source": [
    "# 21.Explain the purpose of the \"continue\" and \"break\" statements within if-else loops.\n"
   ]
  },
  {
   "cell_type": "code",
   "execution_count": 1,
   "id": "fa2849ad-6f02-4919-b1a9-f5b32efe2918",
   "metadata": {},
   "outputs": [
    {
     "name": "stdin",
     "output_type": "stream",
     "text": [
      "your weight is: 80\n",
      "your height is: 5.6\n"
     ]
    },
    {
     "name": "stdout",
     "output_type": "stream",
     "text": [
      "under weight\n"
     ]
    }
   ],
   "source": [
    "# 22.Create a Python program that calculates the BMI (Body Mass Index) of a person based on their weight and height using if-else.\n",
    "weight=int(input(\"your weight is:\"))\n",
    "height=float(input(\"your height is:\"))\n",
    "bmi=(weight/(height**2))\n",
    "if bmi<18.5:\n",
    "    print(\"under weight\")\n",
    "elif bmi>18.5 and bmi<=25:\n",
    "    print(\"over weight\")\n",
    "elif bmi>25:\n",
    "    print(\"obesity\")"
   ]
  },
  {
   "cell_type": "code",
   "execution_count": null,
   "id": "7f5ae6b9-a751-4f45-8ade-7dc9480eed84",
   "metadata": {},
   "outputs": [],
   "source": [
    "# 23.How can you use the \"filter()\" function with if-else statements to filter elements from a list?\n"
   ]
  },
  {
   "cell_type": "code",
   "execution_count": 21,
   "id": "3de0378d-65cf-4887-aabe-1b32d5828ccf",
   "metadata": {},
   "outputs": [
    {
     "name": "stdin",
     "output_type": "stream",
     "text": [
      "plz gve the input 9\n"
     ]
    },
    {
     "name": "stdout",
     "output_type": "stream",
     "text": [
      "not prime number\n"
     ]
    }
   ],
   "source": [
    "# 24.Write a Python program to determine if a given number is prime or not using if-else.\n",
    "i=int(input(\"plz gve the input\"))\n",
    "for j in range(2,i):\n",
    "    if (i%j)==0:\n",
    "        print(\"not prime number\")\n",
    "        break\n",
    "else:\n",
    "    print(\"no. is prime\")\n",
    "        "
   ]
  },
  {
   "cell_type": "markdown",
   "id": "2947ebc7-f46b-4996-992b-8053ac80dc94",
   "metadata": {},
   "source": [
    "# Map :-"
   ]
  },
  {
   "cell_type": "code",
   "execution_count": null,
   "id": "7473d0f0-26b8-40c8-beb1-099054e46307",
   "metadata": {},
   "outputs": [],
   "source": [
    "\n",
    "# 1.\tExplain the purpose of the `map()` function in Python and provide an example of how it can be used to apply a function to each element of an iterable.\n"
   ]
  },
  {
   "cell_type": "code",
   "execution_count": 23,
   "id": "7c5dc94b-39fb-4222-8518-dd03ef547503",
   "metadata": {},
   "outputs": [
    {
     "name": "stdout",
     "output_type": "stream",
     "text": [
      "[4, 25, 49, 64, 81]\n"
     ]
    }
   ],
   "source": [
    "# 2.\tWrite a Python program that uses the `map()` function to square each element of a list of numbers.\n",
    "ls=[2,5,7,8,9]\n",
    "square=map(lambda a:a**2,ls)\n",
    "print(list(square))"
   ]
  },
  {
   "cell_type": "code",
   "execution_count": null,
   "id": "47bcfbca-1679-4a25-9810-9ce4b88537f1",
   "metadata": {},
   "outputs": [],
   "source": [
    "# 3.\tHow does the `map()` function differ from a list comprehension in Python, and when would you choose one over the other?\n"
   ]
  },
  {
   "cell_type": "code",
   "execution_count": 25,
   "id": "424d2af7-db1c-44f2-befb-4a48ea7d6539",
   "metadata": {},
   "outputs": [
    {
     "name": "stdout",
     "output_type": "stream",
     "text": [
      "['UBAID', 'ARSHAD', 'RAM']\n"
     ]
    }
   ],
   "source": [
    "# 4.\tCreate a Python program that uses the `map()` function to convert a list of names to uppercase.\n",
    "list4=[\"ubaid\",\"arshad\",\"ram\"]\n",
    "upper=map(lambda u:u.upper(),list4)\n",
    "print(list(upper))"
   ]
  },
  {
   "cell_type": "code",
   "execution_count": 26,
   "id": "52ebd4db-8e6b-473f-88ee-bfde11a4eea7",
   "metadata": {},
   "outputs": [
    {
     "name": "stdout",
     "output_type": "stream",
     "text": [
      "[5, 6, 3]\n"
     ]
    }
   ],
   "source": [
    "# 5.\tWrite a Python program that uses the `map()` function to calculate the length of each word in a list of strings.\n",
    "list4=[\"ubaid\",\"arshad\",\"ram\"]\n",
    "length=map(lambda l:len(l),list4)\n",
    "print(list(length))"
   ]
  },
  {
   "cell_type": "code",
   "execution_count": null,
   "id": "96c91eb5-9934-4f40-b457-9912990d6dc6",
   "metadata": {},
   "outputs": [],
   "source": [
    "# 6.\tHow can you use the `map()` function to apply a custom function to elements of multiple lists simultaneously in Python?\n"
   ]
  },
  {
   "cell_type": "code",
   "execution_count": 27,
   "id": "84dd38e0-8651-44e8-a301-2f9135387cd5",
   "metadata": {},
   "outputs": [
    {
     "name": "stdout",
     "output_type": "stream",
     "text": [
      "[50.0, 68.0, 77.0, 86.0, 136.4]\n"
     ]
    }
   ],
   "source": [
    "# 7.\tCreate a Python program that uses `map()` to convert a list of temperatures from Celsius to Fahrenheit.\n",
    "list5=[10,20,25,30,58]\n",
    "ctof=map(lambda n:n*1.8+32,list5)\n",
    "print(list(ctof))"
   ]
  },
  {
   "cell_type": "code",
   "execution_count": 34,
   "id": "5a664abb-f275-492c-b38d-57536c3350d3",
   "metadata": {},
   "outputs": [
    {
     "name": "stdout",
     "output_type": "stream",
     "text": [
      "[1, 6, 5, 4, 7, 9]\n"
     ]
    }
   ],
   "source": [
    "# 8.\tWrite a Python program that uses the `map()` function to round each element of a list of floating-point numbers to the nearest integer.\n",
    "lsit6=[1.25,5.69,4.58,3.65,7.01,8.55]\n",
    "near_int=map(lambda s: round(s),lsit6)\n",
    "print(list(near_int))"
   ]
  },
  {
   "cell_type": "markdown",
   "id": "26794d42-9191-42f0-96e0-bb6e12a6ae4a",
   "metadata": {},
   "source": [
    "# Reduce :-\n"
   ]
  },
  {
   "cell_type": "code",
   "execution_count": null,
   "id": "dc55d7fa-8ff6-43b4-9cdb-ed4d1692fc15",
   "metadata": {},
   "outputs": [],
   "source": [
    "# 1.\tWhat is the `reduce()` function in Python, and what module should you import to use it? Provide an example of its basic usage.\n"
   ]
  },
  {
   "cell_type": "code",
   "execution_count": 39,
   "id": "3ba67f40-5df1-4f6f-8c82-4e81d41bf7ab",
   "metadata": {},
   "outputs": [
    {
     "name": "stdout",
     "output_type": "stream",
     "text": [
      "10\n"
     ]
    }
   ],
   "source": [
    "# 2.\tWrite a Python program that uses the `reduce()` function to find the product of all elements in a list.\n",
    "from functools import reduce\n",
    "list6=[1,2,5]\n",
    "product=reduce(lambda a,b:a*b,list6)\n",
    "print(product)\n"
   ]
  },
  {
   "cell_type": "code",
   "execution_count": 41,
   "id": "5cfea56d-e7a2-4ddc-aa2d-c64912670573",
   "metadata": {},
   "outputs": [
    {
     "name": "stdout",
     "output_type": "stream",
     "text": [
      "5\n"
     ]
    }
   ],
   "source": [
    "# 3.\tCreate a Python program that uses `reduce()` to find the maximum element in a list of numbers.\n",
    "list6=[1,2,5]\n",
    "max=reduce(lambda n,m:m if m>n else n,list6)\n",
    "print(max)"
   ]
  },
  {
   "cell_type": "code",
   "execution_count": 42,
   "id": "f85efd80-c566-40e5-858e-4cb82ed531a3",
   "metadata": {},
   "outputs": [
    {
     "name": "stdout",
     "output_type": "stream",
     "text": [
      "ubaidarshadisseriousman\n"
     ]
    }
   ],
   "source": [
    "# 4.\tHow can you use the `reduce()` function to concatenate a list of strings into a single string?\n",
    "list7=[\"ubaid\",\"arshad\",\"is\",\"serious\",\"man\"]\n",
    "concat=reduce(lambda x,y:x+y,list7)\n",
    "print(concat)"
   ]
  },
  {
   "cell_type": "code",
   "execution_count": 51,
   "id": "e0e2ead3-5404-4132-8888-98c8bc70306b",
   "metadata": {},
   "outputs": [],
   "source": [
    "# 5.\tWrite a Python program that calculates the factorial of a number using the `reduce()` function.\n",
    "def fact(n):\n",
    "    facto=1\n",
    "    for i in range(1,n+1):\n",
    "        facto=facto*i\n",
    "    return facto"
   ]
  },
  {
   "cell_type": "code",
   "execution_count": 52,
   "id": "0da660bf-c70e-4a5b-bb60-c93b0e164b1c",
   "metadata": {},
   "outputs": [
    {
     "data": {
      "text/plain": [
       "120"
      ]
     },
     "execution_count": 52,
     "metadata": {},
     "output_type": "execute_result"
    }
   ],
   "source": [
    "fact(5)"
   ]
  },
  {
   "cell_type": "code",
   "execution_count": 3,
   "id": "05394e2b-a158-4093-9773-b2dfbdd40ecd",
   "metadata": {},
   "outputs": [
    {
     "data": {
      "text/plain": [
       "120"
      ]
     },
     "execution_count": 3,
     "metadata": {},
     "output_type": "execute_result"
    }
   ],
   "source": [
    "from functools import reduce\n",
    "n=5\n",
    "reduce(lambda r,h:r*h,range(1,n+1))"
   ]
  },
  {
   "cell_type": "code",
   "execution_count": 5,
   "id": "9f14a255-9789-4f16-a03d-a27aeb065de4",
   "metadata": {},
   "outputs": [
    {
     "name": "stdout",
     "output_type": "stream",
     "text": [
      "2\n"
     ]
    }
   ],
   "source": [
    "# 6.\tCreate a Python program that uses `reduce()` to find the GCD (Greatest Common Divisor) of a list of numbers.\n",
    "import math\n",
    "from functools import reduce\n",
    "list9=[2,4,6]\n",
    "gcd=reduce(lambda a,b:math.gcd(a,b),list9)\n",
    "print(gcd)"
   ]
  },
  {
   "cell_type": "code",
   "execution_count": 7,
   "id": "98f477ab-fa20-465b-9445-baa8b34c0aca",
   "metadata": {},
   "outputs": [
    {
     "name": "stdout",
     "output_type": "stream",
     "text": [
      "23\n"
     ]
    }
   ],
   "source": [
    "# 7.\tWrite a Python program that uses the `reduce()` function to find the sum of the digits of a given number.\n",
    "lst5=[1,2,5,7,8]\n",
    "sum2=reduce(lambda f,g:f+g,lst5)\n",
    "print(sum2)"
   ]
  },
  {
   "cell_type": "markdown",
   "id": "f9bf1961-8f54-4889-b2fd-3289f4b4689d",
   "metadata": {},
   "source": [
    "# Filter :-\n"
   ]
  },
  {
   "cell_type": "code",
   "execution_count": null,
   "id": "f68dd61c-8468-4b22-8eac-4fd7b9c93667",
   "metadata": {},
   "outputs": [],
   "source": [
    "# 1.\tExplain the purpose of the `filter()` function in Python and provide an example of how it can be used to filter elements from an iterable.\n"
   ]
  },
  {
   "cell_type": "code",
   "execution_count": 10,
   "id": "66307f5e-9555-4799-9a35-b6c074f0b689",
   "metadata": {},
   "outputs": [
    {
     "name": "stdout",
     "output_type": "stream",
     "text": [
      "[2, 4, 6, 8]\n"
     ]
    }
   ],
   "source": [
    "# 2.\tWrite a Python program that uses the `filter()` function to select even numbers from a list of integers.\n",
    "lst=[1,2,3,4,5,6,7,8,9]\n",
    "s=filter(lambda a:a if a%2==0 else \"\",lst)\n",
    "print(list(s))"
   ]
  },
  {
   "cell_type": "code",
   "execution_count": 20,
   "id": "ca8fdecd-34a0-409a-9a79-a3bb2d32f93b",
   "metadata": {},
   "outputs": [
    {
     "name": "stdout",
     "output_type": "stream",
     "text": [
      "['dettol', 'default', 'danger']\n"
     ]
    }
   ],
   "source": [
    "# 3.\tCreate a Python program that uses the `filter()` function to select names that start with a specific letter from a list of strings.\n",
    "lst_names=[\"ubaid\",\"uzair\",\"dettol\",\"default\",\"danger\"]\n",
    "specific=filter(lambda a:a if a.startswith(\"d\") else \"\",lst_names)\n",
    "print(list(specific))"
   ]
  },
  {
   "cell_type": "code",
   "execution_count": 7,
   "id": "6956e5fe-9700-46a4-837c-1f17b7e25dd4",
   "metadata": {},
   "outputs": [],
   "source": [
    "# 4.\tWrite a Python program that uses the `filter()` function to select prime numbers from a list of integers.\n",
    "list_num=[1,2,3,4,5,6,7,8,9]\n",
    "# def prime(p):\n",
    "#     for i in range(2,p):\n",
    "#         if p%i==0:\n",
    "#             print(\"not prime\")\n",
    "#             break\n",
    "#     else:\n",
    "#         print(\"prime\")"
   ]
  },
  {
   "cell_type": "code",
   "execution_count": 1,
   "id": "090e10d4-326c-4e8b-8c58-464082d699b1",
   "metadata": {},
   "outputs": [
    {
     "name": "stdout",
     "output_type": "stream",
     "text": [
      "[2, 3, 5, 7]\n"
     ]
    }
   ],
   "source": [
    "q=lambda p:all(p%n!=0 for n in range(2,p)) and p>1\n",
    "list_num=[2,3,4,5,6,7,8,9]\n",
    "prime=filter(q,list_num)\n",
    "print(list(prime))"
   ]
  },
  {
   "cell_type": "code",
   "execution_count": 21,
   "id": "146207a6-7d73-43bc-8391-34a95feca310",
   "metadata": {},
   "outputs": [
    {
     "name": "stdout",
     "output_type": "stream",
     "text": [
      "[]\n"
     ]
    }
   ],
   "source": [
    "# 5.\tHow can you use the `filter()` function to remove None values from a list in Python?\n",
    "list_num=[1,2,3,\" \",5,\" \",7,8,9]\n",
    "s=filter(lambda a:a if a==int else \"\",list_num)\n",
    "print(list(s))"
   ]
  },
  {
   "cell_type": "code",
   "execution_count": 24,
   "id": "f016a675-7d25-4a23-a2dc-4d0c14f60241",
   "metadata": {},
   "outputs": [
    {
     "name": "stdout",
     "output_type": "stream",
     "text": [
      "['ubaid', 'apple', 'ram', 'fruit']\n"
     ]
    }
   ],
   "source": [
    "# 6.\tCreate a Python program that uses `filter()` to select words longer than a certain length from a list of strings.\n",
    "li=[\"ubaid\",\"apple\",\"ram\",\"orange\",\"fruit\"]\n",
    "word=filter(lambda k:k if len(k)<=5 else \"\",li)\n",
    "print(list(word))"
   ]
  },
  {
   "cell_type": "code",
   "execution_count": 25,
   "id": "9cbb4c10-3879-44d5-9838-c41f07308204",
   "metadata": {},
   "outputs": [
    {
     "name": "stdout",
     "output_type": "stream",
     "text": [
      "['ubaid', 'apple', 'ram', 'fruit']\n"
     ]
    }
   ],
   "source": [
    "# 7.\tWrite a Python program that uses the `filter()` function to select elements greater than a specified threshold from a list of values.\n",
    "li=[\"ubaid\",\"apple\",\"ram\",\"orange\",\"fruit\"]\n",
    "word=filter(lambda k:k if len(k)<=5 else \"\",li)\n",
    "print(list(word))"
   ]
  },
  {
   "cell_type": "markdown",
   "id": "25add961-2491-410e-a350-4b55f60e5ade",
   "metadata": {},
   "source": [
    "# Recursion:-\n"
   ]
  },
  {
   "cell_type": "code",
   "execution_count": null,
   "id": "2b268c18-2fd8-4f2b-beee-90fb92c0a3e8",
   "metadata": {},
   "outputs": [],
   "source": [
    "# 1.\tExplain the concept of recursion in Python. How does it differ from iteration?\n"
   ]
  },
  {
   "cell_type": "code",
   "execution_count": 14,
   "id": "df6cbfef-baf0-4110-af50-a90332e49c3a",
   "metadata": {},
   "outputs": [],
   "source": [
    "# 2.\tWrite a Python program to calculate the factorial of a number using recursion.\n",
    "def fact(n):\n",
    "    if n==0 or n==1:\n",
    "        return 1\n",
    "    else:\n",
    "        return (n * fact(n-1) )        "
   ]
  },
  {
   "cell_type": "code",
   "execution_count": 15,
   "id": "700ef798-1592-4fa9-a86a-6c6a8778153a",
   "metadata": {},
   "outputs": [
    {
     "data": {
      "text/plain": [
       "6"
      ]
     },
     "execution_count": 15,
     "metadata": {},
     "output_type": "execute_result"
    }
   ],
   "source": [
    "fact(3)"
   ]
  },
  {
   "cell_type": "code",
   "execution_count": 45,
   "id": "3143f6b4-e77c-47ac-a857-c55c9fcab02b",
   "metadata": {},
   "outputs": [],
   "source": [
    "# 3.\tCreate a recursive Python function to find the nth Fibonacci number.\n",
    "def fib(f):\n",
    "    if f==0:\n",
    "        return 0\n",
    "    elif f==1:\n",
    "        return 1\n",
    "    elif f>1:\n",
    "        return fib(f-1) + fib(f-2)"
   ]
  },
  {
   "cell_type": "code",
   "execution_count": 46,
   "id": "8e878a46-ab7a-47d3-bd41-fe1673071968",
   "metadata": {},
   "outputs": [
    {
     "data": {
      "text/plain": [
       "2"
      ]
     },
     "execution_count": 46,
     "metadata": {},
     "output_type": "execute_result"
    }
   ],
   "source": [
    "fib(3)"
   ]
  },
  {
   "cell_type": "code",
   "execution_count": 48,
   "id": "c8d1a4ad-f1ad-4b0f-b29c-21d32e40f653",
   "metadata": {},
   "outputs": [],
   "source": [
    "# 4.\tWrite a recursive Python function to calculate the sum of all elements in a list.\n",
    "def sum1(s):\n",
    "    return sum(s)"
   ]
  },
  {
   "cell_type": "code",
   "execution_count": 49,
   "id": "d998a566-186d-4da7-81d5-9eda79e1cbf4",
   "metadata": {},
   "outputs": [
    {
     "data": {
      "text/plain": [
       "12"
      ]
     },
     "execution_count": 49,
     "metadata": {},
     "output_type": "execute_result"
    }
   ],
   "source": [
    "sum1([1,2,4,5])"
   ]
  },
  {
   "cell_type": "code",
   "execution_count": null,
   "id": "9828d3c0-87f6-472b-a71e-669fbacd44c1",
   "metadata": {},
   "outputs": [],
   "source": [
    "# 5.\tHow can you prevent a recursive function from running indefinitely, causing a stack overflow error?\n"
   ]
  },
  {
   "cell_type": "code",
   "execution_count": null,
   "id": "3b28c0e7-9056-418c-88e3-e257ffb7d3c8",
   "metadata": {},
   "outputs": [],
   "source": [
    "# 6.\tCreate a recursive Python function to find the greatest common divisor (GCD) of two numbers using the Euclidean algorithm.\n"
   ]
  },
  {
   "cell_type": "code",
   "execution_count": 51,
   "id": "50d13095-e0fc-40ff-9400-251eef04b676",
   "metadata": {},
   "outputs": [],
   "source": [
    "# 7.\tWrite a recursive Python function to reverse a string.\n",
    "def string(s):\n",
    "    reverse=s[::-1]\n",
    "    return reverse"
   ]
  },
  {
   "cell_type": "code",
   "execution_count": 52,
   "id": "4fbe940c-41ca-46bb-9eb1-4a59386533b5",
   "metadata": {},
   "outputs": [
    {
     "data": {
      "text/plain": [
       "'diabu'"
      ]
     },
     "execution_count": 52,
     "metadata": {},
     "output_type": "execute_result"
    }
   ],
   "source": [
    "string(\"ubaid\")"
   ]
  },
  {
   "cell_type": "code",
   "execution_count": null,
   "id": "2597010c-effe-46b1-806b-c746ad78b42a",
   "metadata": {},
   "outputs": [],
   "source": [
    "# 8.\tCreate a recursive Python function to calculate the power of a number (x^n).\n"
   ]
  },
  {
   "cell_type": "code",
   "execution_count": null,
   "id": "835938d9-18e1-465e-84f1-634a28bebf1b",
   "metadata": {},
   "outputs": [],
   "source": [
    "# 9.\tWrite a recursive Python function to find all permutations of a given string.\n"
   ]
  },
  {
   "cell_type": "code",
   "execution_count": null,
   "id": "015e6f33-95cc-4751-98da-d5e56fd8d5dc",
   "metadata": {},
   "outputs": [],
   "source": [
    "# 10.\tWrite a recursive Python function to check if a string is a palindrome.\n",
    "\n"
   ]
  },
  {
   "cell_type": "code",
   "execution_count": null,
   "id": "6bc5d056-34a1-4a14-b7d5-3fc8222fe78d",
   "metadata": {},
   "outputs": [],
   "source": [
    "# 11.\tCreate a recursive Python function to generate all possible combinations of a list of elements.\n"
   ]
  },
  {
   "cell_type": "markdown",
   "id": "75951f62-d436-4d7e-afa5-21788b3ce88d",
   "metadata": {},
   "source": [
    "# Basics of Functions:\n"
   ]
  },
  {
   "cell_type": "code",
   "execution_count": null,
   "id": "504d6680-8f28-4e77-9a56-2dfeac3bb223",
   "metadata": {},
   "outputs": [],
   "source": [
    "# 1.\tWhat is a function in Python, and why is it used?\n"
   ]
  },
  {
   "cell_type": "code",
   "execution_count": null,
   "id": "d6be8c72-f141-4a93-8667-8361aa521dd7",
   "metadata": {},
   "outputs": [],
   "source": [
    "# 2.\tHow do you define a function in Python? Provide an example.\n"
   ]
  },
  {
   "cell_type": "code",
   "execution_count": null,
   "id": "96c5cf61-a888-4ed3-a816-9d83fa09a9d6",
   "metadata": {},
   "outputs": [],
   "source": [
    "# 3.\tExplain the difference between a function definition and a function call.\n"
   ]
  },
  {
   "cell_type": "code",
   "execution_count": null,
   "id": "1eb021a5-63fc-4c65-8b13-1d41c5c2ccb8",
   "metadata": {},
   "outputs": [],
   "source": [
    "# 4.\tWrite a Python program that defines a function to calculate the sum of two numbers and then calls the function.\n",
    "def (x,y):\n",
    "    return x+y"
   ]
  },
  {
   "cell_type": "code",
   "execution_count": null,
   "id": "8a0019b6-9b74-4c9c-87bd-753db0392950",
   "metadata": {},
   "outputs": [],
   "source": [
    "# 5.\tWhat is a function signature, and what information does it typically include?\n"
   ]
  },
  {
   "cell_type": "code",
   "execution_count": 3,
   "id": "8d40a6b0-f5ac-4441-8786-824d484db2f0",
   "metadata": {},
   "outputs": [],
   "source": [
    "# 6.\tCreate a Python function that takes two arguments and returns their product.\n",
    "def prod(a,b):\n",
    "    c=a*b\n",
    "    return c\n"
   ]
  },
  {
   "cell_type": "code",
   "execution_count": 4,
   "id": "e5684f1c-d5ee-43bf-82e0-f92b77b9b0c7",
   "metadata": {},
   "outputs": [
    {
     "data": {
      "text/plain": [
       "30"
      ]
     },
     "execution_count": 4,
     "metadata": {},
     "output_type": "execute_result"
    }
   ],
   "source": [
    "prod(5,6)"
   ]
  },
  {
   "cell_type": "code",
   "execution_count": null,
   "id": "a2309223-2c77-4b70-9c8e-31a4f0289df8",
   "metadata": {},
   "outputs": [],
   "source": [
    "# Function Parameters and Arguments:\n",
    "# 1.\tExplain the concepts of formal parameters and actual arguments in Python functions.\n",
    "# 2.\tWrite a Python program that defines a function with default argument values.\n",
    "# 3.\tHow do you use keyword arguments in Python function calls? Provide an example.\n",
    "\n",
    "# 5.\tWhat is the purpose of the `*args` and `**kwargs` syntax in function parameter lists?\n"
   ]
  },
  {
   "cell_type": "code",
   "execution_count": 53,
   "id": "e460ffaa-4a2c-4e38-899b-39183fa39dd6",
   "metadata": {},
   "outputs": [],
   "source": [
    "# 4.\tCreate a Python function that accepts a variable number of arguments and calculates their sum.\n",
    "def sum_args(*a):\n",
    "    b=sum(a)\n",
    "    return b"
   ]
  },
  {
   "cell_type": "code",
   "execution_count": 54,
   "id": "7fa5caad-e588-4cac-93a2-1868f506727d",
   "metadata": {},
   "outputs": [
    {
     "data": {
      "text/plain": [
       "22"
      ]
     },
     "execution_count": 54,
     "metadata": {},
     "output_type": "execute_result"
    }
   ],
   "source": [
    "sum_args(1,2,3,5,4,7)"
   ]
  },
  {
   "cell_type": "code",
   "execution_count": null,
   "id": "0d93e9c9-3d4e-46c3-bd2a-0d43732a5fbd",
   "metadata": {},
   "outputs": [],
   "source": [
    "# Return Values and Scoping:\n",
    "# 1.\tDescribe the role of the `return` statement in Python functions and provide examples.\n",
    "# 2.\tExplain the concept of variable scope in Python, including local and global variables.\n",
    "# 3.\tWrite a Python program that demonstrates the use of global variables within functions.\n",
    "# 4.\tCreate a Python function that calculates the factorial of a number and returns it.\n",
    "# 5.\tHow can you access variables defined outside a function from within the function?\n"
   ]
  },
  {
   "cell_type": "code",
   "execution_count": null,
   "id": "f474796e-2044-412c-922d-8ebfd4058ef6",
   "metadata": {},
   "outputs": [],
   "source": [
    "# Lambda Functions and Higher-Order Functions:\n",
    "# 1.\tWhat are lambda functions in Python, and when are they typically used?\n",
    "\n",
    "# 3.\tExplain the concept of higher-order functions in Python, and provide an example.\n",
    "# 4.\tCreate a Python function that takes a list of numbers and a function as arguments, applying the function to each element in the list.\n"
   ]
  },
  {
   "cell_type": "code",
   "execution_count": 78,
   "id": "7b84830e-da9a-4d78-952c-b3cf59d944ba",
   "metadata": {},
   "outputs": [
    {
     "ename": "NameError",
     "evalue": "name 'reduce' is not defined",
     "output_type": "error",
     "traceback": [
      "\u001b[0;31m---------------------------------------------------------------------------\u001b[0m",
      "\u001b[0;31mNameError\u001b[0m                                 Traceback (most recent call last)",
      "Cell \u001b[0;32mIn[78], line 3\u001b[0m\n\u001b[1;32m      1\u001b[0m \u001b[38;5;66;03m# 2.\tWrite a Python program that uses lambda functions to sort a list of tuples based on the second element.\u001b[39;00m\n\u001b[1;32m      2\u001b[0m tuple1\u001b[38;5;241m=\u001b[39m(\u001b[38;5;241m4\u001b[39m,\u001b[38;5;241m8\u001b[39m,\u001b[38;5;241m7\u001b[39m,\u001b[38;5;241m2\u001b[39m,\u001b[38;5;241m6\u001b[39m,\u001b[38;5;241m9\u001b[39m,\u001b[38;5;241m2\u001b[39m,\u001b[38;5;241m5\u001b[39m,\u001b[38;5;241m7\u001b[39m)\n\u001b[0;32m----> 3\u001b[0m l1\u001b[38;5;241m=\u001b[39m\u001b[43mreduce\u001b[49m(\u001b[38;5;28;01mlambda\u001b[39;00m x,y:x \u001b[38;5;28;01mif\u001b[39;00m x\u001b[38;5;241m>\u001b[39my \u001b[38;5;28;01melse\u001b[39;00m y,tuple1)\n\u001b[1;32m      4\u001b[0m \u001b[38;5;28mprint\u001b[39m(\u001b[38;5;28mlist\u001b[39m(l1))\n",
      "\u001b[0;31mNameError\u001b[0m: name 'reduce' is not defined"
     ]
    }
   ],
   "source": [
    "# 2.\tWrite a Python program that uses lambda functions to sort a list of tuples based on the second element.\n",
    "from functoo\n",
    "tuple1=(4,8,7,2,6,9,2,5,7)\n",
    "l1=reduce(lambda x,y:x if x>y else y,tuple1)\n",
    "print(list(l1))"
   ]
  },
  {
   "cell_type": "code",
   "execution_count": null,
   "id": "8ca470ed-f45b-4e39-8aa1-2d8c185996fb",
   "metadata": {},
   "outputs": [],
   "source": [
    "# Built-in Functions:\n",
    "# 1.\tDescribe the role of built-in functions like `len()`, `max()`, and `min()` in Python.\n",
    "# 2.\tWrite a Python program that uses the `map()` function to apply a function to each element of a list.\n",
    "# 3.\tHow does the `filter()` function work in Python, and when would you use it?\n",
    "# 4.\tCreate a Python program that uses the `reduce()` function to find the product of all elements in a list.\n"
   ]
  },
  {
   "cell_type": "code",
   "execution_count": null,
   "id": "314415a2-9b7f-4992-a938-e8fb45304486",
   "metadata": {},
   "outputs": [],
   "source": [
    "# Function Documentation and Best Practices:\n",
    "# 1.\tExplain the purpose of docstrings in Python functions and how to write them.\n",
    "# 2.\tDescribe some best practices for naming functions and variables in Python, including naming conventions and guidelines.\n"
   ]
  },
  {
   "cell_type": "code",
   "execution_count": null,
   "id": "664f1882-fa6d-4b6b-9d8a-2509a1f9c0fd",
   "metadata": {},
   "outputs": [],
   "source": []
  },
  {
   "cell_type": "code",
   "execution_count": null,
   "id": "fb7b3a3f-694d-4973-bec1-3494a71809f2",
   "metadata": {},
   "outputs": [],
   "source": []
  },
  {
   "cell_type": "code",
   "execution_count": null,
   "id": "4f325388-d1fe-4012-ba8d-d0d987ad4115",
   "metadata": {},
   "outputs": [],
   "source": []
  },
  {
   "cell_type": "code",
   "execution_count": null,
   "id": "bfc868a6-2ef6-451b-ac2d-3f227f769302",
   "metadata": {},
   "outputs": [],
   "source": []
  },
  {
   "cell_type": "code",
   "execution_count": null,
   "id": "f4b11d8b-da2f-4d18-96a5-ad22caa9a481",
   "metadata": {},
   "outputs": [],
   "source": []
  },
  {
   "cell_type": "code",
   "execution_count": null,
   "id": "7bb2d13e-4cc4-4a08-80e4-63903a96aec5",
   "metadata": {},
   "outputs": [],
   "source": []
  },
  {
   "cell_type": "code",
   "execution_count": null,
   "id": "3e431450-54d5-42c4-86b7-7754356b5f73",
   "metadata": {},
   "outputs": [],
   "source": []
  },
  {
   "cell_type": "code",
   "execution_count": null,
   "id": "24fa3a72-ce7c-42f5-80b7-1c05a988cd92",
   "metadata": {},
   "outputs": [],
   "source": []
  },
  {
   "cell_type": "code",
   "execution_count": null,
   "id": "2279893a-0363-4dc5-87b2-a14c60e7779d",
   "metadata": {},
   "outputs": [],
   "source": []
  },
  {
   "cell_type": "code",
   "execution_count": null,
   "id": "4ffc9389-5caa-4851-a0c3-b86db21b595e",
   "metadata": {},
   "outputs": [],
   "source": []
  }
 ],
 "metadata": {
  "kernelspec": {
   "display_name": "Python 3 (ipykernel)",
   "language": "python",
   "name": "python3"
  },
  "language_info": {
   "codemirror_mode": {
    "name": "ipython",
    "version": 3
   },
   "file_extension": ".py",
   "mimetype": "text/x-python",
   "name": "python",
   "nbconvert_exporter": "python",
   "pygments_lexer": "ipython3",
   "version": "3.10.8"
  }
 },
 "nbformat": 4,
 "nbformat_minor": 5
}
