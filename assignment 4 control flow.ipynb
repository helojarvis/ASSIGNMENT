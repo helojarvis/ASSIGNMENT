{
 "cells": [
  {
   "cell_type": "markdown",
   "id": "3a21a126-62d5-42bf-9e1b-b453841376c8",
   "metadata": {},
   "source": [
    "#Basic if-else statement"
   ]
  },
  {
   "cell_type": "code",
   "execution_count": 8,
   "id": "8979f9de-ef37-4984-86ef-46770d63fdf9",
   "metadata": {},
   "outputs": [
    {
     "name": "stdin",
     "output_type": "stream",
     "text": [
      "please enter the value 0\n"
     ]
    },
    {
     "name": "stdout",
     "output_type": "stream",
     "text": [
      "you gave value as 0'zero'\n"
     ]
    }
   ],
   "source": [
    "a=int(input(\"please enter the value\"))\n",
    "if a==0:\n",
    "    print(\"you gave value as 0'zero'\")\n",
    "elif a>0:\n",
    "    print(\"positive integer\")\n",
    "else:\n",
    "    print(\"negtaive integer\")"
   ]
  },
  {
   "cell_type": "code",
   "execution_count": 10,
   "id": "c384126f-66c1-43cf-a878-b0a03095cefa",
   "metadata": {},
   "outputs": [
    {
     "name": "stdin",
     "output_type": "stream",
     "text": [
      "please enter the age 87\n"
     ]
    },
    {
     "name": "stdout",
     "output_type": "stream",
     "text": [
      "you are eligible to vote\n"
     ]
    }
   ],
   "source": [
    "b=int(input(\"please enter the age\"))\n",
    "if b>=18:\n",
    "    print(\"you are eligible to vote\")\n",
    "else:\n",
    "    print(\"you are not eligible to vote\") "
   ]
  },
  {
   "cell_type": "code",
   "execution_count": 14,
   "id": "cdb9d322-b941-4614-997a-9a3569c1819f",
   "metadata": {},
   "outputs": [
    {
     "name": "stdin",
     "output_type": "stream",
     "text": [
      "please enter the value1 45\n",
      "please enter the value2 76\n"
     ]
    },
    {
     "name": "stdout",
     "output_type": "stream",
     "text": [
      "d is maximum\n"
     ]
    }
   ],
   "source": [
    "c=int(input(\"please enter the value1\"))\n",
    "d=int(input(\"please enter the value2\"))\n",
    "if c>d:\n",
    "    print(\"c is maximum\")\n",
    "else:\n",
    "    print(\"d is maximum\")"
   ]
  },
  {
   "cell_type": "code",
   "execution_count": 21,
   "id": "129218c9-346d-412e-9406-7c61b69d6754",
   "metadata": {},
   "outputs": [
    {
     "name": "stdin",
     "output_type": "stream",
     "text": [
      "please enter the year 2000\n"
     ]
    },
    {
     "name": "stdout",
     "output_type": "stream",
     "text": [
      "given year is leap year\n"
     ]
    }
   ],
   "source": [
    "year=int(input(\"please enter the year\"))\n",
    "if (year%4==0) and (year%100!=0) or (year%400==0):\n",
    "    print(\"given year is leap year\")\n",
    "else:\n",
    "    print(\"not leap year\")"
   ]
  },
  {
   "cell_type": "code",
   "execution_count": 26,
   "id": "8baf53d9-6be6-46d9-837e-eb5ff6dd9be0",
   "metadata": {},
   "outputs": [
    {
     "name": "stdin",
     "output_type": "stream",
     "text": [
      "please enter the character x\n"
     ]
    },
    {
     "name": "stdout",
     "output_type": "stream",
     "text": [
      "given char is consonant\n"
     ]
    }
   ],
   "source": [
    "ch=(input(\"please enter the character\"))\n",
    "vowel=\"aeiouAEIOU\"\n",
    "if ch in vowel:\n",
    "    print(\"given char is vowel\")\n",
    "else:\n",
    "    print(\"given char is consonant\")"
   ]
  },
  {
   "cell_type": "code",
   "execution_count": 28,
   "id": "4eafe9ee-7558-4373-8074-6107ff13f21f",
   "metadata": {},
   "outputs": [
    {
     "name": "stdin",
     "output_type": "stream",
     "text": [
      "please enter the value 8\n"
     ]
    },
    {
     "name": "stdout",
     "output_type": "stream",
     "text": [
      "8 is even\n"
     ]
    }
   ],
   "source": [
    "even_odd=int(input(\"please enter the value\"))\n",
    "if (even_odd%2==0):\n",
    "    print(even_odd,\"is even\")\n",
    "else:\n",
    "    print(even_odd,\"is odd\")"
   ]
  },
  {
   "cell_type": "code",
   "execution_count": 31,
   "id": "5c7532dd-1988-4248-b687-ae61915b700d",
   "metadata": {},
   "outputs": [
    {
     "name": "stdin",
     "output_type": "stream",
     "text": [
      "please enter the value -9\n"
     ]
    },
    {
     "name": "stdout",
     "output_type": "stream",
     "text": [
      "9\n"
     ]
    }
   ],
   "source": [
    "absolute=int(input(\"please enter the value\"))\n",
    "if absolute<0:\n",
    "    print(-absolute)\n",
    "else:\n",
    "    print(absolute)"
   ]
  },
  {
   "cell_type": "code",
   "execution_count": 32,
   "id": "aa66bc53-5373-4162-8198-cfae3f525982",
   "metadata": {},
   "outputs": [
    {
     "name": "stdin",
     "output_type": "stream",
     "text": [
      "please enter the value 21\n",
      "please enter the value 85\n",
      "please enter the value 69\n"
     ]
    },
    {
     "name": "stdout",
     "output_type": "stream",
     "text": [
      "b2 is largest\n"
     ]
    }
   ],
   "source": [
    "b1=int(input(\"please enter the value\"))\n",
    "b2=int(input(\"please enter the value\"))\n",
    "b3=int(input(\"please enter the value\"))\n",
    "if b1>b2 and b1>b3:\n",
    "    print(\"b1 is largest\")\n",
    "if b2>b1 and b2>b3:\n",
    "    print(\"b2 is largest\")\n",
    "else:\n",
    "    print(\"b3 is largest\")"
   ]
  },
  {
   "cell_type": "code",
   "execution_count": 35,
   "id": "07db5fb5-3119-43c5-8982-af49f2aef215",
   "metadata": {},
   "outputs": [
    {
     "name": "stdin",
     "output_type": "stream",
     "text": [
      "please enter the string rotor\n"
     ]
    },
    {
     "name": "stdout",
     "output_type": "stream",
     "text": [
      "given string is palindrome\n"
     ]
    }
   ],
   "source": [
    "palindrome_check=input(\"please enter the string\")\n",
    "if palindrome_check[::-1] ==palindrome_check[:]:\n",
    "    print(\"given string is palindrome\")\n",
    "else:\n",
    "    print(\"not palindrome\")"
   ]
  },
  {
   "cell_type": "code",
   "execution_count": 53,
   "id": "ac243632-0372-4d66-8826-3e2f8e8f6432",
   "metadata": {},
   "outputs": [
    {
     "name": "stdin",
     "output_type": "stream",
     "text": [
      "please enter the number 101\n"
     ]
    },
    {
     "name": "stdout",
     "output_type": "stream",
     "text": [
      "wrong checking\n"
     ]
    }
   ],
   "source": [
    "num=int(input(\"please enter the number\"))\n",
    "if num>=80 and num<=100:\n",
    "    print(\"A grade awarded\")\n",
    "elif num<80 and num>=70:\n",
    "    print(\"B grade awarded\")\n",
    "elif num<70 and num>=50:\n",
    "    print(\"C grade awarded\")\n",
    "elif num<50 and num>=0:\n",
    "    print(\"D garde is awarded\")\n",
    "else:\n",
    "    print(\"wrong checking\")"
   ]
  },
  {
   "cell_type": "markdown",
   "id": "d57440e5-4a0e-4ebe-8a8d-969c12c30e2e",
   "metadata": {},
   "source": [
    "#NESTED IF ELSE QUESTIONS"
   ]
  },
  {
   "cell_type": "code",
   "execution_count": 7,
   "id": "7c329455-0111-48e3-8abc-f7d0ecb68bb0",
   "metadata": {},
   "outputs": [
    {
     "name": "stdin",
     "output_type": "stream",
     "text": [
      "please enter the value 89\n",
      "please enter the value 74\n",
      "please enter the value 99\n"
     ]
    },
    {
     "name": "stdout",
     "output_type": "stream",
     "text": [
      "a3 is largest\n"
     ]
    }
   ],
   "source": [
    "a1=int(input(\"please enter the value\"))\n",
    "a2=int(input(\"please enter the value\"))\n",
    "a3=int(input(\"please enter the value\"))\n",
    "if a1>a2 and a1>a3:\n",
    "    print(\"a1 is largest\")\n",
    "elif a2>a3 and a2>a1:\n",
    "    print(\"a2 is largest\")\n",
    "else: \n",
    "    print(\"a3 is largest\")"
   ]
  },
  {
   "cell_type": "code",
   "execution_count": 5,
   "id": "cb3a370a-5455-4c88-b2f5-ff28d55892cd",
   "metadata": {},
   "outputs": [
    {
     "name": "stdin",
     "output_type": "stream",
     "text": [
      "please enter the value 1\n",
      "please enter the value 2\n",
      "please enter the value 2\n"
     ]
    },
    {
     "name": "stdout",
     "output_type": "stream",
     "text": [
      "isoceles triangle\n"
     ]
    }
   ],
   "source": [
    "s1=int(input(\"please enter the value\"))\n",
    "s2=int(input(\"please enter the value\"))\n",
    "s3=int(input(\"please enter the value\"))\n",
    "if s1==s2==s3:\n",
    "      print(\"equilateral triangle\")\n",
    "elif s1==s2 and s1!=s3:\n",
    "      print(\"isoceles triangle\")\n",
    "elif s1!=s2 and s1==s3:\n",
    "      print(\"isoceles triangle\")\n",
    "elif s1!=s3 and s2==s3:\n",
    "      print(\"isoceles triangle\") \n",
    "else:\n",
    "      print(\"scalene triangle\")"
   ]
  },
  {
   "cell_type": "code",
   "execution_count": 11,
   "id": "c1813455-a299-45e2-bc9c-1f076a3026d8",
   "metadata": {},
   "outputs": [
    {
     "name": "stdin",
     "output_type": "stream",
     "text": [
      "please enter the value 1996\n"
     ]
    },
    {
     "name": "stdout",
     "output_type": "stream",
     "text": [
      "leap year\n"
     ]
    }
   ],
   "source": [
    "yrs=int(input(\"please enter the value\"))\n",
    "if yrs%4==0:\n",
    "    if yrs%100!=0 or yrs%400==0:\n",
    "        print(\"leap year\")\n",
    "    else:\n",
    "        print(\"century year\")\n",
    "else:\n",
    "    print(\"not leap year\")"
   ]
  },
  {
   "cell_type": "code",
   "execution_count": 14,
   "id": "4dea85e3-9813-4571-805b-a7f1ecb148be",
   "metadata": {},
   "outputs": [
    {
     "name": "stdin",
     "output_type": "stream",
     "text": [
      "please enter the value -2\n"
     ]
    },
    {
     "name": "stdout",
     "output_type": "stream",
     "text": [
      "negative number\n"
     ]
    }
   ],
   "source": [
    "number=int(input(\"please enter the value\"))\n",
    "if number>=0:\n",
    "    if number==0:\n",
    "        print(\"zero it is\")\n",
    "    else:\n",
    "        print(\"positive no.\")\n",
    "else:\n",
    "    print(\"negative number\")"
   ]
  },
  {
   "cell_type": "code",
   "execution_count": 26,
   "id": "71237faf-ff99-4a5a-8e3c-6fb6d51c605e",
   "metadata": {},
   "outputs": [
    {
     "name": "stdin",
     "output_type": "stream",
     "text": [
      "please enter the age 25\n"
     ]
    },
    {
     "name": "stdout",
     "output_type": "stream",
     "text": [
      "you are not teeneger\n"
     ]
    }
   ],
   "source": [
    "age=int(input(\"please enter the age\"))\n",
    "if age>=13:\n",
    "    if age<=19:\n",
    "        print(\"you are a teeneger\")\n",
    "    else:\n",
    "        print(\"you are not teeneger\")               "
   ]
  },
  {
   "cell_type": "code",
   "execution_count": 30,
   "id": "a8f7fa68-b49b-4096-992e-3e4ed61d6688",
   "metadata": {},
   "outputs": [
    {
     "name": "stdin",
     "output_type": "stream",
     "text": [
      "please enter the angle 90\n"
     ]
    },
    {
     "name": "stdout",
     "output_type": "stream",
     "text": [
      "right angle traingle\n"
     ]
    }
   ],
   "source": [
    "angle=int(input(\"please enter the angle\"))\n",
    "if angle>=90:\n",
    "    if angle==90:\n",
    "        print(\"right angle traingle\")\n",
    "    else:\n",
    "        print(\"obtuse angle\")\n",
    "else:\n",
    "    print(\"acute angle\")"
   ]
  },
  {
   "cell_type": "code",
   "execution_count": 34,
   "id": "59efd754-dbba-4d25-9e71-6e98da9b56c2",
   "metadata": {},
   "outputs": [
    {
     "name": "stdin",
     "output_type": "stream",
     "text": [
      "please enter the value1 8\n",
      "please enter the value2 5\n",
      "please enter the value3 9\n"
     ]
    },
    {
     "name": "stdout",
     "output_type": "stream",
     "text": [
      "two roots are (-0.3125+1.0135796712641785j) and (-0.3125-1.0135796712641785j)\n"
     ]
    }
   ],
   "source": [
    "import cmath\n",
    "val1=int(input(\"please enter the value1\"))\n",
    "val2=int(input(\"please enter the value2\"))\n",
    "val3=int(input(\"please enter the value3\"))\n",
    "d=((val2**2)-(4*val1*val3))\n",
    "root1=(-val2+(cmath.sqrt(d)))/(2*val1)\n",
    "root2=(-val2-(cmath.sqrt(d)))/(2*val1)\n",
    "print(\"two roots are\",root1,\"and\",root2)"
   ]
  },
  {
   "cell_type": "code",
   "execution_count": 39,
   "id": "8d5c9b89-6b82-4755-b932-39c38ca0bf73",
   "metadata": {},
   "outputs": [
    {
     "name": "stdin",
     "output_type": "stream",
     "text": [
      "please enter the no. 6\n"
     ]
    },
    {
     "name": "stdout",
     "output_type": "stream",
     "text": [
      "saturday\n"
     ]
    }
   ],
   "source": [
    "week_no=int(input(\"please enter the no.\"))\n",
    "if week_no==1:\n",
    "    print(\"Monday\")\n",
    "elif week_no==2:\n",
    "    print(\"tuesday\")\n",
    "elif week_no==3:\n",
    "    print(\"wednesday\")\n",
    "elif week_no==4:\n",
    "    print(\"thursday\")   \n",
    "elif week_no==5:\n",
    "    print(\"friday\")    \n",
    "elif week_no==6:\n",
    "    print(\"saturday\")    \n",
    "else:\n",
    "    print(\"sunday\")    \n",
    "    \n",
    "    "
   ]
  },
  {
   "cell_type": "code",
   "execution_count": 69,
   "id": "5703ef94-f34a-4e5e-98fa-aff7b989712b",
   "metadata": {},
   "outputs": [
    {
     "name": "stdin",
     "output_type": "stream",
     "text": [
      "please enter the no. 20\n"
     ]
    },
    {
     "name": "stdout",
     "output_type": "stream",
     "text": [
      "20 is not prime no.\n"
     ]
    }
   ],
   "source": [
    "f=int(input(\"please enter the no.\"))\n",
    "if f==1 or f==2:\n",
    "      print(f,\"is a prime no.\")\n",
    "for i in range(2,f):\n",
    "    if f%i==0:\n",
    "        print(f,\"is not prime no.\")\n",
    "        break\n",
    "else:\n",
    "    print(f,\"is prime no.\")\n"
   ]
  },
  {
   "cell_type": "markdown",
   "id": "f9d3527d-c162-4ea9-a300-03d4d48686ec",
   "metadata": {},
   "source": [
    "#elif statements based question"
   ]
  },
  {
   "cell_type": "code",
   "execution_count": 70,
   "id": "b40f00d7-a811-415c-bf56-0dbab887ee5c",
   "metadata": {},
   "outputs": [
    {
     "name": "stdin",
     "output_type": "stream",
     "text": [
      "please enter the number 54\n"
     ]
    },
    {
     "name": "stdout",
     "output_type": "stream",
     "text": [
      "C grade awarded\n"
     ]
    }
   ],
   "source": [
    "num=int(input(\"please enter the number\"))\n",
    "if num>=80 and num<=100:\n",
    "    print(\"A grade awarded\")\n",
    "elif num<80 and num>=70:\n",
    "    print(\"B grade awarded\")\n",
    "elif num<70 and num>=50:\n",
    "    print(\"C grade awarded\")\n",
    "elif num<50 and num>=0:\n",
    "    print(\"D garde is awarded\")\n",
    "else:\n",
    "    print(\"wrong checking\")"
   ]
  },
  {
   "cell_type": "code",
   "execution_count": 74,
   "id": "6e672185-16de-4436-b51b-245af192cc14",
   "metadata": {},
   "outputs": [
    {
     "name": "stdin",
     "output_type": "stream",
     "text": [
      "please enter the angle 90\n"
     ]
    },
    {
     "name": "stdout",
     "output_type": "stream",
     "text": [
      "right angle triangle\n"
     ]
    }
   ],
   "source": [
    "angle_value=int(input(\"please enter the angle\"))\n",
    "if angle_value==90:\n",
    "    print(\"right angle triangle\")\n",
    "elif angle_value>90:\n",
    "    print(\"obtuse angle\")\n",
    "else:\n",
    "    print(\"acute angle\")"
   ]
  },
  {
   "cell_type": "code",
   "execution_count": 76,
   "id": "2ee04728-c060-4f34-8c11-326a995e8238",
   "metadata": {},
   "outputs": [
    {
     "name": "stdin",
     "output_type": "stream",
     "text": [
      "please enter the weight in kg 80\n",
      "please enter the weight in cm 164\n"
     ]
    },
    {
     "name": "stdout",
     "output_type": "stream",
     "text": [
      "your bmi value is 29.744199881023206\n",
      "and you are overweight\n"
     ]
    }
   ],
   "source": [
    "weight=float(input(\"please enter the weight in kg\"))\n",
    "height=float(input(\"please enter the weight in cm\"))\n",
    "BMI=(weight/((height/100)**2))\n",
    "print(\"your bmi value is\",BMI)\n",
    "if BMI<18.5:\n",
    "    print(\"and you are underweight\")\n",
    "elif BMI>18.5 and BMI<=24.9 :\n",
    "    print(\"and you are normal\")\n",
    "elif BMI>24.9 and BMI<=29.9 :\n",
    "    print(\"and you are overweight\")\n",
    "elif BMI>29.9:\n",
    "    print(\"and you are obese\")\n",
    "else:\n",
    "    print(\"wrong value\")"
   ]
  },
  {
   "cell_type": "code",
   "execution_count": 79,
   "id": "0a26ab73-4b91-4e79-9f60-3505a45bab13",
   "metadata": {},
   "outputs": [
    {
     "name": "stdin",
     "output_type": "stream",
     "text": [
      "please enter the value 5\n"
     ]
    },
    {
     "name": "stdout",
     "output_type": "stream",
     "text": [
      "positive value\n"
     ]
    }
   ],
   "source": [
    "abc=int(input(\"please enter the value\"))\n",
    "if abc==0:\n",
    "    print(\"you are giving value as zero\")\n",
    "elif abc>0:\n",
    "    print(\"positive value\")\n",
    "else:\n",
    "    print(\"negative value\")"
   ]
  },
  {
   "cell_type": "code",
   "execution_count": 96,
   "id": "575edbaf-1c6e-425e-8e9b-cb304efa038a",
   "metadata": {},
   "outputs": [
    {
     "name": "stdin",
     "output_type": "stream",
     "text": [
      "please enter the string @\n"
     ]
    },
    {
     "name": "stdout",
     "output_type": "stream",
     "text": [
      "normal string\n"
     ]
    }
   ],
   "source": [
    "ch=\"@$%^&*?/\"\n",
    "string=input(\"please enter the string\")\n",
    "if string.islower():\n",
    "    print(\"string is in lower case\")\n",
    "elif string.isupper():\n",
    "    print(\"string is in upper case\")\n",
    "elif ch in string:\n",
    "    print(\"special string\")\n",
    "else:\n",
    "    print(\"normal string\")\n",
    "              "
   ]
  },
  {
   "cell_type": "code",
   "execution_count": 100,
   "id": "558cbcb0-f4b6-40d6-9739-8b205272d651",
   "metadata": {},
   "outputs": [
    {
     "name": "stdin",
     "output_type": "stream",
     "text": [
      "please enter the price 11000\n"
     ]
    },
    {
     "name": "stdout",
     "output_type": "stream",
     "text": [
      "price after discount is  5500.0 and goa trip is on\n"
     ]
    }
   ],
   "source": [
    "price=int(input(\"please enter the price\"))\n",
    "if price<=1000:\n",
    "    discount_price=(price*0.9)\n",
    "    print(\"price after discount is\",discount_price)\n",
    "elif price>1000 and price<=2000:\n",
    "    discount_price=price*0.8\n",
    "    print(\"price after discount is \",discount_price)\n",
    "elif price>2000 and price<=5000:\n",
    "    discount_price=price*0.7\n",
    "    print(\"price after discount is \",discount_price)\n",
    "elif price>5000 and price<=10000:\n",
    "    discount_price=price*0.6\n",
    "    print(\"price after discount is \",discount_price)\n",
    "elif price>10000:\n",
    "    discount_price=price*0.5\n",
    "    print(\"price after discount is \",discount_price,\"and goa trip is on\")"
   ]
  },
  {
   "cell_type": "code",
   "execution_count": 106,
   "id": "b5cef87a-cf05-452e-ac15-f5df54235b44",
   "metadata": {},
   "outputs": [
    {
     "name": "stdin",
     "output_type": "stream",
     "text": [
      "please enter the consumed units 500\n"
     ]
    },
    {
     "name": "stdout",
     "output_type": "stream",
     "text": [
      "your bill is:Rs 3500\n"
     ]
    }
   ],
   "source": [
    "unit=int(input(\"please enter the consumed units\"))\n",
    "fixedcharge=200\n",
    "perunitcharge=11\n",
    "consumption=(fixedcharge+(perunitcharge*(unit-200)))\n",
    "if unit<=200:\n",
    "    print(\"your bill is:Rs 0\")\n",
    "elif unit>200:\n",
    "    print(\"your bill is:Rs\",consumption)"
   ]
  },
  {
   "cell_type": "code",
   "execution_count": 108,
   "id": "a5ab4f2a-7b2c-469e-90b1-19730be67789",
   "metadata": {},
   "outputs": [
    {
     "name": "stdin",
     "output_type": "stream",
     "text": [
      "please enter the side1 12\n",
      "please enter the side2 14\n",
      "please enter the side3 12\n",
      "please enter the side4 14\n"
     ]
    },
    {
     "name": "stdout",
     "output_type": "stream",
     "text": [
      "given quadilateral is rectangle \n"
     ]
    }
   ],
   "source": [
    "side1=int(input(\"please enter the side1\"))\n",
    "side2=int(input(\"please enter the side2\"))\n",
    "side3=int(input(\"please enter the side3\"))\n",
    "side4=int(input(\"please enter the side4\"))\n",
    "if side1==side2==side3==side4:\n",
    "    print(\"given quadilateral is square\")\n",
    "elif side1==side3 and side2==side4:\n",
    "    print(\"given quadilateral is rectangle \")"
   ]
  },
  {
   "cell_type": "code",
   "execution_count": 1,
   "id": "d00cce91-71b8-491b-8a6f-65b7e2ca5eef",
   "metadata": {},
   "outputs": [
    {
     "name": "stdin",
     "output_type": "stream",
     "text": [
      "please enter the month number just like 1-jan,2-feb etc 4\n"
     ]
    },
    {
     "name": "stdout",
     "output_type": "stream",
     "text": [
      "autumn in india\n",
      "autumn in india\n",
      "autumn in india\n",
      "autumn in india\n"
     ]
    }
   ],
   "source": [
    "month=int(input(\"please enter the month number just like 1-jan,2-feb etc\"))\n",
    "list1=[[11,12,1,2],[5,3,4],[6,7,8],[9,10]]\n",
    "for i in list1:\n",
    "    if month in list1[0]:\n",
    "        print(\"winters in india\")\n",
    "    elif month in list1[1]:\n",
    "        print(\"autumn in india\")\n",
    "    elif month in list1[2]:\n",
    "        print(\"summer season in india\")\n",
    "    else:\n",
    "        print(\"spring season in india\")"
   ]
  },
  {
   "cell_type": "code",
   "execution_count": 4,
   "id": "027abfd8-5e37-45c6-b00d-b5f059e504d7",
   "metadata": {},
   "outputs": [
    {
     "name": "stdin",
     "output_type": "stream",
     "text": [
      "please enter the value 1996\n"
     ]
    },
    {
     "name": "stdout",
     "output_type": "stream",
     "text": [
      "leap year and feb have 29 days\n"
     ]
    }
   ],
   "source": [
    "yrs=int(input(\"please enter the value\"))\n",
    "if yrs%4==0:\n",
    "    if yrs%100!=0 or yrs%400==0:\n",
    "        print(\"leap year and feb have 29 days\")\n",
    "    else:\n",
    "        print(\"century year\")\n",
    "else:\n",
    "    print(\"common year\")"
   ]
  },
  {
   "cell_type": "markdown",
   "id": "2399ae48-a81f-4ee4-8a34-de4c59febad0",
   "metadata": {},
   "source": [
    "#basic level"
   ]
  },
  {
   "cell_type": "code",
   "execution_count": null,
   "id": "d9a8327d-7a6b-4a95-a938-2c1dfed1df6b",
   "metadata": {},
   "outputs": [],
   "source": [
    "number=int(input(\"please enter the value\"))\n",
    "if number>=0:\n",
    "    if number==0:\n",
    "        print(\"zero it is\")\n",
    "    else:\n",
    "        print(\"positive no.\")\n",
    "else:\n",
    "    print(\"negative number\")"
   ]
  },
  {
   "cell_type": "code",
   "execution_count": null,
   "id": "9b3470c9-628a-4734-8f70-05532f3f061d",
   "metadata": {},
   "outputs": [],
   "source": [
    "b=int(input(\"please enter the age\"))\n",
    "if b>=18:\n",
    "    print(\"you are eligible to vote\")\n",
    "else:\n",
    "    print(\"you are not eligible to vote\") "
   ]
  },
  {
   "cell_type": "code",
   "execution_count": null,
   "id": "b3b0b8a5-1ab8-4b35-bee5-f415b693dc99",
   "metadata": {},
   "outputs": [],
   "source": [
    "c=int(input(\"please enter the value1\"))\n",
    "d=int(input(\"please enter the value2\"))\n",
    "if c>d:\n",
    "    print(\"c is maximum\")\n",
    "else:\n",
    "    print(\"d is maximum\")"
   ]
  },
  {
   "cell_type": "code",
   "execution_count": null,
   "id": "589a2a94-8ed2-4b67-9025-a350456cd506",
   "metadata": {},
   "outputs": [],
   "source": [
    "num=int(input(\"please enter the number\"))\n",
    "if num>=80 and num<=100:\n",
    "    print(\"A grade awarded\")\n",
    "elif num<80 and num>=70:\n",
    "    print(\"B grade awarded\")\n",
    "elif num<70 and num>=50:\n",
    "    print(\"C grade awarded\")\n",
    "elif num<50 and num>=0:\n",
    "    print(\"D garde is awarded\")\n",
    "else:\n",
    "    print(\"wrong checking\")"
   ]
  },
  {
   "cell_type": "code",
   "execution_count": null,
   "id": "0ba89f99-9d11-4671-a9fa-1f894ec84a6e",
   "metadata": {},
   "outputs": [],
   "source": [
    "yrs=int(input(\"please enter the value\"))\n",
    "if yrs%4==0:\n",
    "    if yrs%100!=0 or yrs%400==0:\n",
    "        print(\"leap year and feb have 29 days\")\n",
    "    else:\n",
    "        print(\"century year\")\n",
    "else:\n",
    "    print(\"common year\")"
   ]
  },
  {
   "cell_type": "code",
   "execution_count": null,
   "id": "5d4aa610-f3a5-4315-bf11-3f25d9c9437a",
   "metadata": {},
   "outputs": [],
   "source": [
    "s1=int(input(\"please enter the value\"))\n",
    "s2=int(input(\"please enter the value\"))\n",
    "s3=int(input(\"please enter the value\"))\n",
    "if s1==s2==s3:\n",
    "      print(\"equilateral triangle\")\n",
    "elif s1==s2 and s1!=s3:\n",
    "      print(\"isoceles triangle\")\n",
    "elif s1!=s2 and s1==s3:\n",
    "      print(\"isoceles triangle\")\n",
    "elif s1!=s3 and s2==s3:\n",
    "      print(\"isoceles triangle\") \n",
    "else:\n",
    "      print(\"scalene triangle\")"
   ]
  },
  {
   "cell_type": "code",
   "execution_count": null,
   "id": "e4366032-9a3b-44e4-96d3-3196b108c06b",
   "metadata": {},
   "outputs": [],
   "source": [
    "b1=int(input(\"please enter the value\"))\n",
    "b2=int(input(\"please enter the value\"))\n",
    "b3=int(input(\"please enter the value\"))\n",
    "if b1>b2 and b1>b3:\n",
    "    print(\"b1 is largest\")\n",
    "if b2>b1 and b2>b3:\n",
    "    print(\"b2 is largest\")\n",
    "else:\n",
    "    print(\"b3 is largest\")"
   ]
  },
  {
   "cell_type": "code",
   "execution_count": null,
   "id": "f0d5ca32-7edb-42c6-9bff-ec01ec7c1d34",
   "metadata": {},
   "outputs": [],
   "source": [
    "ch=(input(\"please enter the character\"))\n",
    "vowel=\"aeiouAEIOU\"\n",
    "if ch in vowel:\n",
    "    print(\"given char is vowel\")\n",
    "else:\n",
    "    print(\"given char is consonant\")"
   ]
  },
  {
   "cell_type": "code",
   "execution_count": null,
   "id": "0a725156-9b44-4585-aecf-b093a49004bb",
   "metadata": {},
   "outputs": [],
   "source": [
    "price=int(input(\"please enter the price\"))\n",
    "if price<=1000:\n",
    "    discount_price=(price*0.9)\n",
    "    print(\"price after discount is\",discount_price)\n",
    "elif price>1000 and price<=2000:\n",
    "    discount_price=price*0.8\n",
    "    print(\"price after discount is \",discount_price)\n",
    "elif price>2000 and price<=5000:\n",
    "    discount_price=price*0.7\n",
    "    print(\"price after discount is \",discount_price)\n",
    "elif price>5000 and price<=10000:\n",
    "    discount_price=price*0.6\n",
    "    print(\"price after discount is \",discount_price)\n",
    "elif price>10000:\n",
    "    discount_price=price*0.5\n",
    "    print(\"price after discount is \",discount_price,\"and goa trip is on\")"
   ]
  },
  {
   "cell_type": "code",
   "execution_count": null,
   "id": "90159aa5-076b-4f74-a1cf-c41673a802e0",
   "metadata": {},
   "outputs": [],
   "source": [
    "even_odd=int(input(\"please enter the value\"))\n",
    "if (even_odd%2==0):\n",
    "    print(even_odd,\"is even\")\n",
    "else:\n",
    "    print(even_odd,\"is odd\")"
   ]
  },
  {
   "cell_type": "markdown",
   "id": "0692eb76-3924-412d-ba16-6bbbb7741aa8",
   "metadata": {},
   "source": [
    "#intermediate level"
   ]
  },
  {
   "cell_type": "code",
   "execution_count": null,
   "id": "7c4770bc-8da6-4119-b66f-92f724e4b32c",
   "metadata": {},
   "outputs": [],
   "source": [
    "import cmath\n",
    "val1=int(input(\"please enter the value1\"))\n",
    "val2=int(input(\"please enter the value2\"))\n",
    "val3=int(input(\"please enter the value3\"))\n",
    "d=((val2**2)-(4*val1*val3))\n",
    "root1=(-val2+(cmath.sqrt(d)))/(2*val1)\n",
    "root2=(-val2-(cmath.sqrt(d)))/(2*val1)\n",
    "print(\"two roots are\",root1,\"and\",root2)"
   ]
  },
  {
   "cell_type": "code",
   "execution_count": 22,
   "id": "70373152-ec99-440c-97a0-9e965838260e",
   "metadata": {},
   "outputs": [
    {
     "name": "stdin",
     "output_type": "stream",
     "text": [
      "plz give value in range of 1-7 only 4\n"
     ]
    },
    {
     "name": "stdout",
     "output_type": "stream",
     "text": [
      "thursday\n"
     ]
    }
   ],
   "source": [
    "num=int(input(\"plz give value in range of 1-7 only\"))\n",
    "dic1={1:\"monday\",2:\"tuesday\",3:\"wednesday\",4:\"thursday\",5:\"friday\",6:\"saturday\",7:\"sunday\"}\n",
    "if num in dic1:\n",
    "    print(dic1.get(num))"
   ]
  },
  {
   "cell_type": "code",
   "execution_count": 34,
   "id": "dfb458e9-bcfb-4fdd-9774-f3e6bd1ebd23",
   "metadata": {},
   "outputs": [
    {
     "name": "stdin",
     "output_type": "stream",
     "text": [
      "enter the value 5\n"
     ]
    },
    {
     "name": "stdout",
     "output_type": "stream",
     "text": [
      "120\n"
     ]
    }
   ],
   "source": [
    "fact=1\n",
    "n=int(input(\"enter the value\"))\n",
    "for i in range(n,0,-1):\n",
    "    fact=fact*i\n",
    "print(fact)"
   ]
  },
  {
   "cell_type": "code",
   "execution_count": null,
   "id": "15596e2f-d31a-48fb-8aee-1b29d48bc843",
   "metadata": {},
   "outputs": [],
   "source": [
    "b1=int(input(\"please enter the value\"))\n",
    "b2=int(input(\"please enter the value\"))\n",
    "b3=int(input(\"please enter the value\"))\n",
    "if b1>b2 and b1>b3:\n",
    "    print(\"b1 is largest\")\n",
    "if b2>b1 and b2>b3:\n",
    "    print(\"b2 is largest\")\n",
    "else:\n",
    "    print(\"b3 is largest\")"
   ]
  },
  {
   "cell_type": "code",
   "execution_count": 36,
   "id": "5749fa4f-2178-46e9-abb2-dff7b551cd2a",
   "metadata": {},
   "outputs": [
    {
     "name": "stdin",
     "output_type": "stream",
     "text": [
      "plz enter the string to check ubaid\n"
     ]
    },
    {
     "name": "stdout",
     "output_type": "stream",
     "text": [
      "not palindrome\n"
     ]
    }
   ],
   "source": [
    "n=input(\"plz enter the string to check\")\n",
    "if n[::-1]==n[:]:\n",
    "    print(\"string is palindrome\")\n",
    "else:\n",
    "    print(\"not palindrome\")\n"
   ]
  },
  {
   "cell_type": "code",
   "execution_count": 3,
   "id": "5af69188-b30e-434b-9c36-ff5dda72c9f7",
   "metadata": {},
   "outputs": [
    {
     "name": "stdin",
     "output_type": "stream",
     "text": [
      "plz give numbers 5\n"
     ]
    },
    {
     "name": "stdout",
     "output_type": "stream",
     "text": [
      "2.5\n"
     ]
    }
   ],
   "source": [
    "sum1=0\n",
    "avg=0\n",
    "n=int(input(\"plz give numbers\"))\n",
    "for i in range(1,n):\n",
    "    sum1=sum1+i\n",
    "    avg=sum1/i\n",
    "print(avg)    "
   ]
  },
  {
   "cell_type": "code",
   "execution_count": 8,
   "id": "5643d904-c7ec-48ab-a055-abd84f147b32",
   "metadata": {},
   "outputs": [
    {
     "name": "stdout",
     "output_type": "stream",
     "text": [
      "10 c = 50.0 f\n",
      "20 c = 68.0 f\n",
      "30 c = 86.0 f\n",
      "40 c = 104.0 f\n"
     ]
    }
   ],
   "source": [
    "list1=[10,20,30,40]\n",
    "for i in list1:\n",
    "    print(i,\"c\",\"=\",(1.8*i)+32,\"f\")"
   ]
  },
  {
   "cell_type": "code",
   "execution_count": 13,
   "id": "08dc5dbd-9ed0-4025-9f3a-4e725463f0ff",
   "metadata": {},
   "outputs": [
    {
     "name": "stdin",
     "output_type": "stream",
     "text": [
      "enter first no.: 10\n",
      "enter second no.: 2\n",
      "enter operator: division\n"
     ]
    },
    {
     "name": "stdout",
     "output_type": "stream",
     "text": [
      "the difference are: 5.0\n"
     ]
    }
   ],
   "source": [
    "add=0\n",
    "diff=0\n",
    "multiply=0\n",
    "division=0\n",
    "k1=int(input(\"enter first no.:\"))\n",
    "k2=int(input(\"enter second no.:\"))\n",
    "operator=input(\"enter operator:\")\n",
    "if operator==\"add\":\n",
    "    print(\"sum of two no.is:\",k1+k2)\n",
    "elif operator==\"diff\":\n",
    "    print(\"the difference are:\",k1-k2)\n",
    "elif operator==\"multiply\":\n",
    "    print(\"the multiplication are:\",k1*k2)\n",
    "elif operator==\"division\":\n",
    "    print(\"the difference are:\",k1/k2)    \n",
    "else:\n",
    "    print(\"wrong input\")"
   ]
  },
  {
   "cell_type": "markdown",
   "id": "e731e42e-b8e7-44c0-9499-74e3acf7dd6b",
   "metadata": {},
   "source": [
    "#advance level"
   ]
  },
  {
   "cell_type": "code",
   "execution_count": 32,
   "id": "5e8716c9-f3b2-4c41-96ca-9e6ee988068a",
   "metadata": {},
   "outputs": [
    {
     "name": "stdin",
     "output_type": "stream",
     "text": [
      "please enter the total income 2600000\n"
     ]
    },
    {
     "name": "stdout",
     "output_type": "stream",
     "text": [
      "your tax is:Rs 392500.0\n"
     ]
    }
   ],
   "source": [
    "tax1,tax2,tax3,tax4,tax5,tax6=0,0,0,0,0,0\n",
    "income=int(input(\"please enter the total income\"))\n",
    "if income<=250000:\n",
    "    print(\"your tax is:Rs 0\")\n",
    "elif income>250000 and income<=500000:\n",
    "    tax1=((income-250000)*0.05)\n",
    "    print(\"your tax is:Rs\",tax1)\n",
    "elif income>500000 and income<=750000:\n",
    "    tax2=(((income-500000)*0.1)+12500)\n",
    "    print(\"your tax is:Rs\",tax2)\n",
    "elif income>750000 and income<=1000000:\n",
    "    tax3=(((income-750000)*0.15)+25000)\n",
    "    print(\"your tax is:Rs\",tax3)\n",
    "elif income>1000000 and income<=1250000:\n",
    "    tax4=(((income-1000000)*0.2)+37500)\n",
    "    print(\"your tax is:Rs\",tax4)\n",
    "elif income>1250000 and income<=1500000:\n",
    "    tax5=(((income-1250000)*0.25)+50000)\n",
    "    print(\"your tax is:Rs\",tax5)\n",
    "else:\n",
    "    tax6=(((income-1500000)*0.3)+62500)\n",
    "    print(\"your tax is:Rs\",tax6)\n",
    "    "
   ]
  },
  {
   "cell_type": "code",
   "execution_count": null,
   "id": "49cda53c-6435-475b-a1a5-1f7becaceba2",
   "metadata": {},
   "outputs": [],
   "source": []
  },
  {
   "cell_type": "code",
   "execution_count": null,
   "id": "c1a26657-006b-485e-b4d9-699dffaf62f2",
   "metadata": {},
   "outputs": [],
   "source": []
  },
  {
   "cell_type": "code",
   "execution_count": null,
   "id": "de50b271-7ff4-4400-b960-d94b89befa80",
   "metadata": {},
   "outputs": [],
   "source": []
  },
  {
   "cell_type": "code",
   "execution_count": null,
   "id": "bd0aa3e7-c2cd-4d4e-a15e-d5ff6c731a9f",
   "metadata": {},
   "outputs": [],
   "source": []
  },
  {
   "cell_type": "code",
   "execution_count": null,
   "id": "899b6472-3269-470d-9dd1-2e741da5d122",
   "metadata": {},
   "outputs": [],
   "source": []
  }
 ],
 "metadata": {
  "kernelspec": {
   "display_name": "Python 3 (ipykernel)",
   "language": "python",
   "name": "python3"
  },
  "language_info": {
   "codemirror_mode": {
    "name": "ipython",
    "version": 3
   },
   "file_extension": ".py",
   "mimetype": "text/x-python",
   "name": "python",
   "nbconvert_exporter": "python",
   "pygments_lexer": "ipython3",
   "version": "3.10.8"
  }
 },
 "nbformat": 4,
 "nbformat_minor": 5
}
