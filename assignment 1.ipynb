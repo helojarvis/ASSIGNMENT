{
 "cells": [
  {
   "cell_type": "code",
   "execution_count": 13,
   "id": "0efd6bfe-f0f0-4add-aa3d-b813ce359454",
   "metadata": {},
   "outputs": [
    {
     "name": "stdin",
     "output_type": "stream",
     "text": [
      " 10\n",
      " 20\n"
     ]
    },
    {
     "name": "stdout",
     "output_type": "stream",
     "text": [
      "20\n",
      "10\n"
     ]
    }
   ],
   "source": [
    "#QUESTION 1\n",
    "X=input()\n",
    "Y=input()\n",
    "X,Y=Y,X\n",
    "print(X)\n",
    "print(Y)"
   ]
  },
  {
   "cell_type": "code",
   "execution_count": 12,
   "id": "c620f0b9-536b-4600-9c39-34f278d7cc83",
   "metadata": {},
   "outputs": [
    {
     "name": "stdin",
     "output_type": "stream",
     "text": [
      " 2\n",
      " 3\n"
     ]
    },
    {
     "name": "stdout",
     "output_type": "stream",
     "text": [
      "The area of rectangle is: 6\n"
     ]
    }
   ],
   "source": [
    "#QUESTION 2\n",
    "length=input()\n",
    "bredth=input()\n",
    "area=int(length)*int(bredth)\n",
    "print(\"The area of rectangle is:\",area)"
   ]
  },
  {
   "cell_type": "code",
   "execution_count": 13,
   "id": "0106f344-720e-4393-a50d-59d6e664aa13",
   "metadata": {},
   "outputs": [
    {
     "name": "stdin",
     "output_type": "stream",
     "text": [
      "Give temprature value in celcius: 32\n"
     ]
    },
    {
     "name": "stdout",
     "output_type": "stream",
     "text": [
      "The temprature in farhenheit is: 89.6\n"
     ]
    }
   ],
   "source": [
    "##### QUESTION 3\n",
    "\n",
    "c=int(input(\"Give temprature value in celcius:\"))\n",
    "f=float(c*1.8)+32\n",
    "print(\"The temprature in farhenheit is:\",f)\n"
   ]
  },
  {
   "cell_type": "code",
   "execution_count": 14,
   "id": "9a8162e1-2e79-4777-b54f-e558092e7597",
   "metadata": {},
   "outputs": [
    {
     "data": {
      "text/plain": [
       "12"
      ]
     },
     "execution_count": 14,
     "metadata": {},
     "output_type": "execute_result"
    }
   ],
   "source": [
    "#QUESTION 4\n",
    "str1=\"ubaid arshad\"\n",
    "len(str1)\n"
   ]
  },
  {
   "cell_type": "code",
   "execution_count": 63,
   "id": "85fee27a-aeef-45b5-b74e-3f9ba4484fe7",
   "metadata": {},
   "outputs": [
    {
     "name": "stdin",
     "output_type": "stream",
     "text": [
      "please write to check: all glitter is not gold\n"
     ]
    },
    {
     "name": "stdout",
     "output_type": "stream",
     "text": [
      "the number of vowels present in string is: 6\n"
     ]
    }
   ],
   "source": [
    "#QUESTION 5\n",
    "str2=input(\"please write to check:\")\n",
    "str2=str2.lower()\n",
    "count=0\n",
    "for i in str2:\n",
    "    if i==\"a\" or i==\"e\" or i==\"i\" or i==\"o\" or i==\"u\":\n",
    "       count=count+1\n",
    "if count==0:\n",
    "    print(\"no vowel found\")\n",
    "else:\n",
    "    print(\"the number of vowels present in string is:\",str(count))\n",
    "  "
   ]
  },
  {
   "cell_type": "code",
   "execution_count": 65,
   "id": "b0e2f4b6-0968-4022-b2f2-b8c4312663a5",
   "metadata": {},
   "outputs": [
    {
     "name": "stdin",
     "output_type": "stream",
     "text": [
      "please give string as input: as you wish\n"
     ]
    },
    {
     "name": "stdout",
     "output_type": "stream",
     "text": [
      "The required string is: hsiw uoy sa\n"
     ]
    }
   ],
   "source": [
    "#QUESTION 6\n",
    "str3=input(\"please give string as input:\")\n",
    "str_new=str3[::-1]\n",
    "print(\"The required answer is:\",str_new)"
   ]
  },
  {
   "cell_type": "code",
   "execution_count": 4,
   "id": "5ae8dbcb-20ac-4884-a0be-f937d18a90df",
   "metadata": {},
   "outputs": [
    {
     "name": "stdin",
     "output_type": "stream",
     "text": [
      "write a string: ASDFGH\n"
     ]
    },
    {
     "name": "stdout",
     "output_type": "stream",
     "text": [
      "not palindrome\n"
     ]
    }
   ],
   "source": [
    "#QUESTION 7\n",
    "str4=str(input(\"write a string:\"))\n",
    "if str4[::-1]==str4[:]:\n",
    "    print(\"The given string is palindrome\")\n",
    "else:\n",
    "    print(\"not palindrome\")\n"
   ]
  },
  {
   "cell_type": "code",
   "execution_count": 9,
   "id": "a3471757-a239-4e64-867b-924337472b58",
   "metadata": {},
   "outputs": [
    {
     "name": "stdin",
     "output_type": "stream",
     "text": [
      "please give string as input dfh gufdff gg\n"
     ]
    },
    {
     "data": {
      "text/plain": [
       "'dfhgufdffgg'"
      ]
     },
     "execution_count": 9,
     "metadata": {},
     "output_type": "execute_result"
    }
   ],
   "source": [
    "#QUESTION 8\n",
    "str5=str(input(\"please give string as input\"))\n",
    "str5.replace(\" \",\"\")"
   ]
  }
 ],
 "metadata": {
  "kernelspec": {
   "display_name": "Python 3 (ipykernel)",
   "language": "python",
   "name": "python3"
  },
  "language_info": {
   "codemirror_mode": {
    "name": "ipython",
    "version": 3
   },
   "file_extension": ".py",
   "mimetype": "text/x-python",
   "name": "python",
   "nbconvert_exporter": "python",
   "pygments_lexer": "ipython3",
   "version": "3.10.8"
  }
 },
 "nbformat": 4,
 "nbformat_minor": 5
}
