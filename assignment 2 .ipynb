{
 "cells": [
  {
   "cell_type": "markdown",
   "id": "5a8dc966-f00a-4fe9-9ce3-d453bf55e790",
   "metadata": {},
   "source": [
    "#question on strings"
   ]
  },
  {
   "cell_type": "code",
   "execution_count": 1,
   "id": "45f3fa29-c8cd-4f7a-8826-5beb66ea5646",
   "metadata": {},
   "outputs": [
    {
     "data": {
      "text/plain": [
       "'doog era uoy'"
      ]
     },
     "execution_count": 1,
     "metadata": {},
     "output_type": "execute_result"
    }
   ],
   "source": [
    "#ques1\n",
    "str1=\"you are good\"\n",
    "str1[::-1]"
   ]
  },
  {
   "cell_type": "code",
   "execution_count": 7,
   "id": "16a493b0-fff8-4124-bb49-86b8c5953b69",
   "metadata": {},
   "outputs": [
    {
     "name": "stdin",
     "output_type": "stream",
     "text": [
      "enter the string ubaid\n"
     ]
    },
    {
     "name": "stdout",
     "output_type": "stream",
     "text": [
      "ubaid not palindrome\n"
     ]
    }
   ],
   "source": [
    "#ques2\n",
    "str2=input(\"enter the string\")\n",
    "str3=str2[::-1]\n",
    "if str3==str2:\n",
    "    print(str2,\"it is palindrome number\")\n",
    "else:\n",
    "    print(str2,\"not palindrome\")\n"
   ]
  },
  {
   "cell_type": "code",
   "execution_count": 9,
   "id": "75214f21-8e6b-48f6-b535-c8e7b4a1e23f",
   "metadata": {},
   "outputs": [
    {
     "name": "stdout",
     "output_type": "stream",
     "text": [
      "YOU ARE GOOD\n"
     ]
    }
   ],
   "source": [
    "#ques3\n",
    "str4=str1.upper()\n",
    "print(str4)"
   ]
  },
  {
   "cell_type": "code",
   "execution_count": 10,
   "id": "8ae71e3a-d2e0-434f-abd1-ba2eeef8ebcd",
   "metadata": {},
   "outputs": [
    {
     "name": "stdout",
     "output_type": "stream",
     "text": [
      "you are good\n"
     ]
    }
   ],
   "source": [
    "#ques4\n",
    "str5=str1.lower()\n",
    "print(str5)"
   ]
  },
  {
   "cell_type": "code",
   "execution_count": 28,
   "id": "9e148ab7-96ba-4061-8d6d-660bc832c912",
   "metadata": {},
   "outputs": [
    {
     "name": "stdin",
     "output_type": "stream",
     "text": [
      "enter the string ubaidarshad\n"
     ]
    },
    {
     "name": "stdout",
     "output_type": "stream",
     "text": [
      "the number of vowels in a given string is: 5\n",
      "the number of consonants in a given string is: 6\n"
     ]
    }
   ],
   "source": [
    "#ques5 and #ques6\n",
    "count=0\n",
    "count1=0\n",
    "str6=input(\"enter the string\")\n",
    "str6=str6.lower()\n",
    "for i in str6:\n",
    "    if i==\"a\"or i==\"e\"or i==\"i\"or i==\"o\"or i==\"u\":\n",
    "        count=count+1\n",
    "    else:\n",
    "        count1=count1+1\n",
    "print(\"the number of vowels in a given string is:\",count)\n",
    "print(\"the number of consonants in a given string is:\",count1)\n"
   ]
  },
  {
   "cell_type": "code",
   "execution_count": 34,
   "id": "bdc255fc-ecd9-48dd-ac31-b1f36d46111a",
   "metadata": {},
   "outputs": [
    {
     "name": "stdin",
     "output_type": "stream",
     "text": [
      "enter the string      ubaid    \n"
     ]
    },
    {
     "data": {
      "text/plain": [
       "'ubaid'"
      ]
     },
     "execution_count": 34,
     "metadata": {},
     "output_type": "execute_result"
    }
   ],
   "source": [
    "#ques7\n",
    "str7=input(\"enter the string\")\n",
    "str7.strip()"
   ]
  },
  {
   "cell_type": "code",
   "execution_count": 36,
   "id": "0d71e454-bf92-4d18-8c4f-6163e1bed268",
   "metadata": {},
   "outputs": [
    {
     "name": "stdout",
     "output_type": "stream",
     "text": [
      "11\n"
     ]
    }
   ],
   "source": [
    "#ques8\n",
    "count=0\n",
    "str8=\"ubaidarshad\"\n",
    "for i in str8:\n",
    "    count=count+1\n",
    "print(count)    \n",
    "    "
   ]
  },
  {
   "cell_type": "code",
   "execution_count": 1,
   "id": "4185a910-c9df-49a8-acb1-46991089f442",
   "metadata": {},
   "outputs": [
    {
     "name": "stdin",
     "output_type": "stream",
     "text": [
      "enter a string ubaidcbi\n"
     ]
    },
    {
     "name": "stdout",
     "output_type": "stream",
     "text": [
      "character found\n"
     ]
    }
   ],
   "source": [
    "#ques9\n",
    "str9=input(\"enter a string\")\n",
    "for i in str9:\n",
    "    if \"c\" in str9:\n",
    "        print(\"character found\")\n",
    "        break\n",
    "    else:\n",
    "        print(\"character not found\")"
   ]
  },
  {
   "cell_type": "code",
   "execution_count": 5,
   "id": "b64d08f8-d090-4bbd-975e-af4650596b9d",
   "metadata": {},
   "outputs": [
    {
     "name": "stdin",
     "output_type": "stream",
     "text": [
      "enter a string ram is a good boy\n"
     ]
    },
    {
     "name": "stdout",
     "output_type": "stream",
     "text": [
      "word found\n"
     ]
    }
   ],
   "source": [
    "#ques9\n",
    "tr9=input(\"enter a string\")\n",
    "if \"boy\" in tr9:\n",
    "    print(\"word found\")\n",
    "else:\n",
    "    print(\"word not found\")"
   ]
  },
  {
   "cell_type": "code",
   "execution_count": 19,
   "id": "caa6ee8b-600e-422a-b98c-219dca551be5",
   "metadata": {},
   "outputs": [
    {
     "name": "stdout",
     "output_type": "stream",
     "text": [
      "shyam is a good boy\n"
     ]
    }
   ],
   "source": [
    "#ques10\n",
    "str10=\"Ram is a good boy\"\n",
    "m=str10.replace(\"Ram\",\"shyam\")\n",
    "print(m)"
   ]
  },
  {
   "cell_type": "code",
   "execution_count": 3,
   "id": "4d5a491c-8488-49b4-b308-e96fb9f1b90c",
   "metadata": {},
   "outputs": [
    {
     "name": "stdin",
     "output_type": "stream",
     "text": [
      "enter the string you want: there is a bautiful dog and i like dog very much\n"
     ]
    },
    {
     "name": "stdout",
     "output_type": "stream",
     "text": [
      "2\n"
     ]
    }
   ],
   "source": [
    "#ques11\n",
    "str11=input(\"enter the string you want:\")\n",
    "a=str11.count(\"dog\")\n",
    "print(a)\n"
   ]
  },
  {
   "cell_type": "code",
   "execution_count": null,
   "id": "f32a33c3-59da-48e6-92b7-3e5e512717dc",
   "metadata": {},
   "outputs": [],
   "source": [
    "#ques12\n"
   ]
  },
  {
   "cell_type": "code",
   "execution_count": null,
   "id": "5bdd16a8-8688-4a74-bd55-9153abb47d4a",
   "metadata": {},
   "outputs": [],
   "source": [
    "#ques13"
   ]
  },
  {
   "cell_type": "code",
   "execution_count": 4,
   "id": "df6c6579-a89f-484a-a1ec-42eb7783d1dd",
   "metadata": {},
   "outputs": [
    {
     "name": "stdout",
     "output_type": "stream",
     "text": [
      "['ram', 'is', 'a', 'good', 'boy']\n"
     ]
    }
   ],
   "source": [
    "#ques14\n",
    "str12=\"ram is a good boy\"\n",
    "u=str12.split(\" \")\n",
    "print(u)"
   ]
  },
  {
   "cell_type": "code",
   "execution_count": 7,
   "id": "a7b2e605-2e99-4fd0-b22a-9f59c10da79a",
   "metadata": {},
   "outputs": [
    {
     "name": "stdout",
     "output_type": "stream",
     "text": [
      "ram is a good boy "
     ]
    }
   ],
   "source": [
    "#ques15\n",
    "for i in u:\n",
    "    print(i,end=\" \")"
   ]
  },
  {
   "cell_type": "code",
   "execution_count": 2,
   "id": "05dcd285-d68f-44e3-b357-b8f3a1e9bb67",
   "metadata": {},
   "outputs": [
    {
     "name": "stdin",
     "output_type": "stream",
     "text": [
      "enter a string every action there is an equal and opp reaction\n"
     ]
    },
    {
     "name": "stdout",
     "output_type": "stream",
     "text": [
      "every_ action_ there_ is_ an_ equal_ and_ opp_ reaction\n"
     ]
    }
   ],
   "source": [
    "#ques16\n",
    "str13=input(\"enter a string\")\n",
    "var=str13.replace(\" \",\"_ \")\n",
    "print(var)"
   ]
  },
  {
   "cell_type": "code",
   "execution_count": 6,
   "id": "e00b3a3e-966a-44c2-a003-f7e0ceea2cad",
   "metadata": {},
   "outputs": [
    {
     "data": {
      "text/plain": [
       "True"
      ]
     },
     "execution_count": 6,
     "metadata": {},
     "output_type": "execute_result"
    }
   ],
   "source": [
    "#ques17\n",
    "str13.startswith(\"every\")"
   ]
  },
  {
   "cell_type": "code",
   "execution_count": 9,
   "id": "0a86cd89-cfc7-403d-91dc-444c7d9af8bb",
   "metadata": {},
   "outputs": [
    {
     "data": {
      "text/plain": [
       "False"
      ]
     },
     "execution_count": 9,
     "metadata": {},
     "output_type": "execute_result"
    }
   ],
   "source": [
    "#ques18\n",
    "str13.endswith(\"equal\")"
   ]
  },
  {
   "cell_type": "code",
   "execution_count": 10,
   "id": "bd9535e6-684e-4d61-94b6-425caf09e5da",
   "metadata": {},
   "outputs": [
    {
     "name": "stdout",
     "output_type": "stream",
     "text": [
      "Every Action There Is An Equal And Opp Reaction\n"
     ]
    }
   ],
   "source": [
    "#ques19\n",
    "b=str13.title()\n",
    "print(b)"
   ]
  },
  {
   "cell_type": "code",
   "execution_count": 12,
   "id": "aba85fe2-ce5d-4673-a14d-1ae409c6a3ab",
   "metadata": {},
   "outputs": [
    {
     "name": "stdout",
     "output_type": "stream",
     "text": [
      "peoples\n"
     ]
    }
   ],
   "source": [
    "#####ques20\n",
    "a=\"there is a busy bug inside a peoples\"\n",
    "a=a.split(\" \")\n",
    "longest_word=max(a,key=len)\n",
    "print(longest_word)"
   ]
  },
  {
   "cell_type": "code",
   "execution_count": 14,
   "id": "d0da7b50-f0be-41f7-af86-5b0e0a647393",
   "metadata": {},
   "outputs": [
    {
     "name": "stdout",
     "output_type": "stream",
     "text": [
      "a\n"
     ]
    }
   ],
   "source": [
    "####ques 21\n",
    "c=\"If have a beatutiful butterfly\"\n",
    "c=c.split(\" \")\n",
    "shortest_word=min(c,key=len)\n",
    "print(shortest_word)"
   ]
  },
  {
   "cell_type": "code",
   "execution_count": 56,
   "id": "ad4c6264-a3c9-4ca1-bd06-c6efb839738c",
   "metadata": {},
   "outputs": [
    {
     "name": "stdout",
     "output_type": "stream",
     "text": [
      "taerg era uoy\n"
     ]
    }
   ],
   "source": [
    "#ques 22\n",
    "bh=\"you are great\"\n",
    "ah=bh[::-1]\n",
    "print(ah)\n"
   ]
  },
  {
   "cell_type": "code",
   "execution_count": 57,
   "id": "7960a871-8e99-48e6-8687-2b93b85b9093",
   "metadata": {},
   "outputs": [
    {
     "data": {
      "text/plain": [
       "False"
      ]
     },
     "execution_count": 57,
     "metadata": {},
     "output_type": "execute_result"
    }
   ],
   "source": [
    "#ques 23\n",
    "bh.isalnum()"
   ]
  },
  {
   "cell_type": "code",
   "execution_count": 23,
   "id": "132e335e-8f61-4f95-ae34-f7993aaa78f2",
   "metadata": {},
   "outputs": [
    {
     "name": "stdout",
     "output_type": "stream",
     "text": [
      "2\n",
      "3\n"
     ]
    }
   ],
   "source": [
    "#q24\n",
    "string=\"i have 2 basket in 3 house\"\n",
    "for i in string:\n",
    "    if i.isdigit():\n",
    "        print(i)"
   ]
  },
  {
   "cell_type": "code",
   "execution_count": 29,
   "id": "7fa4a063-81fa-4a22-bff7-a25a081a3b2a",
   "metadata": {},
   "outputs": [
    {
     "name": "stdout",
     "output_type": "stream",
     "text": [
      "i h a v e b a s k e t i n h o u s e "
     ]
    }
   ],
   "source": [
    "#q25\n",
    "string=\"i have 2 basket in 3 house\"\n",
    "for i in string:\n",
    "    if i.isalpha():\n",
    "        print(i,end=\" \")\n",
    "        "
   ]
  },
  {
   "cell_type": "code",
   "execution_count": 33,
   "id": "f457d4c9-27de-4912-b89f-2c4f1abd583f",
   "metadata": {},
   "outputs": [
    {
     "name": "stdout",
     "output_type": "stream",
     "text": [
      "10\n"
     ]
    }
   ],
   "source": [
    "#q26\n",
    "count=0\n",
    "string2=\"I HAVE a Two String VoLvO\"\n",
    "for i in string2:\n",
    "    if i.isupper():\n",
    "        count=count+1\n",
    "print(count)"
   ]
  },
  {
   "cell_type": "code",
   "execution_count": 34,
   "id": "e4f54120-4929-4b24-b6c5-e81381752ce7",
   "metadata": {},
   "outputs": [
    {
     "name": "stdout",
     "output_type": "stream",
     "text": [
      "10\n"
     ]
    }
   ],
   "source": [
    "#q27\n",
    "count=0\n",
    "string2=\"I HAVE a Two String VoLvO\"\n",
    "for i in string2:\n",
    "    if i.islower():\n",
    "        count=count+1\n",
    "print(count)"
   ]
  },
  {
   "cell_type": "code",
   "execution_count": null,
   "id": "d98565ba-7137-486c-b06f-a68538841fca",
   "metadata": {},
   "outputs": [],
   "source": [
    "#q28"
   ]
  },
  {
   "cell_type": "code",
   "execution_count": 42,
   "id": "7cd77dfb-d993-4abc-a500-107b155a5aaf",
   "metadata": {},
   "outputs": [
    {
     "name": "stdout",
     "output_type": "stream",
     "text": [
      " life  rules in this blank\n"
     ]
    }
   ],
   "source": [
    "#q29\n",
    "string3=\"my life my rules in this blank\"\n",
    "string3=string3.replace(\"my\",\"\")\n",
    "print(string3)"
   ]
  },
  {
   "cell_type": "code",
   "execution_count": 21,
   "id": "cbcc94f2-0bbf-4913-b3ea-8c926a9ba348",
   "metadata": {},
   "outputs": [
    {
     "name": "stdout",
     "output_type": "stream",
     "text": [
      "ubaidengg2019@ is valid address\n"
     ]
    }
   ],
   "source": [
    "#q30\n",
    "string4=\"ubaidengg2019@gmail.com\"\n",
    "if string4."
   ]
  },
  {
   "cell_type": "code",
   "execution_count": null,
   "id": "ce11b7fb-d42f-4a52-bd6c-ac19765391aa",
   "metadata": {},
   "outputs": [],
   "source": [
    "#q31\n"
   ]
  },
  {
   "cell_type": "code",
   "execution_count": null,
   "id": "58040031-b2d8-40c4-b999-a7f52130d264",
   "metadata": {},
   "outputs": [],
   "source": [
    "#q32"
   ]
  },
  {
   "cell_type": "code",
   "execution_count": 66,
   "id": "c69e7eab-3efe-40f4-8bc4-548491e175b1",
   "metadata": {},
   "outputs": [
    {
     "name": "stdout",
     "output_type": "stream",
     "text": [
      "['There', 'is', 'little', 'boy', 'in', 'a', 'school']\n",
      "There is little boy in a school\n"
     ]
    }
   ],
   "source": [
    "#q33\n",
    "string5=\"There     is   little    boy  in   a    school\"\n",
    "# n=string5.replace(\"  \",\" \")\n",
    "# print(n)\n",
    "string5=string5.split()\n",
    "print(string5)\n",
    "n=\" \".join(string5)\n",
    "print(n)\n"
   ]
  },
  {
   "cell_type": "code",
   "execution_count": null,
   "id": "3927f24c-f419-43a1-8560-1923beabcdfe",
   "metadata": {},
   "outputs": [],
   "source": [
    "#q34"
   ]
  },
  {
   "cell_type": "code",
   "execution_count": null,
   "id": "824e9577-4d17-43dd-847f-eea69ab0cb40",
   "metadata": {},
   "outputs": [],
   "source": [
    "#q35"
   ]
  },
  {
   "cell_type": "code",
   "execution_count": 75,
   "id": "c6c98ea3-7290-4f11-bd52-02fbc317a2b6",
   "metadata": {},
   "outputs": [
    {
     "name": "stdout",
     "output_type": "stream",
     "text": [
      "27\n"
     ]
    }
   ],
   "source": [
    "######q36\n",
    "count=0\n",
    "string6=\"A very important work to do\"\n",
    "string6=string6.lower()\n",
    "for i in string6:\n",
    "    if (\"a\") in string6:\n",
    "        count=count+1\n",
    "print(count)"
   ]
  },
  {
   "cell_type": "code",
   "execution_count": 83,
   "id": "b7989663-2c9c-4c2e-a446-59d9d51925cf",
   "metadata": {},
   "outputs": [
    {
     "name": "stdout",
     "output_type": "stream",
     "text": [
      "a i s b b r o t h e r "
     ]
    }
   ],
   "source": [
    "#q37\n",
    "string7=\"a: is b! ;brother.\"\n",
    "for i in string7:\n",
    "    if i.isalpha():\n",
    "        print(i,end=\" \")\n",
    "\n"
   ]
  },
  {
   "cell_type": "code",
   "execution_count": 96,
   "id": "5ee0c7e3-2935-4433-8f93-38b05b17bfd5",
   "metadata": {},
   "outputs": [
    {
     "name": "stdout",
     "output_type": "stream",
     "text": [
      "i it is other than digit\n",
      "  it is other than digit\n",
      "h it is other than digit\n",
      "a it is other than digit\n",
      "v it is other than digit\n",
      "e it is other than digit\n",
      "  it is other than digit\n",
      "2 yes digit found\n",
      "  it is other than digit\n",
      "b it is other than digit\n",
      "a it is other than digit\n",
      "s it is other than digit\n",
      "k it is other than digit\n",
      "e it is other than digit\n",
      "t it is other than digit\n",
      "  it is other than digit\n",
      "i it is other than digit\n",
      "n it is other than digit\n",
      "  it is other than digit\n",
      "3 yes digit found\n",
      "  it is other than digit\n",
      "h it is other than digit\n",
      "o it is other than digit\n",
      "u it is other than digit\n",
      "s it is other than digit\n",
      "e it is other than digit\n"
     ]
    }
   ],
   "source": [
    "string=\"i have 2 basket in 3 house\"\n",
    "for i in string:\n",
    "    if i.isdigit():\n",
    "         print(i,\"yes digit found\")\n",
    "    else:\n",
    "        print(i,\"it is other than digit\")"
   ]
  },
  {
   "cell_type": "code",
   "execution_count": 95,
   "id": "54a2bfbc-7db0-4bf0-b57e-445e02b82b0c",
   "metadata": {},
   "outputs": [
    {
     "name": "stdout",
     "output_type": "stream",
     "text": [
      "i yes alpha value found\n",
      "  it is other than alpha\n",
      "h yes alpha value found\n",
      "a yes alpha value found\n",
      "v yes alpha value found\n",
      "e yes alpha value found\n",
      "  it is other than alpha\n",
      "2 it is other than alpha\n",
      "  it is other than alpha\n",
      "b yes alpha value found\n",
      "a yes alpha value found\n",
      "s yes alpha value found\n",
      "k yes alpha value found\n",
      "e yes alpha value found\n",
      "t yes alpha value found\n",
      "  it is other than alpha\n",
      "i yes alpha value found\n",
      "n yes alpha value found\n",
      "  it is other than alpha\n",
      "3 it is other than alpha\n",
      "  it is other than alpha\n",
      "h yes alpha value found\n",
      "o yes alpha value found\n",
      "u yes alpha value found\n",
      "s yes alpha value found\n",
      "e yes alpha value found\n"
     ]
    }
   ],
   "source": [
    "string=\"i have 2 basket in 3 house\"\n",
    "for i in string:\n",
    "    if i.isalpha():\n",
    "         print(i,\"yes alpha value found\")\n",
    "    else:\n",
    "        print(i,\"it is other than alpha\")"
   ]
  },
  {
   "cell_type": "code",
   "execution_count": 97,
   "id": "b0cb25dc-dda5-4d1c-96ec-15f297b6ef6f",
   "metadata": {},
   "outputs": [
    {
     "data": {
      "text/plain": [
       "'i have 2 basket in 3 house'"
      ]
     },
     "execution_count": 97,
     "metadata": {},
     "output_type": "execute_result"
    }
   ],
   "source": [
    "#q40\n",
    "for i in string\n"
   ]
  },
  {
   "cell_type": "code",
   "execution_count": 104,
   "id": "d0b353b5-4a5c-4744-8a6e-8270df2166b8",
   "metadata": {},
   "outputs": [
    {
     "name": "stdout",
     "output_type": "stream",
     "text": [
      "it is anagrams\n"
     ]
    }
   ],
   "source": [
    "#q41\n",
    "strng1=\"listeninle\"\n",
    "strng2=\"listen\"\n",
    "strng_1=set(strng1)\n",
    "strng_2=set(strng2)\n",
    "if strng_1==strng_2:\n",
    "    print(\"it is anagrams\")\n",
    "else:\n",
    "    print(\"not anagrams\")"
   ]
  },
  {
   "cell_type": "code",
   "execution_count": null,
   "id": "7d5d9e89-f438-44d4-a0bf-34f0f098ed3e",
   "metadata": {},
   "outputs": [],
   "source": [
    "#QUES 42 "
   ]
  },
  {
   "cell_type": "code",
   "execution_count": null,
   "id": "d88dd1ea-8df3-4cdb-8c95-2a90c2dbb01b",
   "metadata": {},
   "outputs": [],
   "source": [
    "#QUES 43"
   ]
  },
  {
   "cell_type": "code",
   "execution_count": 15,
   "id": "05fbed66-e9a7-4389-90fc-d9627185b1e6",
   "metadata": {},
   "outputs": [
    {
     "ename": "SyntaxError",
     "evalue": "invalid syntax (1909728132.py, line 7)",
     "output_type": "error",
     "traceback": [
      "\u001b[0;36m  Cell \u001b[0;32mIn[15], line 7\u001b[0;36m\u001b[0m\n\u001b[0;31m    if i.():\u001b[0m\n\u001b[0m         ^\u001b[0m\n\u001b[0;31mSyntaxError\u001b[0m\u001b[0;31m:\u001b[0m invalid syntax\n"
     ]
    }
   ],
   "source": [
    "#QUES 44\n",
    "count=0\n",
    "string_1=input(\"enter the string\")\n",
    "string_2=string_1.split()\n",
    "print(string_2,end=\" \")\n",
    "for i in string_2:\n",
    "    if i.():\n",
    "        count=count+1\n",
    "print(count)    "
   ]
  },
  {
   "cell_type": "code",
   "execution_count": 9,
   "id": "58eba453-d65b-43ee-b5cb-487765ce53ee",
   "metadata": {},
   "outputs": [
    {
     "name": "stdin",
     "output_type": "stream",
     "text": [
      "please enter the string hi people\n"
     ]
    },
    {
     "name": "stdout",
     "output_type": "stream",
     "text": [
      "['hi', 'people']\n",
      "all unique words in a given string is : {'hi', 'people'}\n"
     ]
    }
   ],
   "source": [
    "#q45\n",
    "string_45=input(\"please enter the string\")\n",
    "str_45=string_45.split()\n",
    "print(str_45)\n",
    "str_45=set(str_45)\n",
    "print(\"all unique words in a given string is :\",str_45)"
   ]
  },
  {
   "cell_type": "code",
   "execution_count": null,
   "id": "6c26a1b4-3721-4542-8500-ce53f28566e8",
   "metadata": {},
   "outputs": [],
   "source": [
    "#q46\n"
   ]
  },
  {
   "cell_type": "code",
   "execution_count": 11,
   "id": "ac429b21-4c8d-4d24-9468-c730ade2f884",
   "metadata": {},
   "outputs": [
    {
     "name": "stdout",
     "output_type": "stream",
     "text": [
      "['h', 'e', 'l', 'l', 'o', '@', '1', '2', '3', '!', '_', '9', '&', '7']\n",
      "h this is not special character\n",
      "e this is not special character\n",
      "l this is not special character\n",
      "l this is not special character\n",
      "o this is not special character\n",
      "@ is special character\n",
      "1 this is not special character\n",
      "2 this is not special character\n",
      "3 this is not special character\n",
      "! is special character\n",
      "_ is special character\n",
      "9 this is not special character\n",
      "& is special character\n",
      "7 this is not special character\n"
     ]
    }
   ],
   "source": [
    "#q47\n",
    "str47=\"hello@123!_9&7\"\n",
    "str47=list(str47)\n",
    "print(str47)\n",
    "for i in str47:\n",
    "    if i.isalnum():\n",
    "        print(i,\"this is not special character\")\n",
    "    else:\n",
    "        print(i,\"is special character\")"
   ]
  },
  {
   "cell_type": "code",
   "execution_count": 14,
   "id": "6f9b9c92-13e8-4798-af41-d1ebef2b1411",
   "metadata": {},
   "outputs": [
    {
     "name": "stdout",
     "output_type": "stream",
     "text": [
      "['ubaid', 'is', 'a', 'good', 'boy']\n",
      "['ubaid', 'is', 'a', 'good']\n"
     ]
    }
   ],
   "source": [
    "#q48\n",
    "str48=\"ubaid is a good boy\"\n",
    "str48=str48.split()\n",
    "print(str48)\n",
    "str48.pop()\n",
    "print (str48)"
   ]
  },
  {
   "cell_type": "code",
   "execution_count": 13,
   "id": "7c7c4933-66bc-45bd-a747-c756efe59723",
   "metadata": {},
   "outputs": [
    {
     "name": "stdout",
     "output_type": "stream",
     "text": [
      "ram is a good\n",
      "['ram', 'is', 'a', 'good']\n",
      "['ram', 'is', 'a', 'good', 'boy']\n",
      "ram is a good boy "
     ]
    }
   ],
   "source": [
    "#q49\n",
    "str49=\"ram is a good\"\n",
    "print(str49)\n",
    "str49=str49.split()\n",
    "print(str49)\n",
    "str49.append(\"boy\")\n",
    "print(str49)\n",
    "for i in str49:\n",
    "    print(i,end=\" \")"
   ]
  },
  {
   "cell_type": "code",
   "execution_count": null,
   "id": "80b319fa-12f9-43de-9f4f-38ac146d2b69",
   "metadata": {},
   "outputs": [],
   "source": [
    "#q50"
   ]
  },
  {
   "cell_type": "code",
   "execution_count": null,
   "id": "a2bd881d-e143-437c-8f33-fc676b07abf0",
   "metadata": {},
   "outputs": [],
   "source": []
  },
  {
   "cell_type": "markdown",
   "id": "11579872-98a0-41ae-8597-cbe130fc568e",
   "metadata": {},
   "source": [
    "#question on list(List Based Practice Problem :)"
   ]
  },
  {
   "cell_type": "code",
   "execution_count": 14,
   "id": "a55b1c6d-e630-4dd3-badd-cc7950872099",
   "metadata": {},
   "outputs": [
    {
     "name": "stdout",
     "output_type": "stream",
     "text": [
      "[1, 2, 3, 4, 5, 6, 7, 8, 9, 10]\n"
     ]
    }
   ],
   "source": [
    "#ques1\n",
    "lst1=[1,2,3,4,5,6,7,8,9,10]\n",
    "print(lst1)"
   ]
  },
  {
   "cell_type": "code",
   "execution_count": 16,
   "id": "fb4c30f5-95c1-4a71-aaaa-e6f7788c0120",
   "metadata": {},
   "outputs": [
    {
     "name": "stdout",
     "output_type": "stream",
     "text": [
      "10\n"
     ]
    }
   ],
   "source": [
    "#ques2\n",
    "count=0\n",
    "for i in lst1:\n",
    "    count=count+1\n",
    "print(count) "
   ]
  },
  {
   "cell_type": "code",
   "execution_count": 18,
   "id": "5fdf9e09-d39b-48ba-a7a4-2f72dec13d03",
   "metadata": {},
   "outputs": [
    {
     "name": "stdout",
     "output_type": "stream",
     "text": [
      "[1, 2, 3, 4, 5, 6, 7, 8, 9, 10, '11', 11]\n"
     ]
    }
   ],
   "source": [
    "#ques3\n",
    "lst1.append(11)\n",
    "print(lst1)"
   ]
  },
  {
   "cell_type": "code",
   "execution_count": 19,
   "id": "614bfec3-a717-403e-a1f9-fe4d6618ac5a",
   "metadata": {},
   "outputs": [
    {
     "name": "stdout",
     "output_type": "stream",
     "text": [
      "[1, 2, 3, 3.5, 4, 5, 6, 7, 8, 9, 10, '11', 11]\n"
     ]
    }
   ],
   "source": [
    "#ques4\n",
    "lst1.insert(3,3.5)\n",
    "print(lst1)"
   ]
  },
  {
   "cell_type": "code",
   "execution_count": 20,
   "id": "71a70cd4-524b-4e73-a2a6-e0c820be0a55",
   "metadata": {},
   "outputs": [
    {
     "name": "stdout",
     "output_type": "stream",
     "text": [
      "[1, 2, 3, 3.5, 4, 5, 6, 7, 8, 9, 10, 11]\n"
     ]
    }
   ],
   "source": [
    "#ques5\n",
    "lst1.remove(\"11\")\n",
    "print(lst1)"
   ]
  },
  {
   "cell_type": "code",
   "execution_count": 21,
   "id": "b6fbfccb-116a-4fde-81c0-e5cf1690d7e8",
   "metadata": {},
   "outputs": [
    {
     "name": "stdout",
     "output_type": "stream",
     "text": [
      "[1, 2, 3, 4, 5, 6, 7, 8, 9, 10, 11]\n"
     ]
    }
   ],
   "source": [
    "#ques6\n",
    "lst1.remove(lst1[3])\n",
    "print(lst1)"
   ]
  },
  {
   "cell_type": "code",
   "execution_count": 22,
   "id": "677f3504-ed71-4f70-b9df-20af8c663aee",
   "metadata": {},
   "outputs": [
    {
     "data": {
      "text/plain": [
       "True"
      ]
     },
     "execution_count": 22,
     "metadata": {},
     "output_type": "execute_result"
    }
   ],
   "source": [
    "#ques7\n",
    "1 in lst1"
   ]
  },
  {
   "cell_type": "code",
   "execution_count": 3,
   "id": "e7b20fa4-d9b5-4c21-823a-0a5de2fe183d",
   "metadata": {},
   "outputs": [
    {
     "data": {
      "text/plain": [
       "0"
      ]
     },
     "execution_count": 3,
     "metadata": {},
     "output_type": "execute_result"
    }
   ],
   "source": [
    "#ques8\n",
    "lst2=[1,2,3,4,5,6]\n",
    "lst2.index(1)\n"
   ]
  },
  {
   "cell_type": "code",
   "execution_count": 8,
   "id": "64c94af4-963b-42c0-a444-2fd62fbe916e",
   "metadata": {},
   "outputs": [
    {
     "data": {
      "text/plain": [
       "6"
      ]
     },
     "execution_count": 8,
     "metadata": {},
     "output_type": "execute_result"
    }
   ],
   "source": [
    "#q9\n",
    "len(lst2)"
   ]
  },
  {
   "cell_type": "code",
   "execution_count": 9,
   "id": "978a0d49-ee3d-45e3-817b-b8371fc5ea09",
   "metadata": {},
   "outputs": [
    {
     "data": {
      "text/plain": [
       "[6, 5, 4, 3, 2, 1]"
      ]
     },
     "execution_count": 9,
     "metadata": {},
     "output_type": "execute_result"
    }
   ],
   "source": [
    "#q10\n",
    "lst2[::-1]"
   ]
  },
  {
   "cell_type": "code",
   "execution_count": 12,
   "id": "b8e6500e-f2bf-4c72-a764-61b184af72c7",
   "metadata": {},
   "outputs": [
    {
     "name": "stdout",
     "output_type": "stream",
     "text": [
      "[1, 2, 3, 4, 5, 6]\n"
     ]
    }
   ],
   "source": [
    "#q11\n",
    "lst2.sort()\n",
    "print(lst2)"
   ]
  },
  {
   "cell_type": "code",
   "execution_count": 13,
   "id": "4e09ee3f-9e57-4968-b727-ca2cacce4d71",
   "metadata": {},
   "outputs": [
    {
     "name": "stdout",
     "output_type": "stream",
     "text": [
      "[6, 5, 4, 3, 2, 1]\n"
     ]
    }
   ],
   "source": [
    "lst2.sort(reverse=True)\n",
    "print(lst2)"
   ]
  },
  {
   "cell_type": "code",
   "execution_count": 17,
   "id": "380fa19a-be12-49af-8412-6213fe240eba",
   "metadata": {},
   "outputs": [
    {
     "name": "stdout",
     "output_type": "stream",
     "text": [
      "the list of even no. in given ranges is:\n",
      "0\n",
      "2\n",
      "4\n",
      "6\n",
      "8\n",
      "10\n",
      "12\n",
      "14\n",
      "16\n",
      "18\n"
     ]
    }
   ],
   "source": [
    "print(\"the list of even no. in given ranges is:\")\n",
    "for i in range(20):\n",
    "    if i%2==0:\n",
    "        print(i)"
   ]
  },
  {
   "cell_type": "code",
   "execution_count": 18,
   "id": "7d1e541c-30fc-4437-9cbc-eecb51168ebd",
   "metadata": {},
   "outputs": [
    {
     "name": "stdout",
     "output_type": "stream",
     "text": [
      "the list of odd no. in given ranges is:\n",
      "1\n",
      "3\n",
      "5\n",
      "7\n",
      "9\n",
      "11\n",
      "13\n",
      "15\n",
      "17\n",
      "19\n"
     ]
    }
   ],
   "source": [
    "print(\"the list of odd no. in given ranges is:\")\n",
    "for i in range(20):\n",
    "    if i%2!=0:\n",
    "        print(i)"
   ]
  },
  {
   "cell_type": "code",
   "execution_count": 20,
   "id": "a3dcf3a8-e534-41ca-8578-844b08a4a077",
   "metadata": {},
   "outputs": [
    {
     "name": "stdout",
     "output_type": "stream",
     "text": [
      "161\n"
     ]
    }
   ],
   "source": [
    "lst_1=[21,52,32,56]\n",
    "sum=0\n",
    "for i in lst_1:\n",
    "    sum=sum+i\n",
    "print(sum)     "
   ]
  },
  {
   "cell_type": "code",
   "execution_count": 21,
   "id": "cd5f4e1b-7cbe-4864-8d6a-bba0b24eca03",
   "metadata": {},
   "outputs": [
    {
     "data": {
      "text/plain": [
       "56"
      ]
     },
     "execution_count": 21,
     "metadata": {},
     "output_type": "execute_result"
    }
   ],
   "source": [
    "max(lst_1)"
   ]
  },
  {
   "cell_type": "code",
   "execution_count": 22,
   "id": "b553d42e-f6e7-49df-b591-685f30ef8307",
   "metadata": {},
   "outputs": [
    {
     "data": {
      "text/plain": [
       "21"
      ]
     },
     "execution_count": 22,
     "metadata": {},
     "output_type": "execute_result"
    }
   ],
   "source": [
    "min(lst_1)"
   ]
  },
  {
   "cell_type": "code",
   "execution_count": 24,
   "id": "e27b725d-2605-48af-91b8-7f6669657e4c",
   "metadata": {},
   "outputs": [
    {
     "name": "stdout",
     "output_type": "stream",
     "text": [
      "0 = 0\n",
      "1 = 1\n",
      "2 = 4\n",
      "3 = 9\n",
      "4 = 16\n",
      "5 = 25\n",
      "6 = 36\n",
      "7 = 49\n",
      "8 = 64\n",
      "9 = 81\n",
      "10 = 100\n"
     ]
    }
   ],
   "source": [
    "for i in range(11):\n",
    "    print(i,\"=\",i**2)\n",
    "    \n"
   ]
  },
  {
   "cell_type": "code",
   "execution_count": 30,
   "id": "102fa97f-58ee-45e3-ac56-5574a4318081",
   "metadata": {},
   "outputs": [
    {
     "name": "stdin",
     "output_type": "stream",
     "text": [
      "give some random no. to make a list:     12.23,21,45,36,58,78\n"
     ]
    },
    {
     "data": {
      "text/plain": [
       "list"
      ]
     },
     "execution_count": 30,
     "metadata": {},
     "output_type": "execute_result"
    }
   ],
   "source": [
    "lst4=list(input(\"give some random no. to make a list:    \"))\n",
    "type(lst4)"
   ]
  },
  {
   "cell_type": "code",
   "execution_count": 32,
   "id": "5f191f03-2e8c-49e3-8526-f5bfb6d45224",
   "metadata": {},
   "outputs": [
    {
     "name": "stdout",
     "output_type": "stream",
     "text": [
      "[1, 2, 3, 4, 2, 4, 6, 8, 7, 8, 9, 8, 7, 2, 3, 45, 63, 36.0, 63, 25, 14, 25, 14, 32, 23, 32]\n"
     ]
    },
    {
     "data": {
      "text/plain": [
       "{1, 2, 3, 4, 6, 7, 8, 9, 14, 23, 25, 32, 36.0, 45, 63}"
      ]
     },
     "execution_count": 32,
     "metadata": {},
     "output_type": "execute_result"
    }
   ],
   "source": [
    "lst5=[1,2,3,4,2,4,6,8,7,8,9,8,7,2,3,45,63,36.,63,25,14,25,14,32,23,32]\n",
    "print(lst5)\n",
    "set(lst5)"
   ]
  },
  {
   "cell_type": "code",
   "execution_count": 35,
   "id": "2f113c6d-1f7b-40fa-872c-65e512bc9d0e",
   "metadata": {},
   "outputs": [
    {
     "name": "stdout",
     "output_type": "stream",
     "text": [
      " difference between two list is:\n",
      "5\n",
      "6\n"
     ]
    }
   ],
   "source": [
    "print(\" difference between two list is:\")\n",
    "lst6=[1,2,3,5,6]\n",
    "lst7=[7,8,9,5,6]\n",
    "for i in lst6:\n",
    "    for j in lst7:\n",
    "        if i==j:\n",
    "            print(i)"
   ]
  },
  {
   "cell_type": "code",
   "execution_count": 38,
   "id": "47fee35f-85ce-4b88-b92f-4c16ccbc0639",
   "metadata": {},
   "outputs": [
    {
     "name": "stdout",
     "output_type": "stream",
     "text": [
      "[[1, 2, 3, 5, 6, 7, 8, 9, 5, 6]]\n"
     ]
    }
   ],
   "source": [
    "lst8=[1,2,3,5,6]\n",
    "lst9=[7,8,9,5,6]\n",
    "lst10=[lst8+lst9]\n",
    "print(lst10)"
   ]
  },
  {
   "cell_type": "code",
   "execution_count": 3,
   "id": "386caee3-4cc6-4454-97b2-56c2ef359702",
   "metadata": {},
   "outputs": [
    {
     "data": {
      "text/plain": [
       "[2, 4, 6, 10, 12]"
      ]
     },
     "execution_count": 3,
     "metadata": {},
     "output_type": "execute_result"
    }
   ],
   "source": [
    "lst8=[1,2,3,5,6]\n",
    "[i*2 for i in lst8]"
   ]
  },
  {
   "cell_type": "code",
   "execution_count": 5,
   "id": "7611e061-b45e-4080-b300-7d8437f2c67e",
   "metadata": {},
   "outputs": [
    {
     "data": {
      "text/plain": [
       "[1, 3, 65, 11, 87]"
      ]
     },
     "execution_count": 5,
     "metadata": {},
     "output_type": "execute_result"
    }
   ],
   "source": [
    "lst11=[1,2,3,4,58,65,24,32,12,11,87]\n",
    "[i for i in lst11 if i%2!=0]"
   ]
  },
  {
   "cell_type": "code",
   "execution_count": 11,
   "id": "e32a49ed-a8fd-4b42-b552-e9a677cc85e2",
   "metadata": {},
   "outputs": [
    {
     "data": {
      "text/plain": [
       "[7, 8, 9, 4, 5, 6, 1, 2, 3]"
      ]
     },
     "execution_count": 11,
     "metadata": {},
     "output_type": "execute_result"
    }
   ],
   "source": [
    "lst12=[\"7\",\"8\",\"9\",\"4\",\"5\",\"6\",\"1\",\"2\",\"3\"]\n",
    "[int(i) for i in lst12]\n"
   ]
  },
  {
   "cell_type": "code",
   "execution_count": 12,
   "id": "34a0fcea-7d4c-4ba8-9897-a48e05fb324c",
   "metadata": {},
   "outputs": [
    {
     "data": {
      "text/plain": [
       "['1', '2', '3', '45', '89', '78']"
      ]
     },
     "execution_count": 12,
     "metadata": {},
     "output_type": "execute_result"
    }
   ],
   "source": [
    "lst13=[1,2,3,45,89,78]\n",
    "[str(i) for i in lst13]"
   ]
  },
  {
   "cell_type": "code",
   "execution_count": 18,
   "id": "f7424468-af89-40a6-ac6f-d4926bb6fa45",
   "metadata": {},
   "outputs": [
    {
     "data": {
      "text/plain": [
       "[1, 2, 3, 4, 5, 6]"
      ]
     },
     "execution_count": 18,
     "metadata": {},
     "output_type": "execute_result"
    }
   ],
   "source": [
    "lst14=[[1,2,3],[4,5,6]]\n",
    "[j for i in lst14 for j in i]"
   ]
  },
  {
   "cell_type": "code",
   "execution_count": null,
   "id": "1b119cce-e3f7-446c-b5ba-d51ac238ae6e",
   "metadata": {},
   "outputs": [],
   "source": [
    "#fabonacci series\n"
   ]
  },
  {
   "cell_type": "code",
   "execution_count": 38,
   "id": "c137b566-b29f-4711-bb90-593707d20fcd",
   "metadata": {},
   "outputs": [
    {
     "name": "stdout",
     "output_type": "stream",
     "text": [
      "[1, 2, 3, 45, 89, 78]\n",
      "[1, 2, 3, 45, 78, 89]\n",
      "not sorted\n"
     ]
    }
   ],
   "source": [
    "lst13=[1,2,3,45,89,78]\n",
    "print(lst13)\n",
    "lst15=lst13.copy()\n",
    "lst15.sort()\n",
    "print(lst15)\n",
    "if lst13==lst15:\n",
    "    print(\"sorted\")\n",
    "else:\n",
    "    print(\"not sorted\")"
   ]
  },
  {
   "cell_type": "code",
   "execution_count": 40,
   "id": "161fab60-f82f-4b23-9edc-da8b9c87858d",
   "metadata": {},
   "outputs": [],
   "source": [
    "#q31"
   ]
  },
  {
   "cell_type": "code",
   "execution_count": null,
   "id": "048e40f3-e8b6-4229-8281-285ee9047ce4",
   "metadata": {},
   "outputs": [],
   "source": [
    "#q32"
   ]
  },
  {
   "cell_type": "code",
   "execution_count": null,
   "id": "9711d5cd-eddc-4f76-9da3-a192c54040cf",
   "metadata": {},
   "outputs": [],
   "source": [
    "#q33"
   ]
  },
  {
   "cell_type": "code",
   "execution_count": 48,
   "id": "e57e8843-3134-4385-8ad1-df2abacb8e98",
   "metadata": {},
   "outputs": [
    {
     "data": {
      "text/plain": [
       "[1, 2, 3, 45, 89, 78]"
      ]
     },
     "execution_count": 48,
     "metadata": {},
     "output_type": "execute_result"
    }
   ],
   "source": [
    "#q34\n",
    "lst13=[1,2,3,45,89,78]\n",
    "[i for i in lst13]\n"
   ]
  },
  {
   "cell_type": "code",
   "execution_count": 2,
   "id": "538743b9-74c2-4d8c-b549-34518b97f2ff",
   "metadata": {},
   "outputs": [
    {
     "name": "stdout",
     "output_type": "stream",
     "text": [
      "78\n"
     ]
    }
   ],
   "source": [
    "#q35\n",
    "lst13=[1,2,3,45,89,78]\n",
    "lst13.sort()\n",
    "print(lst13[-2])\n"
   ]
  },
  {
   "cell_type": "code",
   "execution_count": 3,
   "id": "69103f5c-6676-4f27-877d-d15260528900",
   "metadata": {},
   "outputs": [
    {
     "data": {
      "text/plain": [
       "[1, 4, 9, 16, 25, 36]"
      ]
     },
     "execution_count": 3,
     "metadata": {},
     "output_type": "execute_result"
    }
   ],
   "source": [
    "lst=[1,2,3,4,5,6]\n",
    "[i**2 for i in lst]"
   ]
  },
  {
   "cell_type": "code",
   "execution_count": 17,
   "id": "ff62cb29-28ac-403a-96da-057929c66328",
   "metadata": {},
   "outputs": [
    {
     "name": "stdout",
     "output_type": "stream",
     "text": [
      "{0: 1, 1: 2, 2: 3, 3: 4, 4: 5, 5: 6}\n"
     ]
    }
   ],
   "source": [
    "lst=[1,2,3,4,5,6]\n",
    "# for i in lst:\n",
    "#     # dic_key=i\n",
    "#     # dic_value=lst.index(i)\n",
    "#     # dic_1={dic_key:dic_value}\n",
    "#     # print(dic_1)\n",
    "dic_1=dict(enumerate(lst))\n",
    "print(dic_1)"
   ]
  },
  {
   "cell_type": "code",
   "execution_count": 21,
   "id": "f2f300fa-545c-49e3-926c-3200c5d89a3b",
   "metadata": {},
   "outputs": [
    {
     "name": "stdout",
     "output_type": "stream",
     "text": [
      "[4, 1, 2, 5, 3, 6]\n"
     ]
    }
   ],
   "source": [
    "import random\n",
    "lst=[1,2,3,4,5,6]\n",
    "random.shuffle(lst)\n",
    "print(lst)"
   ]
  },
  {
   "cell_type": "code",
   "execution_count": 24,
   "id": "6b15a231-a33c-4ad0-aae9-6ab2c5a8a73c",
   "metadata": {},
   "outputs": [
    {
     "name": "stdout",
     "output_type": "stream",
     "text": [
      "the common in list is:\n",
      "6\n"
     ]
    }
   ],
   "source": [
    "# Check if two lists have at least one element in common.\n",
    "print(\"the common in list is:\")\n",
    "ls1=[1,2,3,4,5,6]\n",
    "ls2=[6,7,8,9,10,11]\n",
    "for i in ls1:\n",
    "    for j in ls2:\n",
    "        if i==j:\n",
    "            print(i)"
   ]
  },
  {
   "cell_type": "code",
   "execution_count": 26,
   "id": "96ff8ea8-1083-48b8-a094-bd41246dc052",
   "metadata": {},
   "outputs": [
    {
     "name": "stdout",
     "output_type": "stream",
     "text": [
      "[]\n"
     ]
    }
   ],
   "source": [
    "# Remove all elements from a list.\n",
    "ls3=[6,7,8,9,10,11]\n",
    "ls3.clear()\n",
    "print(ls3)"
   ]
  },
  {
   "cell_type": "code",
   "execution_count": 7,
   "id": "7ef4b3fc-86e0-4f73-83fa-9815006992b6",
   "metadata": {},
   "outputs": [
    {
     "name": "stdout",
     "output_type": "stream",
     "text": [
      "-6 -8 "
     ]
    }
   ],
   "source": [
    "# #####42. Replace negative numbers in a list with 0.\n",
    "# ls3=[-6,7,-8,9,10,11]\n",
    "# for i in ls3:\n",
    "#     if i<=0:\n",
    "#         print(i,end=\" \")   "
   ]
  },
  {
   "cell_type": "code",
   "execution_count": 15,
   "id": "50ad58ef-ca0d-447d-a5dd-fbe17afaeb41",
   "metadata": {},
   "outputs": [
    {
     "name": "stdout",
     "output_type": "stream",
     "text": [
      "['u', 'b', 'a', 'i', 'd', ' ', 'a', 'r', 's', 'h', 'a', 'd']\n"
     ]
    }
   ],
   "source": [
    "#43. Convert a string into a list of words.\n",
    "string=\"ubaid arshad\"\n",
    "lis=list(string)\n",
    "print(lis)"
   ]
  },
  {
   "cell_type": "code",
   "execution_count": 16,
   "id": "273c47f6-159f-45ad-bff1-b2cc3770d7a0",
   "metadata": {},
   "outputs": [
    {
     "name": "stdout",
     "output_type": "stream",
     "text": [
      "ubaid arshad"
     ]
    }
   ],
   "source": [
    "#44. Convert a list of words into a string.\n",
    "for i in lis:\n",
    "    print(i,end=\"\")"
   ]
  },
  {
   "cell_type": "code",
   "execution_count": 28,
   "id": "80c249a0-8e74-4b4d-8947-91cb13984165",
   "metadata": {},
   "outputs": [
    {
     "name": "stdin",
     "output_type": "stream",
     "text": [
      "plz give n numbers 5\n"
     ]
    },
    {
     "data": {
      "text/plain": [
       "[1, 2, 4, 8, 16]"
      ]
     },
     "execution_count": 28,
     "metadata": {},
     "output_type": "execute_result"
    }
   ],
   "source": [
    "#45. Create a list of the first `n` powers of 2.\n",
    "n=int(input(\"plz give n numbers\"))\n",
    "\n",
    "[2**i for i in range(n)]\n"
   ]
  },
  {
   "cell_type": "code",
   "execution_count": 25,
   "id": "44cedb1f-cf48-4fd3-bc40-70b7e0dd3828",
   "metadata": {},
   "outputs": [
    {
     "name": "stdout",
     "output_type": "stream",
     "text": [
      "strawberry\n"
     ]
    }
   ],
   "source": [
    "#46. Find the longest string in a list of strings.\n",
    "long=[\"apple\",\"orange\",\"pineapple\",\"strawberry\"]\n",
    "print(max(long))"
   ]
  },
  {
   "cell_type": "code",
   "execution_count": 26,
   "id": "5a481e3f-d9ea-436d-b5ca-93169caf6ff5",
   "metadata": {},
   "outputs": [
    {
     "name": "stdout",
     "output_type": "stream",
     "text": [
      "apple\n"
     ]
    }
   ],
   "source": [
    "#47. Find the shortest string in a list of strings.\n",
    "print(min(long))"
   ]
  },
  {
   "cell_type": "code",
   "execution_count": 29,
   "id": "805d8487-f034-4537-884f-53ab90bfe12a",
   "metadata": {},
   "outputs": [
    {
     "name": "stdin",
     "output_type": "stream",
     "text": [
      "plz give n numbers 5\n"
     ]
    },
    {
     "data": {
      "text/plain": [
       "[1, 3, 9, 27, 81]"
      ]
     },
     "execution_count": 29,
     "metadata": {},
     "output_type": "execute_result"
    }
   ],
   "source": [
    "#48. Create a list of the first `n` triangular numbers.\n",
    "\n",
    "n=int(input(\"plz give n numbers\"))\n",
    "\n",
    "[3**i for i in range(n)]\n"
   ]
  },
  {
   "cell_type": "code",
   "execution_count": 13,
   "id": "5735a983-50e5-4ccf-99b0-e40d280278b9",
   "metadata": {},
   "outputs": [],
   "source": [
    "# #49. Check if a list contains another list as a subsequence.\n",
    "# l=[1,2,3,4,[5,8,9],7,5,3]\n",
    "# for i in l:\n",
    "#     if l.:\n",
    "#         print(\"list as subsequence is present\")\n",
    "#     else:\n",
    "#         print(\"not present\")"
   ]
  },
  {
   "cell_type": "code",
   "execution_count": 52,
   "id": "25d4caa2-aacc-41e9-9c9e-1f61f02696fb",
   "metadata": {},
   "outputs": [],
   "source": [
    "# #50. Swap two elements in a list by their indices.\n",
    "# l1=[1,2,3,4,5,6,78]\n",
    "# for i in l1:\n",
    "#     print(i,end=\" \")\n",
    "#     i[0]==i[5]\n",
    "#     print(i,end=\" \")\n",
    "         "
   ]
  },
  {
   "cell_type": "markdown",
   "id": "f96a0085-bf8f-4bac-89b1-acc7cabeca23",
   "metadata": {},
   "source": [
    "#Tuple Based Practice Problem :"
   ]
  },
  {
   "cell_type": "code",
   "execution_count": 56,
   "id": "02822ab4-32ff-427e-a876-e896a2cd409e",
   "metadata": {},
   "outputs": [
    {
     "name": "stdout",
     "output_type": "stream",
     "text": [
      "(1, 2, 3, 4, 5)\n"
     ]
    },
    {
     "data": {
      "text/plain": [
       "tuple"
      ]
     },
     "execution_count": 56,
     "metadata": {},
     "output_type": "execute_result"
    }
   ],
   "source": [
    "# 1. Create a tuple with integers from 1 to 5.\n",
    "t=(1,2,3,4,5)\n",
    "print(t)\n",
    "type(t)"
   ]
  },
  {
   "cell_type": "code",
   "execution_count": 57,
   "id": "6d9b735c-955a-43fd-9808-33999c3dc963",
   "metadata": {},
   "outputs": [
    {
     "name": "stdout",
     "output_type": "stream",
     "text": [
      "4\n"
     ]
    }
   ],
   "source": [
    "# 2. Access the third element of a tuple.\n",
    "t=(1,2,3,4,5)\n",
    "print(t[3])\n"
   ]
  },
  {
   "cell_type": "code",
   "execution_count": 58,
   "id": "17171211-890a-4988-b6dc-0f1c9ce99173",
   "metadata": {},
   "outputs": [
    {
     "name": "stdout",
     "output_type": "stream",
     "text": [
      "5\n"
     ]
    }
   ],
   "source": [
    "# 3. Find the length of a tuple without using the `len()` function.\n",
    "count=0\n",
    "t=(1,2,3,4,5)\n",
    "for i in t:\n",
    "    count=count+1\n",
    "print(count)    "
   ]
  },
  {
   "cell_type": "code",
   "execution_count": 59,
   "id": "bf988a43-fa19-46b4-be42-7f75b5cc23b1",
   "metadata": {},
   "outputs": [
    {
     "data": {
      "text/plain": [
       "5"
      ]
     },
     "execution_count": 59,
     "metadata": {},
     "output_type": "execute_result"
    }
   ],
   "source": [
    "# 4. Count the occurrences of an element in a tuple.\n",
    "t1=(1,2,3,4,5,6,7,8,7,8,9,5,2,3,5,7,7,4,8,7)\n",
    "t1.count(7)"
   ]
  },
  {
   "cell_type": "code",
   "execution_count": 60,
   "id": "e2285bcd-857c-4270-91fc-453a071d75ca",
   "metadata": {},
   "outputs": [
    {
     "data": {
      "text/plain": [
       "6"
      ]
     },
     "execution_count": 60,
     "metadata": {},
     "output_type": "execute_result"
    }
   ],
   "source": [
    "# 5. Find the index of the first occurrence of an element in a tuple.\n",
    "t1=(1,2,3,4,5,6,7,8,7,8,9,5,2,3,5,7,7,4,8,7)\n",
    "t1.index(7)"
   ]
  },
  {
   "cell_type": "code",
   "execution_count": 75,
   "id": "5a50a703-b5f1-472b-8fe2-ac3038921670",
   "metadata": {},
   "outputs": [
    {
     "name": "stdout",
     "output_type": "stream",
     "text": [
      "present\n"
     ]
    }
   ],
   "source": [
    "# 6. Check if an element exists in a tuple.\n",
    "t1=(1,2,3,4,5,6,7,8,7,8,9,2,3,7,7,4,8,7)\n",
    "for i in t1:\n",
    "    if 5 in t1:\n",
    "        print(\"present\")\n",
    "        break\n",
    "    else:   \n",
    "        print(\"not present\")\n",
    "        break"
   ]
  },
  {
   "cell_type": "code",
   "execution_count": 76,
   "id": "22f4c06d-cce5-45fd-87fe-bd08bf40f5ca",
   "metadata": {},
   "outputs": [
    {
     "data": {
      "text/plain": [
       "[1, 2, 3, 4, 5, 6, 7, 8, 7, 8, 9, 2, 3, 7, 7, 4, 8, 7]"
      ]
     },
     "execution_count": 76,
     "metadata": {},
     "output_type": "execute_result"
    }
   ],
   "source": [
    "# 7. Convert a tuple to a list.\n",
    "t1=(1,2,3,4,5,6,7,8,7,8,9,2,3,7,7,4,8,7)\n",
    "list(t1)"
   ]
  },
  {
   "cell_type": "code",
   "execution_count": 77,
   "id": "937c2fba-2be5-4e78-8484-542f1e4bf95d",
   "metadata": {},
   "outputs": [
    {
     "data": {
      "text/plain": [
       "(1, 2, 3, 4, 5, 6)"
      ]
     },
     "execution_count": 77,
     "metadata": {},
     "output_type": "execute_result"
    }
   ],
   "source": [
    "# 8. Convert a list to a tuple.\n",
    "lst_tuple=[1,2,3,4,5,6]\n",
    "tuple(lst_tuple)"
   ]
  },
  {
   "cell_type": "code",
   "execution_count": 79,
   "id": "7f88d4e8-1ab9-4420-9816-0c8bd9e0cf0f",
   "metadata": {},
   "outputs": [
    {
     "name": "stdout",
     "output_type": "stream",
     "text": [
      "1 2 3 4 5 6 7 8 7 8 9 2 3 7 7 4 8 7 "
     ]
    }
   ],
   "source": [
    "# 9. Unpack the elements of a tuple into variables.\n",
    "t1=(1,2,3,4,5,6,7,8,7,8,9,2,3,7,7,4,8,7)\n",
    "for i in t1:\n",
    "    print(i,end=\" \")"
   ]
  },
  {
   "cell_type": "code",
   "execution_count": 89,
   "id": "be719898-6ef6-4f51-a791-07c94ef3298b",
   "metadata": {},
   "outputs": [
    {
     "name": "stdout",
     "output_type": "stream",
     "text": [
      "2 4 6 8 10 "
     ]
    }
   ],
   "source": [
    "# 10. Create a tuple of even numbers from 1 to 10.\n",
    "t2=(1,2,3,4,5,6,7,8,9,10)\n",
    "for i in t2:\n",
    "    if (i%2==0):\n",
    "        print(i,end=\" \")"
   ]
  },
  {
   "cell_type": "code",
   "execution_count": 90,
   "id": "c98ec7ef-1a8a-4603-8e59-bc4b4e489975",
   "metadata": {},
   "outputs": [
    {
     "name": "stdout",
     "output_type": "stream",
     "text": [
      "1 3 5 7 9 "
     ]
    }
   ],
   "source": [
    "# 11. Create a tuple of odd numbers from 1 to 10.\n",
    "t2=(1,2,3,4,5,6,7,8,9,10)\n",
    "for i in t2:\n",
    "    if (i%2!=0):\n",
    "        print(i,end=\" \")"
   ]
  },
  {
   "cell_type": "code",
   "execution_count": 92,
   "id": "9270e710-de51-476b-a959-005a98f315a0",
   "metadata": {},
   "outputs": [
    {
     "name": "stdout",
     "output_type": "stream",
     "text": [
      "(1, 2, 3, 4, 5, 6, 7, 8, 7, 8, 9, 2, 3, 7, 7, 4, 8, 7, 1, 2, 3, 4, 5, 6, 7, 8, 9, 10)"
     ]
    }
   ],
   "source": [
    "# 12. Concatenate two tuples.\n",
    "print(t1+t2,end=\"\")"
   ]
  },
  {
   "cell_type": "code",
   "execution_count": 93,
   "id": "5cabb248-277d-4d62-a044-8bd632c68b29",
   "metadata": {},
   "outputs": [
    {
     "name": "stdout",
     "output_type": "stream",
     "text": [
      "(1, 2, 3, 4, 5, 1, 2, 3, 4, 5, 1, 2, 3, 4, 5)\n"
     ]
    }
   ],
   "source": [
    "# 13. Repeat a tuple three times.\n",
    "t=(1,2,3,4,5)\n",
    "print(t*3)"
   ]
  },
  {
   "cell_type": "code",
   "execution_count": 97,
   "id": "7deda0d9-a453-451b-9e57-4dd60745a433",
   "metadata": {},
   "outputs": [
    {
     "name": "stdout",
     "output_type": "stream",
     "text": [
      "empty tuple\n"
     ]
    }
   ],
   "source": [
    "# 14. Check if a tuple is empty.\n",
    "t_check=()\n",
    "if len(t_check)==0:\n",
    "    print(\"empty tuple\")"
   ]
  },
  {
   "cell_type": "code",
   "execution_count": 98,
   "id": "9a395d81-5723-44b2-a16d-3d9c013567c4",
   "metadata": {},
   "outputs": [
    {
     "name": "stdout",
     "output_type": "stream",
     "text": [
      "(1, 2, 3, 4, 5, ('apple', 'orange'), 5, 8)\n"
     ]
    }
   ],
   "source": [
    "# 15. Create a nested tuple.\n",
    "t_nested=(1,2,3,4,5,(\"apple\",\"orange\"),5,8)\n",
    "print(t_nested)"
   ]
  },
  {
   "cell_type": "code",
   "execution_count": 99,
   "id": "0ff007a8-676b-424a-8801-8ef2706287ed",
   "metadata": {},
   "outputs": [
    {
     "data": {
      "text/plain": [
       "'apple'"
      ]
     },
     "execution_count": 99,
     "metadata": {},
     "output_type": "execute_result"
    }
   ],
   "source": [
    "# 16. Access the first element of a nested tuple.\n",
    "t_nested=(1,2,3,4,5,(\"apple\",\"orange\"),5,8)\n",
    "t_nested[5][0]"
   ]
  },
  {
   "cell_type": "code",
   "execution_count": 105,
   "id": "dc6c1a85-7d8b-4cfa-be33-655def907e30",
   "metadata": {},
   "outputs": [
    {
     "name": "stdout",
     "output_type": "stream",
     "text": [
      "(1,)\n"
     ]
    },
    {
     "data": {
      "text/plain": [
       "tuple"
      ]
     },
     "execution_count": 105,
     "metadata": {},
     "output_type": "execute_result"
    }
   ],
   "source": [
    "# 17. Create a tuple with a single element.\n",
    "t_single=(1,)\n",
    "print(t_single)\n",
    "type(t_single)"
   ]
  },
  {
   "cell_type": "code",
   "execution_count": 106,
   "id": "3e187770-99d6-42d3-8a28-8b4439d0b6bc",
   "metadata": {},
   "outputs": [
    {
     "data": {
      "text/plain": [
       "False"
      ]
     },
     "execution_count": 106,
     "metadata": {},
     "output_type": "execute_result"
    }
   ],
   "source": [
    "# 18. Compare two tuples.\n",
    "t_1=(1,2,3,4)\n",
    "t_2=(7,8,9,2)\n",
    "t_1==t_2"
   ]
  },
  {
   "cell_type": "code",
   "execution_count": 2,
   "id": "ca2e154c-d822-4570-9163-f2b8bee113bf",
   "metadata": {},
   "outputs": [],
   "source": [
    "# 19. Delete a tuple.\n",
    "t_del=(1,2,3,4,5,6,7,8)\n",
    "del t_del\n"
   ]
  },
  {
   "cell_type": "code",
   "execution_count": 6,
   "id": "c709cd6f-f4cc-4557-be2f-1952c6a2e59a",
   "metadata": {},
   "outputs": [
    {
     "data": {
      "text/plain": [
       "(3,)"
      ]
     },
     "execution_count": 6,
     "metadata": {},
     "output_type": "execute_result"
    }
   ],
   "source": [
    "# 20. Slice a tuple.\n",
    "t_slice=(1,2,3,4,5,6)\n",
    "t_slice[2:3]"
   ]
  },
  {
   "cell_type": "code",
   "execution_count": 8,
   "id": "579a21d1-9dfc-4a2f-8414-55faed83f851",
   "metadata": {},
   "outputs": [
    {
     "data": {
      "text/plain": [
       "9"
      ]
     },
     "execution_count": 8,
     "metadata": {},
     "output_type": "execute_result"
    }
   ],
   "source": [
    "# 21. Find the maximum value in a tuple.\n",
    "t1=(1,2,3,4,5,6,7,8,7,8,9,2,3,7,7,4,8,7)\n",
    "max(t1)"
   ]
  },
  {
   "cell_type": "code",
   "execution_count": 9,
   "id": "8d9afcc4-bbdd-4456-8df0-3ef0c1825c28",
   "metadata": {},
   "outputs": [
    {
     "data": {
      "text/plain": [
       "1"
      ]
     },
     "execution_count": 9,
     "metadata": {},
     "output_type": "execute_result"
    }
   ],
   "source": [
    "# 22. Find the minimum value in a tuple.\n",
    "t1=(1,2,3,4,5,6,7,8,7,8,9,2,3,7,7,4,8,7)\n",
    "min(t1)"
   ]
  },
  {
   "cell_type": "code",
   "execution_count": 21,
   "id": "45cf0aee-463b-4d76-af6f-b92fd3daf58e",
   "metadata": {},
   "outputs": [
    {
     "data": {
      "text/plain": [
       "('u', 'b', 'a', 'i', 'd')"
      ]
     },
     "execution_count": 21,
     "metadata": {},
     "output_type": "execute_result"
    }
   ],
   "source": [
    "# 23. Convert a string to a tuple of characters.\n",
    "str_tuple=\"ubaid\"\n",
    "tuple(str_tuple)"
   ]
  },
  {
   "cell_type": "code",
   "execution_count": 20,
   "id": "dca1b8c2-299a-45ec-ad10-a05761189b7c",
   "metadata": {},
   "outputs": [
    {
     "name": "stdout",
     "output_type": "stream",
     "text": [
      "ubaid"
     ]
    }
   ],
   "source": [
    "# 24. Convert a tuple of characters to a string.\n",
    "tuple1=(\"u\",\"b\",\"a\",\"i\",\"d\")\n",
    "for i in tuple1:\n",
    "    print(i,end=\"\")"
   ]
  },
  {
   "cell_type": "code",
   "execution_count": 24,
   "id": "2d576954-f71c-479c-b10d-3cbdf2297b2e",
   "metadata": {},
   "outputs": [
    {
     "name": "stdout",
     "output_type": "stream",
     "text": [
      "(1, 2, 3, 'string', (1, 2, 3, 'a', 12.54, True), [7, 8, 9, 'ghj'], False)\n"
     ]
    },
    {
     "data": {
      "text/plain": [
       "tuple"
      ]
     },
     "execution_count": 24,
     "metadata": {},
     "output_type": "execute_result"
    }
   ],
   "source": [
    "# 25. Create a tuple from multiple data types.\n",
    "tuple2=(1,2,3,\"string\",(1,2,3,\"a\",12.54,True),[7,8,9,\"ghj\"],False)\n",
    "print(tuple2)\n",
    "type(tuple2)"
   ]
  },
  {
   "cell_type": "code",
   "execution_count": 3,
   "id": "1bfd9d7f-78d9-473a-8b32-86449bf40711",
   "metadata": {},
   "outputs": [
    {
     "name": "stdout",
     "output_type": "stream",
     "text": [
      "unidentical tuples\n"
     ]
    }
   ],
   "source": [
    "# 26. Check if two tuples are identical.\n",
    "t_1=(1,2,3,4)\n",
    "t_2=(7,8,9,2)\n",
    "set1=set(t_1)\n",
    "set2=set(t_2)\n",
    "if set1==set2:\n",
    "    print(\"identical tuples\")\n",
    "else:\n",
    "    print(\"unidentical tuples\")"
   ]
  },
  {
   "cell_type": "code",
   "execution_count": 10,
   "id": "b49a07a1-060d-4ed8-94f9-f1d339ff89ee",
   "metadata": {},
   "outputs": [
    {
     "name": "stdout",
     "output_type": "stream",
     "text": [
      "(2, 7, 8, 9)\n"
     ]
    }
   ],
   "source": [
    "# 27. Sort the elements of a tuple.\n",
    "t_2=(7,8,9,2)\n",
    "t_sort=tuple(sorted(t_2))\n",
    "print(t_sort)"
   ]
  },
  {
   "cell_type": "code",
   "execution_count": 9,
   "id": "9b87487f-131f-4385-afb5-d41a28586454",
   "metadata": {},
   "outputs": [
    {
     "name": "stdout",
     "output_type": "stream",
     "text": [
      "('1', '2', '5', '8', '7', '4', '6') "
     ]
    }
   ],
   "source": [
    "# 28. Convert a tuple of integers to a tuple of strings.\n",
    "tup_1=(1258746)\n",
    "tp_2=tuple(str(tup_1))\n",
    "print(tp_2,end=\" \")"
   ]
  },
  {
   "cell_type": "code",
   "execution_count": 6,
   "id": "d3b4a2c6-b28f-435f-b4b5-baa2a4fdf79e",
   "metadata": {},
   "outputs": [
    {
     "name": "stdout",
     "output_type": "stream",
     "text": [
      "(1, 2, 5, 8, 7, 4, 6)\n"
     ]
    }
   ],
   "source": [
    "# 29. Convert a tuple of strings to a tuple of integers.\n",
    "tp=('1', '2', '5', '8', '7', '4', '6')\n",
    "tp_integer = tuple(int(i) for i in tp)\n",
    "print(tp_integer)"
   ]
  },
  {
   "cell_type": "code",
   "execution_count": 13,
   "id": "6de768d5-6b6b-4980-b6ce-755cb9e6b005",
   "metadata": {},
   "outputs": [
    {
     "name": "stdout",
     "output_type": "stream",
     "text": [
      "(1, 2, 3, 4, 7, 8, 9, 2)\n"
     ]
    }
   ],
   "source": [
    "# 30. Merge two tuples.\n",
    "t_1=(1,2,3,4)\n",
    "t_2=(7,8,9,2)\n",
    "t_3=t_1+t_2\n",
    "print(t_3)"
   ]
  },
  {
   "cell_type": "code",
   "execution_count": 12,
   "id": "49919965-3bac-4d95-acd7-eca10b0fbf93",
   "metadata": {},
   "outputs": [
    {
     "data": {
      "text/plain": [
       "[1, 2, 3, 4, 6, 7, 8, 9]"
      ]
     },
     "execution_count": 12,
     "metadata": {},
     "output_type": "execute_result"
    }
   ],
   "source": [
    "# 31. Flatten a nested tuple.\n",
    "t_4=((1,2,3,4),(6,7,8,9))\n",
    "[j for i in t_4 for j in i]"
   ]
  },
  {
   "cell_type": "code",
   "execution_count": 38,
   "id": "06a00d09-22fd-4ff8-99dc-699fd9be774d",
   "metadata": {},
   "outputs": [],
   "source": [
    "# 32. Create a tuple of the first 5 prime numbers.\n",
    "# for j in range(10):\n",
    "#     if j>1:\n",
    "#         for i in range(2,int(num/2)+1):\n",
    "#             if j%i==0:\n",
    "#                 print(\"\")\n",
    "#             else:\n",
    "#                 print(,end=\"\")\n",
    "       "
   ]
  },
  {
   "cell_type": "code",
   "execution_count": 45,
   "id": "a0d32f8f-4a4b-45d1-8d81-098100e35a4f",
   "metadata": {},
   "outputs": [
    {
     "name": "stdout",
     "output_type": "stream",
     "text": [
      "rotor is palindrome no.\n"
     ]
    }
   ],
   "source": [
    "# 33. Check if a tuple is a palindrome.\n",
    "ple=(\"rotor\")\n",
    "if ple[:]==ple[::-1]:\n",
    "    print(ple,\"is palindrome no.\")\n",
    "else:\n",
    "     print(ple,\"is not palindrome no.\")"
   ]
  },
  {
   "cell_type": "code",
   "execution_count": 8,
   "id": "a935286a-c138-48b8-8d3c-29b102404698",
   "metadata": {},
   "outputs": [
    {
     "name": "stdout",
     "output_type": "stream",
     "text": [
      "(1, 4, 9, 16, 25)\n"
     ]
    }
   ],
   "source": [
    "# 34. Create a tuple of squares of numbers from 1 to 5.\n",
    "tp_square=tuple(int(i**2)for i in range(1,6))\n",
    "print(tp_square)   "
   ]
  },
  {
   "cell_type": "code",
   "execution_count": 11,
   "id": "76575789-dfdf-49ef-9d8a-bd038b31d1aa",
   "metadata": {},
   "outputs": [
    {
     "name": "stdout",
     "output_type": "stream",
     "text": [
      "(1, 3, 5, 7, 9)\n"
     ]
    }
   ],
   "source": [
    "# 35. Filter out all even numbers from a tuple.\n",
    "tuple1=(1,2,3,4,5,6,7,8,9,10)\n",
    "tuple2=tuple(int(i) for i in tuple1 if i%2!=0)\n",
    "print(tuple2)"
   ]
  },
  {
   "cell_type": "code",
   "execution_count": 12,
   "id": "a1e75e34-7fa8-475e-a138-c99c6c9b8475",
   "metadata": {},
   "outputs": [
    {
     "name": "stdout",
     "output_type": "stream",
     "text": [
      "(2, 4, 6, 8, 10, 12, 14, 16, 18, 20)\n"
     ]
    }
   ],
   "source": [
    "# 36. Multiply all elements in a tuple by 2.\n",
    "tuple1=(1,2,3,4,5,6,7,8,9,10)\n",
    "tuple2=tuple(int(i*2) for i in tuple1)\n",
    "print(tuple2)"
   ]
  },
  {
   "cell_type": "code",
   "execution_count": 20,
   "id": "8bb5a0bb-a9cb-4ec0-81ac-c690cee4bb12",
   "metadata": {},
   "outputs": [
    {
     "name": "stdout",
     "output_type": "stream",
     "text": [
      "(54, 20, 36, 79, 58, 95, 9, 45, 40, 78)\n"
     ]
    }
   ],
   "source": [
    "# 37. Create a tuple of random numbers.\n",
    "import random\n",
    "random_tuple = tuple(random.randint(1, 100) for _ in range(10))\n",
    "print (random_tuple)"
   ]
  },
  {
   "cell_type": "code",
   "execution_count": 25,
   "id": "cdcc1eeb-3ad8-4b7b-82ce-aee5b6acb89d",
   "metadata": {},
   "outputs": [
    {
     "name": "stdout",
     "output_type": "stream",
     "text": [
      "unsorted\n"
     ]
    }
   ],
   "source": [
    "# 38. Check if a tuple is sorted.\n",
    "tuple1=(1,2,8,9,5,6,7,4,3,10)\n",
    "tuple_sorted=tuple(sorted(tuple1))\n",
    "if (tuple_sorted==tuple1):\n",
    "    print(\"sorted\")\n",
    "else:\n",
    "     print(\"unsorted\")"
   ]
  },
  {
   "cell_type": "code",
   "execution_count": null,
   "id": "032f34f4-b802-44c1-acf9-35cad9544b5e",
   "metadata": {},
   "outputs": [],
   "source": [
    "# 39. Rotate a tuple to the left by `n` positions.\n"
   ]
  },
  {
   "cell_type": "code",
   "execution_count": null,
   "id": "cd0a2127-e739-478b-b203-2bae740deb51",
   "metadata": {},
   "outputs": [],
   "source": [
    "# 40. Rotate a tuple to the right by `n` positions.\n"
   ]
  },
  {
   "cell_type": "code",
   "execution_count": null,
   "id": "0a213efc-a99c-4436-9ae2-4eb79d7a711c",
   "metadata": {},
   "outputs": [],
   "source": [
    "# 41. Create a tuple of the first 5 Fibonacci numbers.\n"
   ]
  },
  {
   "cell_type": "code",
   "execution_count": 27,
   "id": "743e715a-3439-4bb6-ab22-a9746e6b695a",
   "metadata": {},
   "outputs": [
    {
     "name": "stdin",
     "output_type": "stream",
     "text": [
      "please give values to tuple 12345arshad\n"
     ]
    },
    {
     "name": "stdout",
     "output_type": "stream",
     "text": [
      "('1', '2', '3', '4', '5', 'a', 'r', 's', 'h', 'a', 'd')\n"
     ]
    }
   ],
   "source": [
    "# 42. Create a tuple from user input.\n",
    "user=tuple(input(\"please give values to tuple\"))\n",
    "print(user)"
   ]
  },
  {
   "cell_type": "code",
   "execution_count": 1,
   "id": "828dbf03-ecec-48d5-9613-bfe404f308d3",
   "metadata": {},
   "outputs": [
    {
     "ename": "SyntaxError",
     "evalue": "cannot assign to function call here. Maybe you meant '==' instead of '='? (1023322490.py, line 4)",
     "output_type": "error",
     "traceback": [
      "\u001b[0;36m  Cell \u001b[0;32mIn[1], line 4\u001b[0;36m\u001b[0m\n\u001b[0;31m    tuple(tuple1[2])=tuple(tuple1[5])\u001b[0m\n\u001b[0m    ^\u001b[0m\n\u001b[0;31mSyntaxError\u001b[0m\u001b[0;31m:\u001b[0m cannot assign to function call here. Maybe you meant '==' instead of '='?\n"
     ]
    }
   ],
   "source": [
    "# 43. Swap two elements in a tuple.\n",
    "tuple1=(1,2,8,9,5,6,7,4,3,10)\n",
    "temp=tuple1[2]\n",
    "tuple(tuple1[2])=tuple(tuple1[5])\n",
    "tuple(tuple1[5])=temp\n",
    "print(tuple1)"
   ]
  },
  {
   "cell_type": "code",
   "execution_count": 1,
   "id": "7707bb09-106f-4a87-a887-b9ccf7510c23",
   "metadata": {},
   "outputs": [
    {
     "name": "stdout",
     "output_type": "stream",
     "text": [
      "(10, 3, 4, 7, 6, 5, 9, 8, 2, 1)\n"
     ]
    }
   ],
   "source": [
    "# 44. Reverse the elements of a tuple.\n",
    "tuple1=(1,2,8,9,5,6,7,4,3,10)\n",
    "t=tuple1[::-1]\n",
    "print(t)"
   ]
  },
  {
   "cell_type": "code",
   "execution_count": 2,
   "id": "a2ad1889-6a42-4f9d-b9cd-f871795df031",
   "metadata": {},
   "outputs": [
    {
     "data": {
      "text/plain": [
       "(2, 4, 256, 512, 32, 64, 128, 16, 8, 1024)"
      ]
     },
     "execution_count": 2,
     "metadata": {},
     "output_type": "execute_result"
    }
   ],
   "source": [
    "# 45. Create a tuple of the first `n` powers of 2.\n",
    "le1=(1,2,8,9,5,6,7,4,3,10)\n",
    "tuple(2**i for i in le1)"
   ]
  },
  {
   "cell_type": "code",
   "execution_count": 18,
   "id": "5baf4bb0-c8f1-48f9-a710-c4987834a90b",
   "metadata": {},
   "outputs": [
    {
     "name": "stdout",
     "output_type": "stream",
     "text": [
      "qwertyuiop :is longest string in a tuple\n"
     ]
    }
   ],
   "source": [
    "# 46. Find the longest string in a tuple of strings.\n",
    "tple=(\"abcd\",\"wertyui\",\"qwertyuiop\")\n",
    "if len(tple[0])>len(tple[1]):\n",
    "    print(tple[0],\"longest\")\n",
    "elif len(tple[0])>len(tple[2]):\n",
    "    print(tple[0],\"longest\")\n",
    "elif len(tple[1])>len(tple[2]):\n",
    "    print(tple[1],\"longest\")\n",
    "else:\n",
    "    print(tple[2],\":is longest string in a tuple\")        "
   ]
  },
  {
   "cell_type": "code",
   "execution_count": 21,
   "id": "5beb30d7-59ea-4537-9929-e0c1cd188c26",
   "metadata": {},
   "outputs": [
    {
     "name": "stdout",
     "output_type": "stream",
     "text": [
      "abcd :is shortest string in a tuple\n"
     ]
    }
   ],
   "source": [
    "# 47. Find the shortest string in a tuple of strings.\n",
    "tple=(\"abcd\",\"wertyui\",\"qwertyuiop\")\n",
    "if len(tple[0])<len(tple[1]):\n",
    "    print(tple[0],\":is shortest string in a tuple\")\n",
    "elif len(tple[0])<len(tple[2]):\n",
    "    print(tple[0],\":is shortest string in a tuple\")\n",
    "elif len(tple[1])<len(tple[2]):\n",
    "    print(tple[1],\":is shortest string in a tuple\")\n",
    "else:\n",
    "    print(tple[2],\":is shortest string in a tuple\")  "
   ]
  },
  {
   "cell_type": "code",
   "execution_count": 22,
   "id": "c6b9e410-31a2-44c2-a899-b54003880aff",
   "metadata": {},
   "outputs": [
    {
     "data": {
      "text/plain": [
       "(3, 9, 6561, 19683, 243, 729, 2187, 81, 27, 59049)"
      ]
     },
     "execution_count": 22,
     "metadata": {},
     "output_type": "execute_result"
    }
   ],
   "source": [
    "# 48. Create a tuple of the first `n` triangular numbers.\n",
    "le1=(1,2,8,9,5,6,7,4,3,10)\n",
    "tuple(3**i for i in le1)"
   ]
  },
  {
   "cell_type": "code",
   "execution_count": 28,
   "id": "2ef79050-67b5-4008-ae17-ea3d8e95d503",
   "metadata": {},
   "outputs": [
    {
     "name": "stdout",
     "output_type": "stream",
     "text": [
      "not present\n",
      "not present\n",
      "not present\n",
      "not present\n",
      "present\n"
     ]
    }
   ],
   "source": [
    "# 49. Check if a tuple contains another tuple as a subsequence.\n",
    "a=(\"a\",\"b\",1,23,(1,2,3),\"y\")\n",
    "for i in a:\n",
    "    if type(i) is tuple:\n",
    "        print(\"present\")\n",
    "        break\n",
    "    else:\n",
    "        print(\"not present\")"
   ]
  },
  {
   "cell_type": "code",
   "execution_count": null,
   "id": "dbf5020b-033c-4988-9cf9-7a45ef7e2215",
   "metadata": {},
   "outputs": [],
   "source": [
    "# 50. Create a tuple of alternating 1s and 0s of length `n`."
   ]
  },
  {
   "cell_type": "markdown",
   "id": "7ce00bae-2648-4827-b893-84c1657ef6d0",
   "metadata": {},
   "source": [
    "#Set Based Practice Problem :"
   ]
  },
  {
   "cell_type": "code",
   "execution_count": 29,
   "id": "c4b0532b-25ef-4e2d-85ef-e7e3e94fe270",
   "metadata": {},
   "outputs": [
    {
     "name": "stdout",
     "output_type": "stream",
     "text": [
      "{1, 2, 3, 4, 5, 6, 7, 8, 9}\n"
     ]
    }
   ],
   "source": [
    "# 1. Create a set with integers from 1 to 5.\n",
    "set1={1,2,3,4,6,5,9,8,7}\n",
    "print(set1)"
   ]
  },
  {
   "cell_type": "code",
   "execution_count": 40,
   "id": "6d4e0ab3-0f7c-4beb-b818-f5b90ee439a0",
   "metadata": {},
   "outputs": [
    {
     "name": "stdout",
     "output_type": "stream",
     "text": [
      "{1, 2, 3, 4, 5, 6, 7, 8, 9, 11}\n"
     ]
    }
   ],
   "source": [
    "# 2. Add an element to a set.\n",
    "set1={1,2,3,4,6,5,9,8,7}\n",
    "set1.add(11)\n",
    "print(set1)"
   ]
  },
  {
   "cell_type": "code",
   "execution_count": 39,
   "id": "db3128ac-8d66-44ee-a4e6-0d53a09520d5",
   "metadata": {},
   "outputs": [
    {
     "name": "stdout",
     "output_type": "stream",
     "text": [
      "{1, 2, 3, 4, 5, 6, 7, 8}\n"
     ]
    }
   ],
   "source": [
    "# 3. Remove an element from a set.\n",
    "set2={1,2,3,4,6,5,9,8,7}\n",
    "set2.remove(9)\n",
    "print(set2)"
   ]
  },
  {
   "cell_type": "code",
   "execution_count": 41,
   "id": "090c22e4-90db-430c-80d6-c0fcb267855b",
   "metadata": {},
   "outputs": [
    {
     "data": {
      "text/plain": [
       "True"
      ]
     },
     "execution_count": 41,
     "metadata": {},
     "output_type": "execute_result"
    }
   ],
   "source": [
    "# 4. Check if an element exists in a set.\n",
    "set2={1,2,3,4,6,5,9,8,7}\n",
    "5 in set2"
   ]
  },
  {
   "cell_type": "code",
   "execution_count": 42,
   "id": "0a9f35c3-5c0f-4366-83fb-b0b9f316bcf0",
   "metadata": {},
   "outputs": [
    {
     "name": "stdout",
     "output_type": "stream",
     "text": [
      "9\n"
     ]
    }
   ],
   "source": [
    "# 5. Find the length of a set without using the `len()` function.\n",
    "count=0\n",
    "set2={1,2,3,4,6,5,9,8,7}\n",
    "for i in set2:\n",
    "    count=count+1\n",
    "print(count)\n"
   ]
  },
  {
   "cell_type": "code",
   "execution_count": 44,
   "id": "5db1acdb-af81-45ce-8d9e-d1d9accbb520",
   "metadata": {},
   "outputs": [
    {
     "name": "stdout",
     "output_type": "stream",
     "text": [
      "set()\n"
     ]
    }
   ],
   "source": [
    "# 6. Clear all elements from a set.\n",
    "set3={1,2,3,4,6,5,9,8,7}\n",
    "set3.clear()\n",
    "print(set3)"
   ]
  },
  {
   "cell_type": "code",
   "execution_count": 45,
   "id": "7c03fedb-2d35-4ee3-a7bf-09b1a172f061",
   "metadata": {},
   "outputs": [
    {
     "data": {
      "text/plain": [
       "{2, 4, 6, 8, 10}"
      ]
     },
     "execution_count": 45,
     "metadata": {},
     "output_type": "execute_result"
    }
   ],
   "source": [
    "# 7. Create a set of even numbers from 1 to 10.\n",
    "set3={1,2,3,4,6,5,9,8,7,10}\n",
    "{i for i in set3 if i%2==0}"
   ]
  },
  {
   "cell_type": "code",
   "execution_count": 46,
   "id": "381c016b-4ff2-4c70-8fcb-04cd2bec58bb",
   "metadata": {},
   "outputs": [
    {
     "data": {
      "text/plain": [
       "{1, 3, 5, 7, 9}"
      ]
     },
     "execution_count": 46,
     "metadata": {},
     "output_type": "execute_result"
    }
   ],
   "source": [
    "# 8. Create a set of odd numbers from 1 to 10.\n",
    "set3={1,2,3,4,6,5,9,8,7,10}\n",
    "{i for i in set3 if i%2!=0}"
   ]
  },
  {
   "cell_type": "code",
   "execution_count": 48,
   "id": "090f9bfb-c979-4171-94cc-74a53faa3945",
   "metadata": {},
   "outputs": [
    {
     "name": "stdout",
     "output_type": "stream",
     "text": [
      "{1, 2, 3, 4, 5, 6, 7, 8, 9, 11, 56}\n"
     ]
    }
   ],
   "source": [
    "# 9. Find the union of two sets.\n",
    "a={1,2,3,4,5,6}\n",
    "b={7,8,9,4,2,3,11,56}\n",
    "c=a.union(b)\n",
    "print(c)"
   ]
  },
  {
   "cell_type": "code",
   "execution_count": 49,
   "id": "10dd8bb0-fffb-48b3-9db0-2389dc474be5",
   "metadata": {},
   "outputs": [
    {
     "name": "stdout",
     "output_type": "stream",
     "text": [
      "{2, 3, 4}\n"
     ]
    }
   ],
   "source": [
    "# 10. Find the intersection of two sets.\n",
    "a={1,2,3,4,5,6}\n",
    "b={7,8,9,4,2,3,11,56}\n",
    "c=a.intersection(b)\n",
    "print(c)"
   ]
  },
  {
   "cell_type": "code",
   "execution_count": 54,
   "id": "f0436aec-4ff7-4727-82d1-c90be149e878",
   "metadata": {},
   "outputs": [
    {
     "name": "stdout",
     "output_type": "stream",
     "text": [
      "{1, 5, 6}\n"
     ]
    }
   ],
   "source": [
    "# 11. Find the difference between two sets.\n",
    "a={1,2,3,4,5,6}\n",
    "b={7,8,9,4,2,3,11,56}\n",
    "c=a.difference(b)\n",
    "print(c)"
   ]
  },
  {
   "cell_type": "code",
   "execution_count": 58,
   "id": "0cc4433e-f586-40c5-817b-54d35bff8f21",
   "metadata": {},
   "outputs": [
    {
     "data": {
      "text/plain": [
       "False"
      ]
     },
     "execution_count": 58,
     "metadata": {},
     "output_type": "execute_result"
    }
   ],
   "source": [
    "# 12. Check if a set is a subset of another set.\n",
    "a={1,2,3,4,5,6}\n",
    "b={7,8,9,4,2,3,11,56}\n",
    "a.issubset(b)"
   ]
  },
  {
   "cell_type": "code",
   "execution_count": 59,
   "id": "ef3414be-058f-4dad-a8da-46e0261de029",
   "metadata": {},
   "outputs": [
    {
     "data": {
      "text/plain": [
       "False"
      ]
     },
     "execution_count": 59,
     "metadata": {},
     "output_type": "execute_result"
    }
   ],
   "source": [
    "# 13. Check if a set is a superset of another set.\n",
    "a={1,2,3,4,5,6}\n",
    "b={7,8,9,4,2,3,11,56}\n",
    "a.issuperset(b)"
   ]
  },
  {
   "cell_type": "code",
   "execution_count": 61,
   "id": "d3f99a2a-a5ec-486a-849a-b94c3bc166d6",
   "metadata": {},
   "outputs": [
    {
     "data": {
      "text/plain": [
       "{1, 2, 3, 4, 5}"
      ]
     },
     "execution_count": 61,
     "metadata": {},
     "output_type": "execute_result"
    }
   ],
   "source": [
    "# 14. Create a set from a list.\n",
    "ls1=[1,2,3,4,5]\n",
    "set(ls1)"
   ]
  },
  {
   "cell_type": "code",
   "execution_count": 62,
   "id": "6bbd6228-f156-454f-a496-d4c3ec76c643",
   "metadata": {},
   "outputs": [
    {
     "data": {
      "text/plain": [
       "[1, 2, 3, 4, 5]"
      ]
     },
     "execution_count": 62,
     "metadata": {},
     "output_type": "execute_result"
    }
   ],
   "source": [
    "# 15. Convert a set to a list.\n",
    "set1={1,2,3,4,5}\n",
    "list(set1)"
   ]
  },
  {
   "cell_type": "code",
   "execution_count": 17,
   "id": "f3dc5894-f66e-4536-abfc-d3971ff43653",
   "metadata": {},
   "outputs": [
    {
     "name": "stdout",
     "output_type": "stream",
     "text": [
      "{1, 2, 4, 5}\n"
     ]
    }
   ],
   "source": [
    "# 16. Remove a random element from a set.\n",
    "import random\n",
    "set1={1,2,3,4,5}\n",
    "random_element=random.choice(list(set1))\n",
    "set1.remove(random_element)\n",
    "print(set1)"
   ]
  },
  {
   "cell_type": "code",
   "execution_count": 68,
   "id": "bca37132-9cb4-4c65-abde-bf368bdb0924",
   "metadata": {},
   "outputs": [
    {
     "name": "stdout",
     "output_type": "stream",
     "text": [
      "{2, 3, 4, 5}\n"
     ]
    }
   ],
   "source": [
    "# 17. Pop an element from a set.\n",
    "set1={1,2,3,4,5}\n",
    "set1.pop()\n",
    "print(set1)"
   ]
  },
  {
   "cell_type": "code",
   "execution_count": 70,
   "id": "aae60211-fe82-4422-aae9-e14fc3178a33",
   "metadata": {},
   "outputs": [
    {
     "name": "stdout",
     "output_type": "stream",
     "text": [
      "commen element not present\n"
     ]
    }
   ],
   "source": [
    "# 18. Check if two sets have no elements in common.\n",
    "a={1,2,3,4,5,6}\n",
    "b={7,8,9,11,56}\n",
    "if a.intersection(b):\n",
    "    print(\"commen element present\")\n",
    "else:\n",
    "    print(\"commen element not present\")"
   ]
  },
  {
   "cell_type": "code",
   "execution_count": 71,
   "id": "b470f467-fde3-4750-9fa3-1df4dacdbb99",
   "metadata": {},
   "outputs": [
    {
     "data": {
      "text/plain": [
       "{1, 2, 3, 4, 5, 6, 7, 8, 9, 11, 56}"
      ]
     },
     "execution_count": 71,
     "metadata": {},
     "output_type": "execute_result"
    }
   ],
   "source": [
    "# 19. Find the symmetric difference between two sets.\n",
    "a={1,2,3,4,5,6}\n",
    "b={7,8,9,11,56}\n",
    "a.symmetric_difference(b) \n",
    "   "
   ]
  },
  {
   "cell_type": "code",
   "execution_count": 74,
   "id": "4cf7cc76-17ff-4be3-baa9-492ee46805b2",
   "metadata": {},
   "outputs": [
    {
     "name": "stdout",
     "output_type": "stream",
     "text": [
      "{1, 2, 3, 4, 5, 6, 7, 8, 9, 11, 56}\n"
     ]
    }
   ],
   "source": [
    "# 20. Update a set with elements from another set.\n",
    "a={1,2,3,4,5,6}\n",
    "b={7,8,9,11,56}\n",
    "a.update(b)\n",
    "print(a)"
   ]
  },
  {
   "cell_type": "code",
   "execution_count": null,
   "id": "509567a6-e90e-4cb1-8cc0-b963d243e602",
   "metadata": {},
   "outputs": [],
   "source": [
    "# 21. Create a set of the first 5 prime numbers.\n"
   ]
  },
  {
   "cell_type": "code",
   "execution_count": 75,
   "id": "9a826192-82b7-4579-b687-bbe25c548d71",
   "metadata": {},
   "outputs": [
    {
     "name": "stdout",
     "output_type": "stream",
     "text": [
      "unidentical sets\n"
     ]
    }
   ],
   "source": [
    "# 22. Check if two sets are identical.\n",
    "s1={1,2,3,4,5,6}\n",
    "s2={7,8,9,4,5,6}\n",
    "if s1==s2:\n",
    "    print(\"identical set\")\n",
    "else:\n",
    "    print(\"unidentical sets\")"
   ]
  },
  {
   "cell_type": "code",
   "execution_count": 77,
   "id": "b235f3f7-0148-4b1f-b8dc-e251d553512a",
   "metadata": {},
   "outputs": [],
   "source": [
    "# 23. Create a frozen set.\n",
    "animals = frozenset([\"cat\", \"dog\", \"lion\"])"
   ]
  },
  {
   "cell_type": "code",
   "execution_count": 78,
   "id": "1dd53be0-5b58-49c7-b406-bd9bc3e6d45a",
   "metadata": {},
   "outputs": [
    {
     "name": "stdout",
     "output_type": "stream",
     "text": [
      " set is disjoint\n"
     ]
    }
   ],
   "source": [
    "# 24. Check if a set is disjoint with another set.\n",
    "a={1,2,3,4,5,6}\n",
    "b={7,8,9,11,56}\n",
    "if a.intersection(b):\n",
    "    print(\" set is not disjoint\")\n",
    "else:\n",
    "    print(\" set is disjoint\")"
   ]
  },
  {
   "cell_type": "code",
   "execution_count": 80,
   "id": "ae87183d-f537-4645-a3a2-ccf431c66529",
   "metadata": {},
   "outputs": [
    {
     "data": {
      "text/plain": [
       "{1, 4, 9, 16, 25}"
      ]
     },
     "execution_count": 80,
     "metadata": {},
     "output_type": "execute_result"
    }
   ],
   "source": [
    "# 25. Create a set of squares of numbers from 1 to 5.\n",
    "{i**2 for i in range(1,6)}"
   ]
  },
  {
   "cell_type": "code",
   "execution_count": 82,
   "id": "e99949e5-4b45-4f39-97eb-5bd9be1ce52d",
   "metadata": {},
   "outputs": [
    {
     "data": {
      "text/plain": [
       "{0, 1, 4, 9, 16, 25, 36, 49, 64, 81}"
      ]
     },
     "execution_count": 82,
     "metadata": {},
     "output_type": "execute_result"
    }
   ],
   "source": [
    "# 26. Filter out all even numbers from a set.\n",
    "{i**2 for i in range(10)}"
   ]
  },
  {
   "cell_type": "code",
   "execution_count": 83,
   "id": "b067cf9e-7591-4361-be01-c0549d7f7e18",
   "metadata": {},
   "outputs": [
    {
     "data": {
      "text/plain": [
       "{0, 2, 4, 6, 8, 10, 12, 14, 16, 18}"
      ]
     },
     "execution_count": 83,
     "metadata": {},
     "output_type": "execute_result"
    }
   ],
   "source": [
    "# 27. Multiply all elements in a set by 2.\n",
    "{i*2for i in range(10)}"
   ]
  },
  {
   "cell_type": "code",
   "execution_count": null,
   "id": "a2385e7d-5fef-43f7-9692-9bcc95c81b9b",
   "metadata": {},
   "outputs": [],
   "source": [
    "# 28. Create a set of random numbers.\n"
   ]
  },
  {
   "cell_type": "code",
   "execution_count": 85,
   "id": "09116a8e-3368-489e-868d-c25d4bb5ec43",
   "metadata": {},
   "outputs": [
    {
     "name": "stdout",
     "output_type": "stream",
     "text": [
      "set is not empty\n"
     ]
    }
   ],
   "source": [
    "# 29. Check if a set is empty.\n",
    "a_1={1,2,3,4,5,6}\n",
    "if len(a_1)==0:\n",
    "    print(\"empty set\")\n",
    "else:\n",
    "    print(\"set is not empty\")"
   ]
  },
  {
   "cell_type": "code",
   "execution_count": 20,
   "id": "75ea52db-d2b6-4ab5-9756-5151552c426a",
   "metadata": {},
   "outputs": [
    {
     "name": "stdout",
     "output_type": "stream",
     "text": [
      "nestedset= {frozenset({1, 2, 3, 4, 5}), frozenset({8, 9, 7})}\n"
     ]
    }
   ],
   "source": [
    "# 30. Create a nested set (hint: use frozenset).\n",
    "set1={1,2,3,4,5}\n",
    "set2={7,8,9}\n",
    "set1=frozenset(set1)\n",
    "set2=frozenset(set2)\n",
    "set4={set1,set2}\n",
    "print(\"nestedset=\",set4)"
   ]
  },
  {
   "cell_type": "code",
   "execution_count": 21,
   "id": "8ec0270e-67eb-4224-9171-1cf018e0b681",
   "metadata": {},
   "outputs": [
    {
     "name": "stdout",
     "output_type": "stream",
     "text": [
      "{1, 3, 4, 5}\n"
     ]
    }
   ],
   "source": [
    "# 31. Remove an element from a set using the discard method.\n",
    "set1={1,2,3,4,5}\n",
    "set1.discard(2)\n",
    "print(set1)"
   ]
  },
  {
   "cell_type": "code",
   "execution_count": 24,
   "id": "844db296-8971-42ec-9337-1c021f1241a2",
   "metadata": {},
   "outputs": [
    {
     "name": "stdout",
     "output_type": "stream",
     "text": [
      "not equal set\n"
     ]
    }
   ],
   "source": [
    "# 32. Compare two sets.\n",
    "set1={1,2,3,4,5}\n",
    "set2={7,8,9,6}\n",
    "if len(set1)==len(set2)and set1==set1.intersection(set2):\n",
    "    \n",
    "    print(\"set is equal\")\n",
    "else:\n",
    "    print(\"not equal set\")"
   ]
  },
  {
   "cell_type": "code",
   "execution_count": 25,
   "id": "ff28b710-320e-454a-b654-b53b43b78833",
   "metadata": {},
   "outputs": [
    {
     "data": {
      "text/plain": [
       "{'a', 'b', 'd', 'i', 'u'}"
      ]
     },
     "execution_count": 25,
     "metadata": {},
     "output_type": "execute_result"
    }
   ],
   "source": [
    "# 33. Create a set from a string.\n",
    "str1=\"ubaid\"\n",
    "set(str1)"
   ]
  },
  {
   "cell_type": "code",
   "execution_count": 34,
   "id": "cae66f27-2740-4710-ad2d-b1efba4c6b9d",
   "metadata": {},
   "outputs": [
    {
     "name": "stdout",
     "output_type": "stream",
     "text": [
      "{8, 1, 4, 5}\n"
     ]
    }
   ],
   "source": [
    "# 34. Convert a set of strings to a set of integers.\n",
    "set_str={\"1\",\"5\",\"8\",\"4\"}\n",
    "set_int=set()\n",
    "for i in set_str:\n",
    "    integer=int(i)\n",
    "    set_int.add(integer)\n",
    "print(set_int)\n"
   ]
  },
  {
   "cell_type": "code",
   "execution_count": 36,
   "id": "37c97e9e-c240-4ed5-aa25-60472a89ed4a",
   "metadata": {},
   "outputs": [
    {
     "name": "stdout",
     "output_type": "stream",
     "text": [
      "{'8', '4', '5', '1'}\n"
     ]
    }
   ],
   "source": [
    "# 35. Convert a set of integers to a set of strings.\n",
    "set_str=set()\n",
    "for i in set_int:\n",
    "    string=str(i)\n",
    "    set_str.add(string)\n",
    "print(set_str)    "
   ]
  },
  {
   "cell_type": "code",
   "execution_count": 37,
   "id": "e3c7e297-afbc-4dfe-81d4-f4695d6e2d75",
   "metadata": {},
   "outputs": [
    {
     "name": "stdout",
     "output_type": "stream",
     "text": [
      "{1, 2, 3, 4, 5}\n"
     ]
    }
   ],
   "source": [
    "# 36. Create a set from a tuple.\n",
    "tuple1=(1,2,3,4,5)\n",
    "tuple2=set(tuple1)\n",
    "print(tuple2)"
   ]
  },
  {
   "cell_type": "code",
   "execution_count": 41,
   "id": "3a414b2f-27d2-44fd-aa78-3fa4be539cf1",
   "metadata": {},
   "outputs": [
    {
     "data": {
      "text/plain": [
       "(1, 2, 3, 4, 5)"
      ]
     },
     "execution_count": 41,
     "metadata": {},
     "output_type": "execute_result"
    }
   ],
   "source": [
    "# 37. Convert a set to a tuple.\n",
    "tuple(i for i in tuple2)\n",
    "    "
   ]
  },
  {
   "cell_type": "code",
   "execution_count": 43,
   "id": "4982ee96-1a10-469b-a48f-03c383050600",
   "metadata": {},
   "outputs": [
    {
     "data": {
      "text/plain": [
       "89"
      ]
     },
     "execution_count": 43,
     "metadata": {},
     "output_type": "execute_result"
    }
   ],
   "source": [
    "# 38. Find the maximum value in a set.\n",
    "set_1={7,8,9,4,54,7,89,21}\n",
    "max(set_1)"
   ]
  },
  {
   "cell_type": "code",
   "execution_count": 44,
   "id": "a239b32d-6544-4e54-9b00-81dec946a2b7",
   "metadata": {},
   "outputs": [
    {
     "data": {
      "text/plain": [
       "4"
      ]
     },
     "execution_count": 44,
     "metadata": {},
     "output_type": "execute_result"
    }
   ],
   "source": [
    "# 39. Find the minimum value in a set.\n",
    "set_1={7,8,9,4,54,7,89,21}\n",
    "min(set_1)"
   ]
  },
  {
   "cell_type": "code",
   "execution_count": 46,
   "id": "9620d3b8-80a2-47c6-a75d-bcf2f349a88a",
   "metadata": {},
   "outputs": [
    {
     "name": "stdin",
     "output_type": "stream",
     "text": [
      "enter the value in sets 1,2,3,4,7,8\n"
     ]
    },
    {
     "name": "stdout",
     "output_type": "stream",
     "text": [
      "{'8', '1', '7', '3', '2', ',', '4'}\n"
     ]
    }
   ],
   "source": [
    "# 40. Create a set from user input.\n",
    "set_user=set(input(\"enter the value in sets\"))\n",
    "print(set_user)"
   ]
  },
  {
   "cell_type": "code",
   "execution_count": 1,
   "id": "cf31b7a3-054f-4a42-9ecf-85421c2ecb11",
   "metadata": {},
   "outputs": [
    {
     "name": "stdout",
     "output_type": "stream",
     "text": [
      "intersection of two set is empty\n"
     ]
    }
   ],
   "source": [
    "# 41. Check if the intersection of two sets is empty.\n",
    "seta={1,1,2,4,7,8,9}\n",
    "setb={3,6,10,45,78,96}\n",
    "if seta.intersection(setb)==set():\n",
    "    \n",
    "    print(\"intersection of two set is empty\")\n",
    "else:\n",
    "    print(\"intersection of two set is not empty\")"
   ]
  },
  {
   "cell_type": "code",
   "execution_count": null,
   "id": "ca8fa3dc-b09c-4611-bccd-a3a043606319",
   "metadata": {},
   "outputs": [],
   "source": [
    "# 42. Create a set of the first 5 Fibonacci numbers.\n"
   ]
  },
  {
   "cell_type": "code",
   "execution_count": 2,
   "id": "d0392c36-87e9-4acc-9b14-b7b149c04c54",
   "metadata": {},
   "outputs": [
    {
     "name": "stdout",
     "output_type": "stream",
     "text": [
      "{1, 2, 3, 4, 5, 6, 7, 8, 9}\n"
     ]
    }
   ],
   "source": [
    "# 43. Remove duplicates from a list using sets.\n",
    "l_set=[1,2,4,5,8,7,4,5,2,6,1,9,3,4,7]\n",
    "l_set2=set(l_set)\n",
    "print(l_set2)"
   ]
  },
  {
   "cell_type": "code",
   "execution_count": 5,
   "id": "147857ea-5979-456a-bd54-cd17d6e9ddba",
   "metadata": {},
   "outputs": [
    {
     "name": "stdout",
     "output_type": "stream",
     "text": [
      "same set\n"
     ]
    }
   ],
   "source": [
    "# 44. Check if two sets have the same elements, regardless of their count.\n",
    "set_a={1,2,3,4}\n",
    "set_b={1,2,3,4}\n",
    "if set_a==set_b:\n",
    "    print(\"same set\")\n",
    "else:\n",
    "    print(\"not same \")"
   ]
  },
  {
   "cell_type": "code",
   "execution_count": 6,
   "id": "b8cd008c-c50a-4ad7-9b52-c2773e6d4382",
   "metadata": {},
   "outputs": [
    {
     "name": "stdin",
     "output_type": "stream",
     "text": [
      "please give the range 10\n"
     ]
    },
    {
     "data": {
      "text/plain": [
       "{1, 2, 4, 8, 16, 32, 64, 128, 256, 512}"
      ]
     },
     "execution_count": 6,
     "metadata": {},
     "output_type": "execute_result"
    }
   ],
   "source": [
    "# 45. Create a set of the first `n` powers of 2.\n",
    "n=int(input(\"please give the range\"))\n",
    "{2**i for i in range(n)}"
   ]
  },
  {
   "cell_type": "code",
   "execution_count": 7,
   "id": "08cd8402-191b-492d-b2f9-d7f219e24d17",
   "metadata": {},
   "outputs": [
    {
     "name": "stdout",
     "output_type": "stream",
     "text": [
      "common elements are: {1, 2, 4}\n"
     ]
    }
   ],
   "source": [
    "# 46. Find the common elements between a set and a list.\n",
    "lset=[1,2,3,4,5]\n",
    "set_common={7,8,9,4,2,1}\n",
    "lset1=set(lset)\n",
    "x=lset1.intersection(set_common)\n",
    "print(\"common elements are:\",x)"
   ]
  },
  {
   "cell_type": "code",
   "execution_count": 8,
   "id": "29356233-ca35-4adf-a588-52467819daf7",
   "metadata": {},
   "outputs": [
    {
     "name": "stdin",
     "output_type": "stream",
     "text": [
      "please give the range 10\n"
     ]
    },
    {
     "data": {
      "text/plain": [
       "{1, 3, 9, 27, 81, 243, 729, 2187, 6561, 19683}"
      ]
     },
     "execution_count": 8,
     "metadata": {},
     "output_type": "execute_result"
    }
   ],
   "source": [
    "# 47. Create a set of the first `n` triangular numbers.\n",
    "n=int(input(\"please give the range\"))\n",
    "{3**i for i in range(n)}"
   ]
  },
  {
   "cell_type": "code",
   "execution_count": 15,
   "id": "f8768eda-fb81-4000-b1f8-e32fdde02774",
   "metadata": {},
   "outputs": [],
   "source": [
    "# 48. Check if a set contains another set as a subset.\n",
    "set_subset={1,2,4,5,7}"
   ]
  },
  {
   "cell_type": "code",
   "execution_count": null,
   "id": "ab799ef5-1d88-40ce-bf6c-a15870a0bda3",
   "metadata": {},
   "outputs": [],
   "source": [
    "# 49. Create a set of alternating 1s and 0s of length `n`.\n",
    "n=10\n",
    "i=0\n",
    "while i<=10:\n",
    "    print(\"1 0\")\n",
    "    "
   ]
  },
  {
   "cell_type": "code",
   "execution_count": 18,
   "id": "6b3c93a7-dc55-4b6f-8d24-e82b20520009",
   "metadata": {},
   "outputs": [
    {
     "name": "stdout",
     "output_type": "stream",
     "text": [
      "{1, 2, 4, 5, 6, 7, 8, 9, 420, 69, 78}\n"
     ]
    }
   ],
   "source": [
    "# 50. Merge multiple sets into one.\n",
    "setx={1,2,4,5}\n",
    "sety={7,8,9,5}\n",
    "setu={4,5,6,8}\n",
    "setr={78,420,69}\n",
    "setg=setx.union(sety)\n",
    "setd=setg.union(setu)\n",
    "seth=setd.union(setr)\n",
    "print(seth)"
   ]
  }
 ],
 "metadata": {
  "kernelspec": {
   "display_name": "Python 3 (ipykernel)",
   "language": "python",
   "name": "python3"
  },
  "language_info": {
   "codemirror_mode": {
    "name": "ipython",
    "version": 3
   },
   "file_extension": ".py",
   "mimetype": "text/x-python",
   "name": "python",
   "nbconvert_exporter": "python",
   "pygments_lexer": "ipython3",
   "version": "3.10.8"
  }
 },
 "nbformat": 4,
 "nbformat_minor": 5
}
