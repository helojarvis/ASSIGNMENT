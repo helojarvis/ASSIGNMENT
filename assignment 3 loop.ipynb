{
 "cells": [
  {
   "cell_type": "markdown",
   "id": "585d6d10-b124-43ae-bd79-9c0832eb8cb6",
   "metadata": {},
   "source": [
    "#basic level"
   ]
  },
  {
   "cell_type": "code",
   "execution_count": 2,
   "id": "36481f1c-8273-491b-94e3-8ef34a6ccafe",
   "metadata": {},
   "outputs": [
    {
     "name": "stdout",
     "output_type": "stream",
     "text": [
      "012345678910"
     ]
    }
   ],
   "source": [
    "for i in range(11):\n",
    "    print(i,end=\" \")"
   ]
  },
  {
   "cell_type": "code",
   "execution_count": 3,
   "id": "223f1ad5-ecfd-495c-a06e-3f15bacca0c0",
   "metadata": {},
   "outputs": [
    {
     "name": "stdout",
     "output_type": "stream",
     "text": [
      "sum of all the no. inh a list is: 21\n"
     ]
    }
   ],
   "source": [
    "sum=0\n",
    "list1=[1,2,3,4,5,6]\n",
    "for i in list1:\n",
    "    sum=sum+i\n",
    "print('sum of all the no. inh a list is:',sum)    "
   ]
  },
  {
   "cell_type": "code",
   "execution_count": 2,
   "id": "cea6a0e0-4d33-4e3f-af2b-baebc9c2a035",
   "metadata": {},
   "outputs": [
    {
     "name": "stdout",
     "output_type": "stream",
     "text": [
      "d a h s r a d i a b u "
     ]
    }
   ],
   "source": [
    "str1=\"ubaidarshad\"\n",
    "for i in range(len(str1)-1,-1,-1):\n",
    "    print(str1[i],end=\" \")"
   ]
  },
  {
   "cell_type": "code",
   "execution_count": 13,
   "id": "df4ffe9c-ca63-4d9b-a973-f8ea5e8d1bb5",
   "metadata": {},
   "outputs": [
    {
     "name": "stdin",
     "output_type": "stream",
     "text": [
      "enter the value 4\n"
     ]
    },
    {
     "name": "stdout",
     "output_type": "stream",
     "text": [
      "24\n"
     ]
    }
   ],
   "source": [
    "fact=1\n",
    "n=int(input(\"enter the value\"))\n",
    "for i in range(n,0,-1):\n",
    "    fact=fact*i\n",
    "print(fact)"
   ]
  },
  {
   "cell_type": "code",
   "execution_count": 17,
   "id": "1d042df6-df45-4f7f-8074-f9122bb1675e",
   "metadata": {},
   "outputs": [
    {
     "name": "stdin",
     "output_type": "stream",
     "text": [
      "please tell me which value of table you want 4\n"
     ]
    },
    {
     "name": "stdout",
     "output_type": "stream",
     "text": [
      "4 * 1 = 4\n",
      "4 * 2 = 8\n",
      "4 * 3 = 12\n",
      "4 * 4 = 16\n",
      "4 * 5 = 20\n",
      "4 * 6 = 24\n",
      "4 * 7 = 28\n",
      "4 * 8 = 32\n",
      "4 * 9 = 36\n",
      "4 * 10 = 40\n"
     ]
    }
   ],
   "source": [
    "m=int(input(\"please tell me which value of table you want\"))\n",
    "for i in range(1,11):\n",
    "    print(m,\"*\",i,\"=\",m*i)"
   ]
  },
  {
   "cell_type": "code",
   "execution_count": 19,
   "id": "be902a6e-d479-4838-9d3c-8098890a5099",
   "metadata": {},
   "outputs": [
    {
     "name": "stdout",
     "output_type": "stream",
     "text": [
      "the no.of even values are: 5\n",
      "the no.of odd values are: 6\n"
     ]
    }
   ],
   "source": [
    "count=0\n",
    "count1=0\n",
    "list_eo=[1,2,3,4,5,6,7,8,9,10,11]\n",
    "for i in list_eo:\n",
    "    if i%2==0:\n",
    "        count+=1\n",
    "    else:\n",
    "        count1+=1\n",
    "print(\"the no.of even values are:\",count)        \n",
    "print(\"the no.of odd values are:\",count1)    "
   ]
  },
  {
   "cell_type": "code",
   "execution_count": 21,
   "id": "10fef05f-7fd5-49b1-a651-1eaa8a4d7075",
   "metadata": {},
   "outputs": [
    {
     "name": "stdout",
     "output_type": "stream",
     "text": [
      "square of number is: 1\n",
      "square of number is: 4\n",
      "square of number is: 9\n",
      "square of number is: 16\n",
      "square of number is: 25\n"
     ]
    }
   ],
   "source": [
    "for i in range(1,6):\n",
    "    print(\"square of number is:\",i**2)"
   ]
  },
  {
   "cell_type": "code",
   "execution_count": 22,
   "id": "88364020-ed7d-4473-9b3d-fa3a3e546bb2",
   "metadata": {},
   "outputs": [
    {
     "name": "stdout",
     "output_type": "stream",
     "text": [
      "11\n"
     ]
    }
   ],
   "source": [
    "count=0\n",
    "str3=\"bghyjiklopg\"\n",
    "for i in str3:\n",
    "    count+=1\n",
    "print(count)    "
   ]
  },
  {
   "cell_type": "code",
   "execution_count": 23,
   "id": "6fc81e88-d881-4d15-a0a4-017267a6aa70",
   "metadata": {},
   "outputs": [
    {
     "name": "stdout",
     "output_type": "stream",
     "text": [
      "5.0\n"
     ]
    }
   ],
   "source": [
    "sum=0\n",
    "list6=[1,2,3,4,5,6,7,8,9]\n",
    "for i in list6:\n",
    "    sum=sum+i\n",
    "print(sum/len(list6))    \n",
    "    "
   ]
  },
  {
   "cell_type": "code",
   "execution_count": 27,
   "id": "e9e07192-28db-405e-8e31-39200570d981",
   "metadata": {},
   "outputs": [
    {
     "name": "stdin",
     "output_type": "stream",
     "text": [
      "please give range for fabonacci series 10\n"
     ]
    },
    {
     "name": "stdout",
     "output_type": "stream",
     "text": [
      "0 1 1 2 3 5 8 13 21 34 "
     ]
    }
   ],
   "source": [
    "num=int(input(\"please give range for fabonacci series\"))\n",
    "n1=0\n",
    "n2=1\n",
    "print(n1,end=\" \")\n",
    "print(n2,end=\" \")\n",
    "for i in range(2,num):\n",
    "    n3=n1+n2\n",
    "    n1=n2\n",
    "    n2=n3\n",
    "    print(n3,end=\" \")\n",
    "    "
   ]
  },
  {
   "cell_type": "markdown",
   "id": "4199991a-c941-474c-ac77-8a1e192cfac1",
   "metadata": {},
   "source": [
    "#intermediate level"
   ]
  },
  {
   "cell_type": "code",
   "execution_count": 17,
   "id": "c0ab9982-48a4-4e21-8cbd-790b87381301",
   "metadata": {},
   "outputs": [
    {
     "name": "stdout",
     "output_type": "stream",
     "text": [
      "5 duplicates found\n",
      "4 duplicates found\n",
      "4 duplicates found\n",
      "1 duplicates found\n",
      "2 duplicates found\n",
      "3 duplicates found\n"
     ]
    }
   ],
   "source": [
    "list_dup2=[]\n",
    "list_dup=[1,2,3,4,5,6,5,4,7,4,1,2,3]\n",
    "for i in list_dup:\n",
    "    if i not in list_dup2:\n",
    "        list_dup2.append(i)\n",
    "    else:\n",
    "        print(i,\"duplicates found\")"
   ]
  },
  {
   "cell_type": "code",
   "execution_count": 11,
   "id": "f52109cf-526b-4376-b4bf-bec367ddc5ad",
   "metadata": {},
   "outputs": [],
   "source": [
    "# num=int(input(\"please give range for prime number\"))\n",
    "# for i in range(num):\n",
    "#     for j in range(2,int(num/2)+1):\n",
    "#         if i<=0:\n",
    "#             print(i,\"not prime \")\n",
    "#         elif i%j==0:\n",
    "#             print(i,\"not prime\")\n",
    "#             break\n",
    "#     else:      \n",
    "#         print(\"prime\")"
   ]
  },
  {
   "cell_type": "code",
   "execution_count": 19,
   "id": "2ed4abfe-1eff-443b-b116-2860669cd7dc",
   "metadata": {},
   "outputs": [
    {
     "name": "stdout",
     "output_type": "stream",
     "text": [
      "5\n"
     ]
    }
   ],
   "source": [
    "count=0\n",
    "str3=\"ubaidarshad\"\n",
    "vowel=\"aeiou\"\n",
    "for i in str3:\n",
    "    if i in vowel:\n",
    "        count+=1\n",
    "print(count)        "
   ]
  },
  {
   "cell_type": "code",
   "execution_count": 23,
   "id": "eeab8382-35d4-42b3-93de-c12efc3189f3",
   "metadata": {},
   "outputs": [
    {
     "name": "stdout",
     "output_type": "stream",
     "text": [
      "9\n"
     ]
    }
   ],
   "source": [
    "count=0\n",
    "lst4=[1,2,3,4,5,6,7,8,9]\n",
    "for i in lst4:\n",
    "        count+=1\n",
    "print(count)        "
   ]
  },
  {
   "cell_type": "code",
   "execution_count": 28,
   "id": "cf2c71a7-93de-4d3c-884c-763eb77fb183",
   "metadata": {},
   "outputs": [
    {
     "name": "stdout",
     "output_type": "stream",
     "text": [
      "1\n",
      "2\n",
      "3\n",
      "4\n",
      "6\n"
     ]
    }
   ],
   "source": [
    "lst5=[1,2,3,4,5,6]\n",
    "for i in lst5:\n",
    "    if i==5:\n",
    "        continue\n",
    "    print(i)\n",
    "  "
   ]
  },
  {
   "cell_type": "code",
   "execution_count": 32,
   "id": "01a36b45-ba0f-41dd-873c-f14b29ca2561",
   "metadata": {},
   "outputs": [
    {
     "name": "stdout",
     "output_type": "stream",
     "text": [
      "5 * 1 = 5\n",
      "5 * 2 = 10\n",
      "5 * 3 = 15\n",
      "5 * 4 = 20\n",
      "5 * 5 = 25\n",
      "5 * 6 = 30\n",
      "5 * 7 = 35\n",
      "5 * 8 = 40\n",
      "5 * 9 = 45\n",
      "5 * 10 = 50\n",
      "4 * 1 = 4\n",
      "4 * 2 = 8\n",
      "4 * 3 = 12\n",
      "4 * 4 = 16\n",
      "4 * 5 = 20\n",
      "4 * 6 = 24\n",
      "4 * 7 = 28\n",
      "4 * 8 = 32\n",
      "4 * 9 = 36\n",
      "4 * 10 = 40\n",
      "3 * 1 = 3\n",
      "3 * 2 = 6\n",
      "3 * 3 = 9\n",
      "3 * 4 = 12\n",
      "3 * 5 = 15\n",
      "3 * 6 = 18\n",
      "3 * 7 = 21\n",
      "3 * 8 = 24\n",
      "3 * 9 = 27\n",
      "3 * 10 = 30\n",
      "2 * 1 = 2\n",
      "2 * 2 = 4\n",
      "2 * 3 = 6\n",
      "2 * 4 = 8\n",
      "2 * 5 = 10\n",
      "2 * 6 = 12\n",
      "2 * 7 = 14\n",
      "2 * 8 = 16\n",
      "2 * 9 = 18\n",
      "2 * 10 = 20\n",
      "1 * 1 = 1\n",
      "1 * 2 = 2\n",
      "1 * 3 = 3\n",
      "1 * 4 = 4\n",
      "1 * 5 = 5\n",
      "1 * 6 = 6\n",
      "1 * 7 = 7\n",
      "1 * 8 = 8\n",
      "1 * 9 = 9\n",
      "1 * 10 = 10\n"
     ]
    }
   ],
   "source": [
    "for i in range(5,0,-1):\n",
    "    for j in range(1,11):\n",
    "        print(i,\"*\",j,\"=\",i*j)"
   ]
  },
  {
   "cell_type": "code",
   "execution_count": 35,
   "id": "6ae70114-2a9b-4f7f-a5ad-bb0947f159b6",
   "metadata": {},
   "outputs": [
    {
     "name": "stdout",
     "output_type": "stream",
     "text": [
      "the temp.in farhenheit is:\n",
      "50.0\n",
      "68.0\n",
      "86.0\n",
      "122.0\n",
      "116.672\n"
     ]
    }
   ],
   "source": [
    "print(\"the temp.in farhenheit is:\")\n",
    "lst6=[10,20,30,50,47.04]\n",
    "for i in lst6:\n",
    "    print((1.8*i)+32)"
   ]
  },
  {
   "cell_type": "code",
   "execution_count": 36,
   "id": "a1763517-e0a1-4ed6-b1aa-2ed759472f47",
   "metadata": {},
   "outputs": [
    {
     "name": "stdout",
     "output_type": "stream",
     "text": [
      "4\n",
      "5\n"
     ]
    }
   ],
   "source": [
    "ls1=[1,2,3,4,5]\n",
    "ls2=[4,5,6,7,8]\n",
    "for i in ls1:\n",
    "    for j in ls2:\n",
    "        if i==j:\n",
    "            print(i)\n",
    "     "
   ]
  },
  {
   "cell_type": "code",
   "execution_count": 51,
   "id": "5c23ff3b-aa91-4f0c-91fe-a14d34991b4f",
   "metadata": {},
   "outputs": [
    {
     "name": "stdout",
     "output_type": "stream",
     "text": [
      "*\n",
      "**\n",
      "***\n",
      "****\n"
     ]
    }
   ],
   "source": [
    "num=5\n",
    "for i in range(1,num):\n",
    "    for j in range(1,num+1):\n",
    "        if i>=j:\n",
    "            print(\"*\",end=\"\")\n",
    "    print()        "
   ]
  },
  {
   "cell_type": "code",
   "execution_count": 2,
   "id": "0c116235-89e0-4161-a858-71a147a8816f",
   "metadata": {},
   "outputs": [
    {
     "data": {
      "text/plain": [
       "2"
      ]
     },
     "execution_count": 2,
     "metadata": {},
     "output_type": "execute_result"
    }
   ],
   "source": [
    "import math\n",
    "a,b=10,6\n",
    "math.gcd(a,b)"
   ]
  },
  {
   "cell_type": "markdown",
   "id": "9990d616-4764-4701-9733-0fb51b1f0e29",
   "metadata": {},
   "source": [
    "#advance level"
   ]
  },
  {
   "cell_type": "code",
   "execution_count": 1,
   "id": "99dfb20a-e17f-48ad-8b3a-8b20f235f792",
   "metadata": {},
   "outputs": [
    {
     "name": "stdout",
     "output_type": "stream",
     "text": [
      "15\n"
     ]
    }
   ],
   "source": [
    "sum=0\n",
    "list_sum1=[1,2,3,4,5]\n",
    "for i in list_sum1:\n",
    "    sum=sum+i\n",
    "print(sum)    "
   ]
  },
  {
   "cell_type": "code",
   "execution_count": null,
   "id": "2e493eb8-6a27-4c30-ae6c-14cba48de95e",
   "metadata": {},
   "outputs": [],
   "source": []
  },
  {
   "cell_type": "code",
   "execution_count": null,
   "id": "4a93a041-499a-49e3-9a8e-5859e8d55b5c",
   "metadata": {},
   "outputs": [],
   "source": []
  },
  {
   "cell_type": "code",
   "execution_count": null,
   "id": "e4591a46-2a74-4f49-9c10-18a6ddc2190d",
   "metadata": {},
   "outputs": [],
   "source": []
  },
  {
   "cell_type": "code",
   "execution_count": null,
   "id": "e4a84a26-4b6a-4844-a1e0-2e8d424618bc",
   "metadata": {},
   "outputs": [],
   "source": []
  },
  {
   "cell_type": "code",
   "execution_count": null,
   "id": "baf914f7-abbe-441a-bb14-458e9109a9ba",
   "metadata": {},
   "outputs": [],
   "source": []
  }
 ],
 "metadata": {
  "kernelspec": {
   "display_name": "Python 3 (ipykernel)",
   "language": "python",
   "name": "python3"
  },
  "language_info": {
   "codemirror_mode": {
    "name": "ipython",
    "version": 3
   },
   "file_extension": ".py",
   "mimetype": "text/x-python",
   "name": "python",
   "nbconvert_exporter": "python",
   "pygments_lexer": "ipython3",
   "version": "3.10.8"
  }
 },
 "nbformat": 4,
 "nbformat_minor": 5
}
